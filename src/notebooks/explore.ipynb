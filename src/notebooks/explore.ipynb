{
 "cells": [
  {
   "cell_type": "markdown",
   "metadata": {
    "vscode": {
     "languageId": "plaintext"
    }
   },
   "source": [
    "Exploring Basics of Regular Expressions"
   ]
  },
  {
   "cell_type": "code",
   "execution_count": 30,
   "metadata": {},
   "outputs": [],
   "source": [
    "# Required Modules\n",
    "\n",
    "import re\n",
    "import pandas as pd\n",
    "import numpy as np\n",
    "import regex\n",
    "import pygrep\n",
    "import flashtext\n",
    "import spacy\n",
    "import loguru\n",
    "import pyspark\n",
    "import kafka\n",
    "import os\n",
    "import gzip\n",
    "import shutil\n",
    "import requests"
   ]
  },
  {
   "cell_type": "code",
   "execution_count": 12,
   "metadata": {},
   "outputs": [],
   "source": [
    "# File Paths\n",
    "\n",
    "src_folder_path = \"C://Users//mquay//Documents//GitHub//Personal//nlp-practice//src\"\n",
    "notebooks_path = \"C://Users//mquay//Documents//GitHub//Personal//nlp-practice//src//notebooks\"\n",
    "scripts_path = \"C://Users//mquay//Documents//GitHub//Personal//nlp-practice//src//scripts\"\n",
    "datasets_path = \"C://Users//mquay//Documents//GitHub//Personal//nlp-practice//datasets\"\n",
    "csvs_path = \"C://Users//mquay//Documents//GitHub//Personal//nlp-practice//datasets//csv\"\n",
    "jsons_path = \"C://Users//mquay//Documents//GitHub//Personal//nlp-practice//datasets//json\"\n",
    "txt_path = \"C://Users//mquay//Documents//GitHub//Personal//nlp-practice//datasets//txt\""
   ]
  },
  {
   "cell_type": "code",
   "execution_count": null,
   "metadata": {},
   "outputs": [],
   "source": [
    "# Important Functions\n",
    "\n"
   ]
  },
  {
   "cell_type": "code",
   "execution_count": 13,
   "metadata": {},
   "outputs": [],
   "source": [
    "# Loading File\n",
    "\n",
    "robotstxt_file = os.path.join(txt_path, \"robotstxt.paths.gz\")"
   ]
  },
  {
   "cell_type": "code",
   "execution_count": null,
   "metadata": {},
   "outputs": [],
   "source": [
    "# Accessing File\n",
    "\n",
    "robotstxt_urls = []\n",
    "with gzip.open(robotstxt_file, \"rt\", encoding=\"utf-8\") as file:\n",
    "    for i, line in enumerate(file):\n",
    "        robotstxt_urls.append(line.strip())"
   ]
  },
  {
   "cell_type": "code",
   "execution_count": 26,
   "metadata": {},
   "outputs": [
    {
     "data": {
      "text/plain": [
       "90000"
      ]
     },
     "execution_count": 26,
     "metadata": {},
     "output_type": "execute_result"
    }
   ],
   "source": [
    "# How many files exist?\n",
    "len(robotstxt_urls)"
   ]
  },
  {
   "cell_type": "code",
   "execution_count": null,
   "metadata": {},
   "outputs": [
    {
     "data": {
      "text/plain": [
       "10"
      ]
     },
     "execution_count": 29,
     "metadata": {},
     "output_type": "execute_result"
    }
   ],
   "source": [
    "# Sampling 10 files for exploration\n",
    "\n",
    "sample_robotstxt_urls = robotstxt_urls[:10]\n",
    "len(sample_robotstxt_urls)"
   ]
  },
  {
   "cell_type": "code",
   "execution_count": null,
   "metadata": {},
   "outputs": [],
   "source": [
    "# Downloading 10 files\n",
    "\n",
    "base_url_robotstxt = \"https://data.commoncrawl.org/\"\n",
    "\n",
    "for i in range(len(sample_robotstxt_urls)):\n",
    "    robotstxt_url = os.path.join(base_url_robotstxt, sample_robotstxt_urls[i])\n",
    "    response = requests.get(robotstxt_url, stream=True)\n"
   ]
  },
  {
   "cell_type": "markdown",
   "metadata": {},
   "source": [
    "## `re.search()` - Find the first match"
   ]
  },
  {
   "cell_type": "code",
   "execution_count": null,
   "metadata": {},
   "outputs": [],
   "source": [
    "\n",
    "\n",
    "for file in "
   ]
  },
  {
   "cell_type": "code",
   "execution_count": 7,
   "metadata": {},
   "outputs": [
    {
     "name": "stdout",
     "output_type": "stream",
     "text": [
      "Extracted Numbers: 12345\n"
     ]
    }
   ],
   "source": [
    "text1 = \"Order number 12345 was processed on 2024-02-17.\"\n",
    "\n",
    "numbers = re.search(r\"\\d+\", text1)\n",
    "print(f\"Extracted Numbers: {numbers.group()}\")"
   ]
  },
  {
   "cell_type": "code",
   "execution_count": null,
   "metadata": {},
   "outputs": [],
   "source": []
  },
  {
   "cell_type": "markdown",
   "metadata": {},
   "source": [
    "## `re.findall()` - Find all matches"
   ]
  },
  {
   "cell_type": "markdown",
   "metadata": {},
   "source": [
    "## `re.match()` - Does pattern match at start of string?"
   ]
  },
  {
   "cell_type": "code",
   "execution_count": null,
   "metadata": {},
   "outputs": [],
   "source": [
    "\n"
   ]
  },
  {
   "cell_type": "markdown",
   "metadata": {},
   "source": [
    "## `re.fullmatch()` - Does entire string match pattern?"
   ]
  },
  {
   "cell_type": "markdown",
   "metadata": {},
   "source": [
    "## `re.sub()` - Replaces occurences of a pattern with another string"
   ]
  },
  {
   "cell_type": "markdown",
   "metadata": {},
   "source": [
    "## `re.split()` - Splits a string based on regex pattern"
   ]
  },
  {
   "cell_type": "markdown",
   "metadata": {},
   "source": [
    "## `re.compile()` - Precompiles a regex for repeated use"
   ]
  },
  {
   "cell_type": "code",
   "execution_count": null,
   "metadata": {},
   "outputs": [],
   "source": []
  }
 ],
 "metadata": {
  "kernelspec": {
   "display_name": "comp_ling_env",
   "language": "python",
   "name": "python3"
  },
  "language_info": {
   "codemirror_mode": {
    "name": "ipython",
    "version": 3
   },
   "file_extension": ".py",
   "mimetype": "text/x-python",
   "name": "python",
   "nbconvert_exporter": "python",
   "pygments_lexer": "ipython3",
   "version": "3.10.16"
  }
 },
 "nbformat": 4,
 "nbformat_minor": 2
}
