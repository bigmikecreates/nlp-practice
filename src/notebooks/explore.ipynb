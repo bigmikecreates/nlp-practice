{
 "cells": [
  {
   "cell_type": "markdown",
   "metadata": {
    "vscode": {
     "languageId": "plaintext"
    }
   },
   "source": [
    "Exploring Basics of Regular Expressions"
   ]
  },
  {
   "cell_type": "code",
   "execution_count": 20,
   "metadata": {},
   "outputs": [],
   "source": [
    "# Required Modules\n",
    "\n",
    "import re\n",
    "import pandas as pd\n",
    "import numpy as np\n",
    "import regex\n",
    "import pygrep\n",
    "import flashtext\n",
    "import spacy\n",
    "import loguru\n",
    "import pyspark\n",
    "import kafka\n",
    "import os\n",
    "import gzip\n",
    "import shutil\n",
    "import requests\n",
    "from urllib.parse import urljoin"
   ]
  },
  {
   "cell_type": "code",
   "execution_count": 21,
   "metadata": {},
   "outputs": [],
   "source": [
    "# File Paths\n",
    "\n",
    "src_folder_path = \"C://Users//mquay//Documents//GitHub//Personal//nlp-practice//src\"\n",
    "notebooks_path = \"C://Users//mquay//Documents//GitHub//Personal//nlp-practice//src//notebooks\"\n",
    "scripts_path = \"C://Users//mquay//Documents//GitHub//Personal//nlp-practice//src//scripts\"\n",
    "datasets_path = \"C://Users//mquay//Documents//GitHub//Personal//nlp-practice//datasets\"\n",
    "csvs_path = \"C://Users//mquay//Documents//GitHub//Personal//nlp-practice//datasets//csv\"\n",
    "jsons_path = \"C://Users//mquay//Documents//GitHub//Personal//nlp-practice//datasets//json\"\n",
    "txt_path = \"C://Users//mquay//Documents//GitHub//Personal//nlp-practice//datasets//txt\""
   ]
  },
  {
   "cell_type": "code",
   "execution_count": 22,
   "metadata": {},
   "outputs": [],
   "source": [
    "# Important Functions\n",
    "\n"
   ]
  },
  {
   "cell_type": "code",
   "execution_count": 23,
   "metadata": {},
   "outputs": [],
   "source": [
    "# Loading File\n",
    "\n",
    "robotstxt_file = os.path.join(txt_path, \"robotstxt.paths.gz\")"
   ]
  },
  {
   "cell_type": "code",
   "execution_count": 24,
   "metadata": {},
   "outputs": [],
   "source": [
    "# Accessing File\n",
    "\n",
    "robotstxt_urls = []\n",
    "with gzip.open(robotstxt_file, \"rt\", encoding=\"utf-8\") as file:\n",
    "    for i, line in enumerate(file):\n",
    "        robotstxt_urls.append(line.strip())"
   ]
  },
  {
   "cell_type": "code",
   "execution_count": 25,
   "metadata": {},
   "outputs": [
    {
     "data": {
      "text/plain": [
       "90000"
      ]
     },
     "execution_count": 25,
     "metadata": {},
     "output_type": "execute_result"
    }
   ],
   "source": [
    "# How many files exist?\n",
    "len(robotstxt_urls)"
   ]
  },
  {
   "cell_type": "markdown",
   "metadata": {},
   "source": [
    "## Exploration"
   ]
  },
  {
   "cell_type": "code",
   "execution_count": 35,
   "metadata": {},
   "outputs": [
    {
     "data": {
      "text/plain": [
       "10"
      ]
     },
     "execution_count": 35,
     "metadata": {},
     "output_type": "execute_result"
    }
   ],
   "source": [
    "# Sampling 10 files for exploration\n",
    "\n",
    "sample_robotstxt_urls = robotstxt_urls[:10]\n",
    "len(sample_robotstxt_urls)"
   ]
  },
  {
   "cell_type": "code",
   "execution_count": null,
   "metadata": {},
   "outputs": [
    {
     "data": {
      "text/plain": [
       "'crawl-data/CC-MAIN-2025-05/segments/1736703361941.29/robotstxt/CC-MAIN-20250126135402-20250126165402-00000.warc.gz'"
      ]
     },
     "execution_count": 39,
     "metadata": {},
     "output_type": "execute_result"
    }
   ],
   "source": [
    "text_exploration = sample_robotstxt_urls[0]\n",
    "sample_robotstxt_urls[0]"
   ]
  },
  {
   "cell_type": "code",
   "execution_count": 65,
   "metadata": {},
   "outputs": [
    {
     "data": {
      "text/plain": [
       "['seg']"
      ]
     },
     "execution_count": 65,
     "metadata": {},
     "output_type": "execute_result"
    }
   ],
   "source": [
    "re.findall(r\"(seg)+\", text_exploration)"
   ]
  },
  {
   "cell_type": "code",
   "execution_count": 33,
   "metadata": {},
   "outputs": [
    {
     "data": {
      "text/plain": [
       "'2025'"
      ]
     },
     "execution_count": 33,
     "metadata": {},
     "output_type": "execute_result"
    }
   ],
   "source": [
    "re.search(r\"\\d+\", text_exploration).group()"
   ]
  },
  {
   "cell_type": "code",
   "execution_count": 30,
   "metadata": {},
   "outputs": [
    {
     "name": "stdout",
     "output_type": "stream",
     "text": [
      "2025\n"
     ]
    }
   ],
   "source": [
    "# re.search()\n",
    "\n",
    "first_num_occ = re.search(r\"\\d+\", text_exploration)\n",
    "print(first_num_occ.group())"
   ]
  },
  {
   "cell_type": "markdown",
   "metadata": {},
   "source": [
    "## Extracting Text from .WARC files"
   ]
  },
  {
   "cell_type": "code",
   "execution_count": 34,
   "metadata": {},
   "outputs": [
    {
     "ename": "FileNotFoundError",
     "evalue": "[Errno 2] No such file or directory: 'crawl-data/CC-MAIN-2025-05/segments/1736703361941.29/robotstxt/CC-MAIN-20250126135402-20250126165402-00000.warc.gz'",
     "output_type": "error",
     "traceback": [
      "\u001b[1;31m---------------------------------------------------------------------------\u001b[0m",
      "\u001b[1;31mFileNotFoundError\u001b[0m                         Traceback (most recent call last)",
      "Cell \u001b[1;32mIn[34], line 10\u001b[0m\n\u001b[0;32m      7\u001b[0m response \u001b[38;5;241m=\u001b[39m requests\u001b[38;5;241m.\u001b[39mget(robotstxt_url, stream\u001b[38;5;241m=\u001b[39m\u001b[38;5;28;01mTrue\u001b[39;00m)\n\u001b[0;32m      9\u001b[0m \u001b[38;5;28;01mif\u001b[39;00m response\u001b[38;5;241m.\u001b[39mstatus_code \u001b[38;5;241m==\u001b[39m \u001b[38;5;241m200\u001b[39m:\n\u001b[1;32m---> 10\u001b[0m     \u001b[38;5;28;01mwith\u001b[39;00m \u001b[38;5;28;43mopen\u001b[39;49m\u001b[43m(\u001b[49m\u001b[43mfilename\u001b[49m\u001b[43m,\u001b[49m\u001b[43m \u001b[49m\u001b[38;5;124;43m\"\u001b[39;49m\u001b[38;5;124;43mwb\u001b[39;49m\u001b[38;5;124;43m\"\u001b[39;49m\u001b[43m)\u001b[49m \u001b[38;5;28;01mas\u001b[39;00m file:\n\u001b[0;32m     11\u001b[0m         \u001b[38;5;28;01mfor\u001b[39;00m chunk \u001b[38;5;129;01min\u001b[39;00m response\u001b[38;5;241m.\u001b[39miter_content(chunk_size\u001b[38;5;241m=\u001b[39m\u001b[38;5;241m1024\u001b[39m):\n\u001b[0;32m     12\u001b[0m             file\u001b[38;5;241m.\u001b[39mwrite(chunk)\n",
      "File \u001b[1;32m~\\AppData\\Roaming\\Python\\Python310\\site-packages\\IPython\\core\\interactiveshell.py:324\u001b[0m, in \u001b[0;36m_modified_open\u001b[1;34m(file, *args, **kwargs)\u001b[0m\n\u001b[0;32m    317\u001b[0m \u001b[38;5;28;01mif\u001b[39;00m file \u001b[38;5;129;01min\u001b[39;00m {\u001b[38;5;241m0\u001b[39m, \u001b[38;5;241m1\u001b[39m, \u001b[38;5;241m2\u001b[39m}:\n\u001b[0;32m    318\u001b[0m     \u001b[38;5;28;01mraise\u001b[39;00m \u001b[38;5;167;01mValueError\u001b[39;00m(\n\u001b[0;32m    319\u001b[0m         \u001b[38;5;124mf\u001b[39m\u001b[38;5;124m\"\u001b[39m\u001b[38;5;124mIPython won\u001b[39m\u001b[38;5;124m'\u001b[39m\u001b[38;5;124mt let you open fd=\u001b[39m\u001b[38;5;132;01m{\u001b[39;00mfile\u001b[38;5;132;01m}\u001b[39;00m\u001b[38;5;124m by default \u001b[39m\u001b[38;5;124m\"\u001b[39m\n\u001b[0;32m    320\u001b[0m         \u001b[38;5;124m\"\u001b[39m\u001b[38;5;124mas it is likely to crash IPython. If you know what you are doing, \u001b[39m\u001b[38;5;124m\"\u001b[39m\n\u001b[0;32m    321\u001b[0m         \u001b[38;5;124m\"\u001b[39m\u001b[38;5;124myou can use builtins\u001b[39m\u001b[38;5;124m'\u001b[39m\u001b[38;5;124m open.\u001b[39m\u001b[38;5;124m\"\u001b[39m\n\u001b[0;32m    322\u001b[0m     )\n\u001b[1;32m--> 324\u001b[0m \u001b[38;5;28;01mreturn\u001b[39;00m io_open(file, \u001b[38;5;241m*\u001b[39margs, \u001b[38;5;241m*\u001b[39m\u001b[38;5;241m*\u001b[39mkwargs)\n",
      "\u001b[1;31mFileNotFoundError\u001b[0m: [Errno 2] No such file or directory: 'crawl-data/CC-MAIN-2025-05/segments/1736703361941.29/robotstxt/CC-MAIN-20250126135402-20250126165402-00000.warc.gz'"
     ]
    }
   ],
   "source": [
    "# Downloading 10 files\n",
    "\n",
    "base_url_robotstxt = \"https://data.commoncrawl.org/\"\n",
    "\n",
    "for i, filename in enumerate(sample_robotstxt_urls):\n",
    "    robotstxt_url = urljoin(base_url_robotstxt, filename)  # Correct URL joining\n",
    "    response = requests.get(robotstxt_url, stream=True)\n",
    "\n",
    "    if response.status_code == 200:\n",
    "        with open(filename, \"wb\") as file:\n",
    "            for chunk in response.iter_content(chunk_size=1024):\n",
    "                file.write(chunk)\n",
    "        \n",
    "        print(f\"Downloaded WARC file {filename} successfully!\")  # Print after completion\n",
    "    else:\n",
    "        print(f\"Failed to download {filename}: HTTP {response.status_code}\")"
   ]
  },
  {
   "cell_type": "markdown",
   "metadata": {},
   "source": [
    "## `re.search()` - Find the first match"
   ]
  },
  {
   "cell_type": "code",
   "execution_count": null,
   "metadata": {},
   "outputs": [],
   "source": [
    "\n",
    "\n",
    "for file in "
   ]
  },
  {
   "cell_type": "code",
   "execution_count": 7,
   "metadata": {},
   "outputs": [
    {
     "name": "stdout",
     "output_type": "stream",
     "text": [
      "Extracted Numbers: 12345\n"
     ]
    }
   ],
   "source": [
    "text1 = \"Order number 12345 was processed on 2024-02-17.\"\n",
    "\n",
    "numbers = re.search(r\"\\d+\", text1)\n",
    "print(f\"Extracted Numbers: {numbers.group()}\")"
   ]
  },
  {
   "cell_type": "code",
   "execution_count": null,
   "metadata": {},
   "outputs": [],
   "source": []
  },
  {
   "cell_type": "markdown",
   "metadata": {},
   "source": [
    "## `re.findall()` - Find all matches"
   ]
  },
  {
   "cell_type": "markdown",
   "metadata": {},
   "source": [
    "## `re.match()` - Does pattern match at start of string?"
   ]
  },
  {
   "cell_type": "code",
   "execution_count": null,
   "metadata": {},
   "outputs": [],
   "source": [
    "\n"
   ]
  },
  {
   "cell_type": "markdown",
   "metadata": {},
   "source": [
    "## `re.fullmatch()` - Does entire string match pattern?"
   ]
  },
  {
   "cell_type": "markdown",
   "metadata": {},
   "source": [
    "## `re.sub()` - Replaces occurences of a pattern with another string"
   ]
  },
  {
   "cell_type": "markdown",
   "metadata": {},
   "source": [
    "## `re.split()` - Splits a string based on regex pattern"
   ]
  },
  {
   "cell_type": "markdown",
   "metadata": {},
   "source": [
    "## `re.compile()` - Precompiles a regex for repeated use"
   ]
  },
  {
   "cell_type": "code",
   "execution_count": null,
   "metadata": {},
   "outputs": [],
   "source": []
  },
  {
   "cell_type": "markdown",
   "metadata": {},
   "source": [
    "# EXAMPLES"
   ]
  },
  {
   "cell_type": "markdown",
   "metadata": {},
   "source": [
    "- Extract all digits from \"Order 123, Invoice 456, ID 7890\".\n",
    "- Find all lowercase letters in \"Hello WORLD Python!\".\n",
    "- Extract all capital letters from \"Regex is FUN and POWERFUL\".\n",
    "- Find all words in \"Hello, World! 123\" (Ignore punctuation).\n",
    "- Extract words that contain only alphabets from \"cat123 dog45 apple banana\".\n",
    "<br>\n",
    "<br>\n",
    "- Quantifiers (*, +, ?, {})\n",
    "- Find all words that start with \"a\" in \"apple banana apricot orange\".\n",
    "- Extract sequences of 2 or more digits from \"abc123def4567gh89\".\n",
    "- Find all words with at least 5 letters in \"hello world python java\".\n",
    "- Extract all words with exactly 4 letters from \"this that when where\".\n",
    "- Match any word that contains \"th\" in \"there, think, throw, math, father\".\n",
    "<br>\n",
    "<br>\n",
    "- Character Classes (\\d, \\w, \\s)\n",
    "- Extract all numbers from \"I have 2 cats and 3 dogs\".\n",
    "- Find all words containing numbers in \"user1 admin99 guest3\".\n",
    "- Extract all words starting with a capital letter from \"Alice Bob charlie Daniel\".\n",
    "- Extract all special characters from \"Hello@World! Python#Regex\" (Ignore letters and numbers).\n",
    "- Find all sequences of spaces in \"This has multiple spaces\".\n",
    "<br>\n",
    "<br>\n",
    "- Anchors (^, $, \\b)\n",
    "- Match words that start with \"P\" in \"Python PHP JavaScript\"\n",
    "- Find all sentences ending with a period in \"Hello world. This is regex! Python is fun.\"\n",
    "- Extract hashtags from \"#Python #DataScience #Regex\"\n",
    "- Extract valid email addresses from \"test@example.com, hello@site.org, user@invalid\".\n",
    "- Extract valid phone numbers from \"Call 123-456-7890 or (123) 456-7890\"."
   ]
  },
  {
   "cell_type": "code",
   "execution_count": 66,
   "metadata": {},
   "outputs": [
    {
     "data": {
      "text/plain": [
       "['123', '456', '7890']"
      ]
     },
     "execution_count": 66,
     "metadata": {},
     "output_type": "execute_result"
    }
   ],
   "source": [
    "# - Extract all digits from \"Order 123, Invoice 456, ID 7890\"\n",
    "\n",
    "text1 = \"Order 123, Invoice 456, ID 7890\"\n",
    "\n",
    "re.findall(r\"\\d+\", text1)"
   ]
  },
  {
   "cell_type": "code",
   "execution_count": 76,
   "metadata": {},
   "outputs": [
    {
     "data": {
      "text/plain": [
       "['ello', 'ython']"
      ]
     },
     "execution_count": 76,
     "metadata": {},
     "output_type": "execute_result"
    }
   ],
   "source": [
    "# Find all lowercase letters in \"Hello WORLD Python!\"\n",
    "\n",
    "text2 = \"Hello WORLD Python!\"\n",
    "re.findall(r\"[a-z]+\", text2)"
   ]
  },
  {
   "cell_type": "code",
   "execution_count": 79,
   "metadata": {},
   "outputs": [
    {
     "data": {
      "text/plain": [
       "['R', 'FUN', 'POWERFUL']"
      ]
     },
     "execution_count": 79,
     "metadata": {},
     "output_type": "execute_result"
    }
   ],
   "source": [
    "# Extract all capital letters from \"Regex is FUN and POWERFUL\".\n",
    "\n",
    "text3 = \"Regex is FUN and POWERFUL\"\n",
    "re.findall(r\"[A-Z]+\", text3)"
   ]
  },
  {
   "cell_type": "code",
   "execution_count": 80,
   "metadata": {},
   "outputs": [
    {
     "data": {
      "text/plain": [
       "['Hello', 'World', '123']"
      ]
     },
     "execution_count": 80,
     "metadata": {},
     "output_type": "execute_result"
    }
   ],
   "source": [
    "# Find all words in \"Hello, World! 123\" (Ignore punctuation).\n",
    "\n",
    "text4 = \"Hello, World! 123\"\n",
    "re.findall(r\"\\w+\", text4)"
   ]
  },
  {
   "cell_type": "code",
   "execution_count": null,
   "metadata": {},
   "outputs": [],
   "source": []
  }
 ],
 "metadata": {
  "kernelspec": {
   "display_name": "comp_ling_env",
   "language": "python",
   "name": "python3"
  },
  "language_info": {
   "codemirror_mode": {
    "name": "ipython",
    "version": 3
   },
   "file_extension": ".py",
   "mimetype": "text/x-python",
   "name": "python",
   "nbconvert_exporter": "python",
   "pygments_lexer": "ipython3",
   "version": "3.10.16"
  }
 },
 "nbformat": 4,
 "nbformat_minor": 2
}
