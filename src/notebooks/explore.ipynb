{
 "cells": [
  {
   "cell_type": "markdown",
   "metadata": {
    "vscode": {
     "languageId": "plaintext"
    }
   },
   "source": [
    "# EXPLORING REGULAR EXPRESSIONS\n",
    "\n",
    "This notebook is partially inspired by <a href=\"resources/Speech and Language Processing (12-Jan-2025) - Daniel Jurafsky & James H. Martin.pdf\"><i>\"Speech-and-Language-Processing_Jurafsky-Martin_Jan-12-2025\"</i></a> chapter on Regular Expressions.\n",
    "\n",
    "String Methods + Regex Expressions are most useful here."
   ]
  },
  {
   "cell_type": "markdown",
   "metadata": {},
   "source": [
    "## INITIALZATION"
   ]
  },
  {
   "cell_type": "code",
   "execution_count": 139,
   "metadata": {},
   "outputs": [],
   "source": [
    "# Required Modules\n",
    "\n",
    "import re\n",
    "import pandas as pd\n",
    "import numpy as np\n",
    "import regex\n",
    "import pygrep\n",
    "import flashtext\n",
    "import spacy\n",
    "import loguru\n",
    "import pyspark\n",
    "import kafka\n",
    "import os\n",
    "import gzip\n",
    "import pandas as pd\n",
    "import shutil\n",
    "import kagglehub\n",
    "import requests\n",
    "import math\n",
    "from urllib.parse import urljoin\n",
    "\n",
    "pd.options.mode.copy_on_write=True"
   ]
  },
  {
   "cell_type": "code",
   "execution_count": 2,
   "metadata": {},
   "outputs": [],
   "source": [
    "# File Paths\n",
    "\n",
    "src_folder_path = \"C://Users//mquay//Documents//GitHub//Personal//nlp-practice//src\"\n",
    "notebooks_path = \"C://Users//mquay//Documents//GitHub//Personal//nlp-practice//src//notebooks\"\n",
    "scripts_path = \"C://Users//mquay//Documents//GitHub//Personal//nlp-practice//src//scripts\"\n",
    "datasets_path = \"C://Users//mquay//Documents//GitHub//Personal//nlp-practice//datasets\"\n",
    "csvs_path = \"C://Users//mquay//Documents//GitHub//Personal//nlp-practice//datasets//csv\"\n",
    "jsons_path = \"C://Users//mquay//Documents//GitHub//Personal//nlp-practice//datasets//json\"\n",
    "txt_path = \"C://Users//mquay//Documents//GitHub//Personal//nlp-practice//datasets//txt\""
   ]
  },
  {
   "cell_type": "code",
   "execution_count": 3,
   "metadata": {},
   "outputs": [],
   "source": [
    "# Important Functions/Variables\n",
    "\n",
    "def int_extractor_lambda(inp):\n",
    "    \"\"\"Returns a single integer/sequence of integers, removing all non-integer characters from the given input.\n",
    "    \n",
    "    :param (Any) inp: A single/sequence of primitive data types.\n",
    "    :return: Returns a single integer\n",
    "    :rtype: int\n",
    "    :return: Returns a sequence of integers/DataFrame Series of integers\n",
    "    :rtype: List[int]\n",
    "    :return: The element itself, if it is of type bool/None\n",
    "    :rtype: inp(elem)\n",
    "    \"\"\" \n",
    "        \n",
    "    if isinstance(inp, str):\n",
    "        return int(\"\".join(re.findall(r\"[0-9]+\", inp)))\n",
    "    \n",
    "    elif isinstance(inp, list) or isinstance(inp, pd.Series):\n",
    "        inp = [str(elem) for elem in inp] # To avoid 'TypeError: expected string or bytes-like object'\n",
    "        new_li = []\n",
    "        for ind, elem in enumerate(inp):\n",
    "                if elem != 'nan':\n",
    "                    # print(f\"Before Regex attempt: {elem}\")\n",
    "                    new_str = int(\"\".join(re.findall(r\"[0-9]+\", elem)))\n",
    "                    # print(f\"After Regex attempt: {new_str}\")\n",
    "                    new_li.append(new_str)\n",
    "                else:\n",
    "                    new_str = 0\n",
    "                    new_li.append(new_str)\n",
    "        return new_li\n",
    "    \n",
    "    elif isinstance(inp, float) and math.isnan(inp):\n",
    "        return float('nan')\n",
    "    \n",
    "    else:\n",
    "    \n",
    "        return int(inp)\n",
    "    \n",
    "# def dtype_updater(col1, col2): [Construct function to update corresponding dtypes from subdataframes to original dataframes]\n",
    "    "
   ]
  },
  {
   "cell_type": "code",
   "execution_count": 4,
   "metadata": {},
   "outputs": [
    {
     "name": "stdout",
     "output_type": "stream",
     "text": [
      "Path to dataset files: C:\\Users\\mquay\\.cache\\kagglehub\\datasets\\bilalyussef\\google-books-dataset\\versions\\3\n"
     ]
    }
   ],
   "source": [
    "# Downloading dataset from Kaggle and loading it into notebook\n",
    "\n",
    "## Getting the latest version\n",
    "path = kagglehub.dataset_download(\"bilalyussef/google-books-dataset\")\n",
    "\n",
    "# Display file path for downloaded file\n",
    "print(\"Path to dataset files:\", path)"
   ]
  },
  {
   "cell_type": "markdown",
   "metadata": {},
   "source": [
    "The downloads are to be moved to the <code>\\csv</code> directory for ease of access."
   ]
  },
  {
   "cell_type": "code",
   "execution_count": 5,
   "metadata": {},
   "outputs": [
    {
     "data": {
      "text/plain": [
       "Index(['title', 'author', 'rating', 'voters', 'price', 'currency',\n",
       "       'description', 'publisher', 'page_count', 'genres', 'ISBN', 'language',\n",
       "       'published_date'],\n",
       "      dtype='object')"
      ]
     },
     "execution_count": 5,
     "metadata": {},
     "output_type": "execute_result"
    }
   ],
   "source": [
    "# Accessing File~\n",
    "\n",
    "raw_doc_master = pd.read_csv(\"..//..//datasets//csv//kaggle//bilalyussef//google_books_1299.csv\", encoding='utf-8').drop(columns=[\"Unnamed: 0\"]).rename(columns={\"generes\":'genres'})\n",
    "\"\"\"Master Document File (raw)\"\"\"\n",
    "\n",
    "raw_doc_master.columns"
   ]
  },
  {
   "cell_type": "code",
   "execution_count": 6,
   "metadata": {},
   "outputs": [
    {
     "data": {
      "text/html": [
       "<div>\n",
       "<style scoped>\n",
       "    .dataframe tbody tr th:only-of-type {\n",
       "        vertical-align: middle;\n",
       "    }\n",
       "\n",
       "    .dataframe tbody tr th {\n",
       "        vertical-align: top;\n",
       "    }\n",
       "\n",
       "    .dataframe thead th {\n",
       "        text-align: right;\n",
       "    }\n",
       "</style>\n",
       "<table border=\"1\" class=\"dataframe\">\n",
       "  <thead>\n",
       "    <tr style=\"text-align: right;\">\n",
       "      <th></th>\n",
       "      <th>title</th>\n",
       "      <th>author</th>\n",
       "      <th>rating</th>\n",
       "      <th>voters</th>\n",
       "      <th>price</th>\n",
       "    </tr>\n",
       "  </thead>\n",
       "  <tbody>\n",
       "    <tr>\n",
       "      <th>0</th>\n",
       "      <td>Attack on Titan: Volume 13</td>\n",
       "      <td>Hajime Isayama</td>\n",
       "      <td>4.6</td>\n",
       "      <td>428</td>\n",
       "      <td>43.28</td>\n",
       "    </tr>\n",
       "    <tr>\n",
       "      <th>1</th>\n",
       "      <td>Antiques Roadkill: A Trash 'n' Treasures Mystery</td>\n",
       "      <td>Barbara Allan</td>\n",
       "      <td>3.3</td>\n",
       "      <td>23</td>\n",
       "      <td>26.15</td>\n",
       "    </tr>\n",
       "    <tr>\n",
       "      <th>2</th>\n",
       "      <td>The Art of Super Mario Odyssey</td>\n",
       "      <td>Nintendo</td>\n",
       "      <td>3.9</td>\n",
       "      <td>9</td>\n",
       "      <td>133.85</td>\n",
       "    </tr>\n",
       "  </tbody>\n",
       "</table>\n",
       "</div>"
      ],
      "text/plain": [
       "                                              title          author  rating  \\\n",
       "0                        Attack on Titan: Volume 13  Hajime Isayama     4.6   \n",
       "1  Antiques Roadkill: A Trash 'n' Treasures Mystery   Barbara Allan     3.3   \n",
       "2                    The Art of Super Mario Odyssey        Nintendo     3.9   \n",
       "\n",
       "  voters   price  \n",
       "0    428   43.28  \n",
       "1     23   26.15  \n",
       "2      9  133.85  "
      ]
     },
     "execution_count": 6,
     "metadata": {},
     "output_type": "execute_result"
    }
   ],
   "source": [
    "raw_doc_p1 = raw_doc_master.loc[:, ['title',\"author\", \"rating\", \"voters\", \"price\"]]\n",
    "\"\"\"Stores the first partitioned DataFrame of the document\n",
    "\n",
    ":return: 'title', 'author', 'rating', 'voters', 'price'\n",
    ":rtype: Columns\n",
    "\"\"\"\n",
    "\n",
    "raw_doc_p1[:3]"
   ]
  },
  {
   "cell_type": "code",
   "execution_count": 160,
   "metadata": {},
   "outputs": [
    {
     "data": {
      "text/html": [
       "<div>\n",
       "<style scoped>\n",
       "    .dataframe tbody tr th:only-of-type {\n",
       "        vertical-align: middle;\n",
       "    }\n",
       "\n",
       "    .dataframe tbody tr th {\n",
       "        vertical-align: top;\n",
       "    }\n",
       "\n",
       "    .dataframe thead th {\n",
       "        text-align: right;\n",
       "    }\n",
       "</style>\n",
       "<table border=\"1\" class=\"dataframe\">\n",
       "  <thead>\n",
       "    <tr style=\"text-align: right;\">\n",
       "      <th></th>\n",
       "      <th>currency</th>\n",
       "      <th>description</th>\n",
       "      <th>publisher</th>\n",
       "      <th>page_count</th>\n",
       "    </tr>\n",
       "  </thead>\n",
       "  <tbody>\n",
       "    <tr>\n",
       "      <th>0</th>\n",
       "      <td>SAR</td>\n",
       "      <td>NO SAFE PLACE LEFT At great cost to the Garris...</td>\n",
       "      <td>Kodansha Comics</td>\n",
       "      <td>192</td>\n",
       "    </tr>\n",
       "    <tr>\n",
       "      <th>1</th>\n",
       "      <td>SAR</td>\n",
       "      <td>Determined to make a new start in her quaint h...</td>\n",
       "      <td>Kensington Publishing Corp.</td>\n",
       "      <td>288</td>\n",
       "    </tr>\n",
       "    <tr>\n",
       "      <th>2</th>\n",
       "      <td>SAR</td>\n",
       "      <td>Take a globetrotting journey all over the worl...</td>\n",
       "      <td>Dark Horse Comics</td>\n",
       "      <td>368</td>\n",
       "    </tr>\n",
       "  </tbody>\n",
       "</table>\n",
       "</div>"
      ],
      "text/plain": [
       "  currency                                        description  \\\n",
       "0      SAR  NO SAFE PLACE LEFT At great cost to the Garris...   \n",
       "1      SAR  Determined to make a new start in her quaint h...   \n",
       "2      SAR  Take a globetrotting journey all over the worl...   \n",
       "\n",
       "                     publisher  page_count  \n",
       "0              Kodansha Comics         192  \n",
       "1  Kensington Publishing Corp.         288  \n",
       "2            Dark Horse Comics         368  "
      ]
     },
     "execution_count": 160,
     "metadata": {},
     "output_type": "execute_result"
    }
   ],
   "source": [
    "raw_doc_p2 = raw_doc_master.loc[:, [\"currency\", \"description\", \"publisher\", \"page_count\"]]\n",
    "\"\"\"Stores the second partitioned DataFrame of the document\n",
    "\n",
    ":return: 'currency', 'description', 'publisher', 'page_count'\n",
    ":rtype: Columns\n",
    "\"\"\"\n",
    "\n",
    "raw_doc_p2[:3]"
   ]
  },
  {
   "cell_type": "code",
   "execution_count": 161,
   "metadata": {},
   "outputs": [
    {
     "data": {
      "text/html": [
       "<div>\n",
       "<style scoped>\n",
       "    .dataframe tbody tr th:only-of-type {\n",
       "        vertical-align: middle;\n",
       "    }\n",
       "\n",
       "    .dataframe tbody tr th {\n",
       "        vertical-align: top;\n",
       "    }\n",
       "\n",
       "    .dataframe thead th {\n",
       "        text-align: right;\n",
       "    }\n",
       "</style>\n",
       "<table border=\"1\" class=\"dataframe\">\n",
       "  <thead>\n",
       "    <tr style=\"text-align: right;\">\n",
       "      <th></th>\n",
       "      <th>genres</th>\n",
       "      <th>ISBN</th>\n",
       "      <th>language</th>\n",
       "      <th>published_date</th>\n",
       "    </tr>\n",
       "  </thead>\n",
       "  <tbody>\n",
       "    <tr>\n",
       "      <th>0</th>\n",
       "      <td>none</td>\n",
       "      <td>9781612626864</td>\n",
       "      <td>English</td>\n",
       "      <td>Jul 31, 2014</td>\n",
       "    </tr>\n",
       "    <tr>\n",
       "      <th>1</th>\n",
       "      <td>Fiction , Mystery &amp;amp, Detective , Cozy , Gen...</td>\n",
       "      <td>9780758272799</td>\n",
       "      <td>English</td>\n",
       "      <td>Jul 1, 2007</td>\n",
       "    </tr>\n",
       "    <tr>\n",
       "      <th>2</th>\n",
       "      <td>Games &amp;amp, Activities , Video &amp;amp, Electronic</td>\n",
       "      <td>9781506713816</td>\n",
       "      <td>English</td>\n",
       "      <td>Nov 5, 2019</td>\n",
       "    </tr>\n",
       "  </tbody>\n",
       "</table>\n",
       "</div>"
      ],
      "text/plain": [
       "                                              genres           ISBN language  \\\n",
       "0                                               none  9781612626864  English   \n",
       "1  Fiction , Mystery &amp, Detective , Cozy , Gen...  9780758272799  English   \n",
       "2    Games &amp, Activities , Video &amp, Electronic  9781506713816  English   \n",
       "\n",
       "  published_date  \n",
       "0   Jul 31, 2014  \n",
       "1    Jul 1, 2007  \n",
       "2    Nov 5, 2019  "
      ]
     },
     "execution_count": 161,
     "metadata": {},
     "output_type": "execute_result"
    }
   ],
   "source": [
    "raw_doc_p3 = raw_doc_master.loc[:, [\"genres\", 'ISBN', 'language', 'published_date']]\n",
    "\"\"\"Stores the third partitioned DataFrame of the document\n",
    "\n",
    ":return: 'genres', 'ISBN', 'language', 'published_date'\n",
    ":rtype: Columns\n",
    "\"\"\"\n",
    "\n",
    "raw_doc_p3[:3]"
   ]
  },
  {
   "cell_type": "code",
   "execution_count": 9,
   "metadata": {},
   "outputs": [
    {
     "data": {
      "text/plain": [
       "'Stores partitioned DataFrames from master document\\n\\n:return: 3 partitioned files from the main document\\n:rtype: List[DataFrame]\\n'"
      ]
     },
     "execution_count": 9,
     "metadata": {},
     "output_type": "execute_result"
    }
   ],
   "source": [
    "joint_partitioned_raw_doc = [raw_doc_p1, raw_doc_p2, raw_doc_p3]\n",
    "\n",
    "\"\"\"Stores partitioned DataFrames from master document\n",
    "\n",
    ":return: 3 partitioned files from the main document\n",
    ":rtype: List[DataFrame]\n",
    "\"\"\""
   ]
  },
  {
   "cell_type": "markdown",
   "metadata": {},
   "source": [
    "## PRE-PROCESSING"
   ]
  },
  {
   "cell_type": "markdown",
   "metadata": {},
   "source": [
    "### Exploration"
   ]
  },
  {
   "cell_type": "code",
   "execution_count": 10,
   "metadata": {},
   "outputs": [
    {
     "data": {
      "text/plain": [
       "1299"
      ]
     },
     "execution_count": 10,
     "metadata": {},
     "output_type": "execute_result"
    }
   ],
   "source": [
    "# How many books exist in this file?\n",
    "len(raw_doc_master)"
   ]
  },
  {
   "cell_type": "code",
   "execution_count": 11,
   "metadata": {},
   "outputs": [
    {
     "name": "stdout",
     "output_type": "stream",
     "text": [
      "<class 'pandas.core.frame.DataFrame'>\n",
      "RangeIndex: 1299 entries, 0 to 1298\n",
      "Data columns (total 13 columns):\n",
      " #   Column          Non-Null Count  Dtype  \n",
      "---  ------          --------------  -----  \n",
      " 0   title           1299 non-null   object \n",
      " 1   author          1299 non-null   object \n",
      " 2   rating          1224 non-null   float64\n",
      " 3   voters          1224 non-null   object \n",
      " 4   price           1299 non-null   float64\n",
      " 5   currency        1299 non-null   object \n",
      " 6   description     1296 non-null   object \n",
      " 7   publisher       1299 non-null   object \n",
      " 8   page_count      1299 non-null   int64  \n",
      " 9   genres          1299 non-null   object \n",
      " 10  ISBN            1299 non-null   object \n",
      " 11  language        1299 non-null   object \n",
      " 12  published_date  1299 non-null   object \n",
      "dtypes: float64(2), int64(1), object(10)\n",
      "memory usage: 132.1+ KB\n"
     ]
    }
   ],
   "source": [
    "# File Description\n",
    "\n",
    "raw_doc_master.info()"
   ]
  },
  {
   "cell_type": "markdown",
   "metadata": {},
   "source": [
    "#### raw_doc_p1"
   ]
  },
  {
   "cell_type": "code",
   "execution_count": 12,
   "metadata": {},
   "outputs": [
    {
     "name": "stdout",
     "output_type": "stream",
     "text": [
      "<class 'pandas.core.frame.DataFrame'>\n",
      "RangeIndex: 1299 entries, 0 to 1298\n",
      "Data columns (total 5 columns):\n",
      " #   Column  Non-Null Count  Dtype  \n",
      "---  ------  --------------  -----  \n",
      " 0   title   1299 non-null   object \n",
      " 1   author  1299 non-null   object \n",
      " 2   rating  1224 non-null   float64\n",
      " 3   voters  1224 non-null   object \n",
      " 4   price   1299 non-null   float64\n",
      "dtypes: float64(2), object(3)\n",
      "memory usage: 50.9+ KB\n"
     ]
    }
   ],
   "source": [
    "raw_doc_p1.info()"
   ]
  },
  {
   "cell_type": "code",
   "execution_count": 13,
   "metadata": {},
   "outputs": [
    {
     "data": {
      "text/html": [
       "<div>\n",
       "<style scoped>\n",
       "    .dataframe tbody tr th:only-of-type {\n",
       "        vertical-align: middle;\n",
       "    }\n",
       "\n",
       "    .dataframe tbody tr th {\n",
       "        vertical-align: top;\n",
       "    }\n",
       "\n",
       "    .dataframe thead th {\n",
       "        text-align: right;\n",
       "    }\n",
       "</style>\n",
       "<table border=\"1\" class=\"dataframe\">\n",
       "  <thead>\n",
       "    <tr style=\"text-align: right;\">\n",
       "      <th></th>\n",
       "      <th>title</th>\n",
       "      <th>author</th>\n",
       "      <th>rating</th>\n",
       "      <th>voters</th>\n",
       "      <th>price</th>\n",
       "    </tr>\n",
       "  </thead>\n",
       "  <tbody>\n",
       "    <tr>\n",
       "      <th>0</th>\n",
       "      <td>Attack on Titan: Volume 13</td>\n",
       "      <td>Hajime Isayama</td>\n",
       "      <td>4.6</td>\n",
       "      <td>428</td>\n",
       "      <td>43.28</td>\n",
       "    </tr>\n",
       "    <tr>\n",
       "      <th>1</th>\n",
       "      <td>Antiques Roadkill: A Trash 'n' Treasures Mystery</td>\n",
       "      <td>Barbara Allan</td>\n",
       "      <td>3.3</td>\n",
       "      <td>23</td>\n",
       "      <td>26.15</td>\n",
       "    </tr>\n",
       "    <tr>\n",
       "      <th>2</th>\n",
       "      <td>The Art of Super Mario Odyssey</td>\n",
       "      <td>Nintendo</td>\n",
       "      <td>3.9</td>\n",
       "      <td>9</td>\n",
       "      <td>133.85</td>\n",
       "    </tr>\n",
       "  </tbody>\n",
       "</table>\n",
       "</div>"
      ],
      "text/plain": [
       "                                              title          author  rating  \\\n",
       "0                        Attack on Titan: Volume 13  Hajime Isayama     4.6   \n",
       "1  Antiques Roadkill: A Trash 'n' Treasures Mystery   Barbara Allan     3.3   \n",
       "2                    The Art of Super Mario Odyssey        Nintendo     3.9   \n",
       "\n",
       "  voters   price  \n",
       "0    428   43.28  \n",
       "1     23   26.15  \n",
       "2      9  133.85  "
      ]
     },
     "execution_count": 13,
     "metadata": {},
     "output_type": "execute_result"
    }
   ],
   "source": [
    "raw_doc_p1[:3]"
   ]
  },
  {
   "cell_type": "code",
   "execution_count": 14,
   "metadata": {},
   "outputs": [
    {
     "data": {
      "text/plain": [
       "dtype('int64')"
      ]
     },
     "execution_count": 14,
     "metadata": {},
     "output_type": "execute_result"
    }
   ],
   "source": [
    "# Extracting only integer characters for each instantiation\n",
    "raw_doc_p1.loc[:,'voters'] = int_extractor_lambda(raw_doc_p1['voters'])\n",
    "\n",
    "# Converting column to int64\n",
    "raw_doc_p1['voters'] = raw_doc_p1['voters'].astype(\"int64\")\n",
    "raw_doc_p1['voters'].dtype"
   ]
  },
  {
   "cell_type": "code",
   "execution_count": 15,
   "metadata": {},
   "outputs": [
    {
     "name": "stdout",
     "output_type": "stream",
     "text": [
      "<class 'pandas.core.frame.DataFrame'>\n",
      "RangeIndex: 1299 entries, 0 to 1298\n",
      "Data columns (total 5 columns):\n",
      " #   Column  Non-Null Count  Dtype  \n",
      "---  ------  --------------  -----  \n",
      " 0   title   1299 non-null   object \n",
      " 1   author  1299 non-null   object \n",
      " 2   rating  1224 non-null   float64\n",
      " 3   voters  1299 non-null   int64  \n",
      " 4   price   1299 non-null   float64\n",
      "dtypes: float64(2), int64(1), object(2)\n",
      "memory usage: 50.9+ KB\n"
     ]
    }
   ],
   "source": [
    "raw_doc_p1.info()"
   ]
  },
  {
   "cell_type": "code",
   "execution_count": 16,
   "metadata": {},
   "outputs": [
    {
     "data": {
      "text/html": [
       "<div>\n",
       "<style scoped>\n",
       "    .dataframe tbody tr th:only-of-type {\n",
       "        vertical-align: middle;\n",
       "    }\n",
       "\n",
       "    .dataframe tbody tr th {\n",
       "        vertical-align: top;\n",
       "    }\n",
       "\n",
       "    .dataframe thead th {\n",
       "        text-align: right;\n",
       "    }\n",
       "</style>\n",
       "<table border=\"1\" class=\"dataframe\">\n",
       "  <thead>\n",
       "    <tr style=\"text-align: right;\">\n",
       "      <th></th>\n",
       "      <th>title</th>\n",
       "      <th>author</th>\n",
       "      <th>rating</th>\n",
       "      <th>voters</th>\n",
       "      <th>price</th>\n",
       "    </tr>\n",
       "  </thead>\n",
       "  <tbody>\n",
       "    <tr>\n",
       "      <th>0</th>\n",
       "      <td>Attack on Titan: Volume 13</td>\n",
       "      <td>Hajime Isayama</td>\n",
       "      <td>4.6</td>\n",
       "      <td>428</td>\n",
       "      <td>43.28</td>\n",
       "    </tr>\n",
       "    <tr>\n",
       "      <th>1</th>\n",
       "      <td>Antiques Roadkill: A Trash 'n' Treasures Mystery</td>\n",
       "      <td>Barbara Allan</td>\n",
       "      <td>3.3</td>\n",
       "      <td>23</td>\n",
       "      <td>26.15</td>\n",
       "    </tr>\n",
       "    <tr>\n",
       "      <th>2</th>\n",
       "      <td>The Art of Super Mario Odyssey</td>\n",
       "      <td>Nintendo</td>\n",
       "      <td>3.9</td>\n",
       "      <td>9</td>\n",
       "      <td>133.85</td>\n",
       "    </tr>\n",
       "  </tbody>\n",
       "</table>\n",
       "</div>"
      ],
      "text/plain": [
       "                                              title          author  rating  \\\n",
       "0                        Attack on Titan: Volume 13  Hajime Isayama     4.6   \n",
       "1  Antiques Roadkill: A Trash 'n' Treasures Mystery   Barbara Allan     3.3   \n",
       "2                    The Art of Super Mario Odyssey        Nintendo     3.9   \n",
       "\n",
       "   voters   price  \n",
       "0     428   43.28  \n",
       "1      23   26.15  \n",
       "2       9  133.85  "
      ]
     },
     "execution_count": 16,
     "metadata": {},
     "output_type": "execute_result"
    }
   ],
   "source": [
    "raw_doc_p1[:3]"
   ]
  },
  {
   "cell_type": "markdown",
   "metadata": {},
   "source": [
    "#### raw_doc_p2"
   ]
  },
  {
   "cell_type": "code",
   "execution_count": 76,
   "metadata": {},
   "outputs": [
    {
     "name": "stdout",
     "output_type": "stream",
     "text": [
      "<class 'pandas.core.frame.DataFrame'>\n",
      "RangeIndex: 1299 entries, 0 to 1298\n",
      "Data columns (total 4 columns):\n",
      " #   Column       Non-Null Count  Dtype \n",
      "---  ------       --------------  ----- \n",
      " 0   currency     1299 non-null   object\n",
      " 1   description  1296 non-null   object\n",
      " 2   publisher    1299 non-null   object\n",
      " 3   page_count   1299 non-null   int64 \n",
      "dtypes: int64(1), object(3)\n",
      "memory usage: 40.7+ KB\n"
     ]
    }
   ],
   "source": [
    "raw_doc_p2.info()"
   ]
  },
  {
   "cell_type": "code",
   "execution_count": null,
   "metadata": {},
   "outputs": [
    {
     "data": {
      "text/html": [
       "<div>\n",
       "<style scoped>\n",
       "    .dataframe tbody tr th:only-of-type {\n",
       "        vertical-align: middle;\n",
       "    }\n",
       "\n",
       "    .dataframe tbody tr th {\n",
       "        vertical-align: top;\n",
       "    }\n",
       "\n",
       "    .dataframe thead th {\n",
       "        text-align: right;\n",
       "    }\n",
       "</style>\n",
       "<table border=\"1\" class=\"dataframe\">\n",
       "  <thead>\n",
       "    <tr style=\"text-align: right;\">\n",
       "      <th></th>\n",
       "      <th>currency</th>\n",
       "      <th>description</th>\n",
       "      <th>publisher</th>\n",
       "      <th>page_count</th>\n",
       "    </tr>\n",
       "  </thead>\n",
       "  <tbody>\n",
       "    <tr>\n",
       "      <th>0</th>\n",
       "      <td>SAR</td>\n",
       "      <td>NO SAFE PLACE LEFT At great cost to the Garris...</td>\n",
       "      <td>Kodansha Comics</td>\n",
       "      <td>192</td>\n",
       "    </tr>\n",
       "    <tr>\n",
       "      <th>1</th>\n",
       "      <td>SAR</td>\n",
       "      <td>Determined to make a new start in her quaint h...</td>\n",
       "      <td>Kensington Publishing Corp.</td>\n",
       "      <td>288</td>\n",
       "    </tr>\n",
       "    <tr>\n",
       "      <th>2</th>\n",
       "      <td>SAR</td>\n",
       "      <td>Take a globetrotting journey all over the worl...</td>\n",
       "      <td>Dark Horse Comics</td>\n",
       "      <td>368</td>\n",
       "    </tr>\n",
       "  </tbody>\n",
       "</table>\n",
       "</div>"
      ],
      "text/plain": [
       "  currency                                        description  \\\n",
       "0      SAR  NO SAFE PLACE LEFT At great cost to the Garris...   \n",
       "1      SAR  Determined to make a new start in her quaint h...   \n",
       "2      SAR  Take a globetrotting journey all over the worl...   \n",
       "\n",
       "                     publisher  page_count  \n",
       "0              Kodansha Comics         192  \n",
       "1  Kensington Publishing Corp.         288  \n",
       "2            Dark Horse Comics         368  "
      ]
     },
     "execution_count": 18,
     "metadata": {},
     "output_type": "execute_result"
    }
   ],
   "source": [
    "# Preview\n",
    "\n",
    "raw_doc_p2[:3]"
   ]
  },
  {
   "cell_type": "markdown",
   "metadata": {},
   "source": [
    "##### Inspection"
   ]
  },
  {
   "cell_type": "code",
   "execution_count": 19,
   "metadata": {},
   "outputs": [
    {
     "data": {
      "text/plain": [
       "array([          192,           288,           368,           320,\n",
       "                 544,           864,           400,           226,\n",
       "                 304,           112,           208,           250,\n",
       "                  96,            40,           704,            30,\n",
       "                  32,           144,           358,           245,\n",
       "                 416,           336,           168,           176,\n",
       "                 357,           448,           384,          1424,\n",
       "                 656,           240,           146,           256,\n",
       "                 476,           272,           592,           672,\n",
       "                 224,          4544,           720,           576,\n",
       "                 148,           350,           216,           352,\n",
       "                 300,           464,           408,           136,\n",
       "                 500,           164,            15,            52,\n",
       "                 172,           816,           128,           688,\n",
       "                  31,           254,           130,           944,\n",
       "                 640,           355,           624,           200,\n",
       "                  18,           800,          1168,          1400,\n",
       "                  24,            60,           771,            17,\n",
       "                 832,           160,          1040,           194,\n",
       "                   7,            80,           360,          1712,\n",
       "       9781302013929,           147,          1216,            28,\n",
       "                 126,            49,           363,           547,\n",
       "                 404,          2192,           152,            23,\n",
       "                 180,            14,            36,            25,\n",
       "                  34,          1728,            26,            56,\n",
       "                 228,           667,            33])"
      ]
     },
     "execution_count": 19,
     "metadata": {},
     "output_type": "execute_result"
    }
   ],
   "source": [
    "# Inspecting 'page_count' feature\n",
    "\n",
    "raw_doc_p2['page_count'].unique()"
   ]
  },
  {
   "cell_type": "markdown",
   "metadata": {},
   "source": [
    "This shows what seems to be an ISBN number stored in this column.\n",
    "\n",
    "Corroborating with the <a href='https://www.kaggle.com/datasets/bilalyussef/google-books-dataset'>file source hosted by Kaggle</a>, this does seem to be the case (check graph displayed within the first row of the 'page_count' column).\n",
    "\n",
    "The total page count is supposed to be 144, confirmed with <a href='https://www.amazon.co.uk/Deadpool-Team-Up-Fred-Van-Lente/dp/0785145281'>a quick Google search of the entry</a>.\n",
    "\n",
    "Since the <code>ISBN</code> column is stored within <code>raw_doc_p3</code>, we will correct 'page_count' via modifying <code>raw_doc_p2</code> and 'ISBN' via modifying <code>raw_doc_p3</code>."
   ]
  },
  {
   "cell_type": "code",
   "execution_count": 215,
   "metadata": {},
   "outputs": [
    {
     "data": {
      "text/html": [
       "<div>\n",
       "<style scoped>\n",
       "    .dataframe tbody tr th:only-of-type {\n",
       "        vertical-align: middle;\n",
       "    }\n",
       "\n",
       "    .dataframe tbody tr th {\n",
       "        vertical-align: top;\n",
       "    }\n",
       "\n",
       "    .dataframe thead th {\n",
       "        text-align: right;\n",
       "    }\n",
       "</style>\n",
       "<table border=\"1\" class=\"dataframe\">\n",
       "  <thead>\n",
       "    <tr style=\"text-align: right;\">\n",
       "      <th></th>\n",
       "      <th>currency</th>\n",
       "      <th>description</th>\n",
       "      <th>publisher</th>\n",
       "      <th>page_count</th>\n",
       "    </tr>\n",
       "  </thead>\n",
       "  <tbody>\n",
       "    <tr>\n",
       "      <th>288</th>\n",
       "      <td>SAR</td>\n",
       "      <td>Stop rubbing your eyes, fanboy, they don't dec...</td>\n",
       "      <td>Marvel Entertainment</td>\n",
       "      <td>9781302013929</td>\n",
       "    </tr>\n",
       "    <tr>\n",
       "      <th>1241</th>\n",
       "      <td>SAR</td>\n",
       "      <td>Stop rubbing your eyes, fanboy, they don't dec...</td>\n",
       "      <td>Marvel Entertainment</td>\n",
       "      <td>9781302013929</td>\n",
       "    </tr>\n",
       "  </tbody>\n",
       "</table>\n",
       "</div>"
      ],
      "text/plain": [
       "     currency                                        description  \\\n",
       "288       SAR  Stop rubbing your eyes, fanboy, they don't dec...   \n",
       "1241      SAR  Stop rubbing your eyes, fanboy, they don't dec...   \n",
       "\n",
       "                 publisher     page_count  \n",
       "288   Marvel Entertainment  9781302013929  \n",
       "1241  Marvel Entertainment  9781302013929  "
      ]
     },
     "execution_count": 215,
     "metadata": {},
     "output_type": "execute_result"
    }
   ],
   "source": [
    "# Isolating and retrieving pages with ISBN no. '9781302013929' to correct 'page_count' feature\n",
    "\n",
    "raw_doc_p2.loc[raw_doc_p2['page_count']==9781302013929]"
   ]
  },
  {
   "cell_type": "code",
   "execution_count": 216,
   "metadata": {},
   "outputs": [
    {
     "data": {
      "text/html": [
       "<div>\n",
       "<style scoped>\n",
       "    .dataframe tbody tr th:only-of-type {\n",
       "        vertical-align: middle;\n",
       "    }\n",
       "\n",
       "    .dataframe tbody tr th {\n",
       "        vertical-align: top;\n",
       "    }\n",
       "\n",
       "    .dataframe thead th {\n",
       "        text-align: right;\n",
       "    }\n",
       "</style>\n",
       "<table border=\"1\" class=\"dataframe\">\n",
       "  <thead>\n",
       "    <tr style=\"text-align: right;\">\n",
       "      <th></th>\n",
       "      <th>genres</th>\n",
       "      <th>ISBN</th>\n",
       "      <th>language</th>\n",
       "      <th>published_date</th>\n",
       "    </tr>\n",
       "  </thead>\n",
       "  <tbody>\n",
       "    <tr>\n",
       "      <th>288</th>\n",
       "      <td>Comics &amp; Graphic Novels , Superheroes</td>\n",
       "      <td>Original pages</td>\n",
       "      <td>English</td>\n",
       "      <td>186</td>\n",
       "    </tr>\n",
       "    <tr>\n",
       "      <th>1241</th>\n",
       "      <td>Comics &amp; Graphic Novels , Superheroes</td>\n",
       "      <td>Original pages</td>\n",
       "      <td>English</td>\n",
       "      <td>186</td>\n",
       "    </tr>\n",
       "  </tbody>\n",
       "</table>\n",
       "</div>"
      ],
      "text/plain": [
       "                                     genres            ISBN language  \\\n",
       "288   Comics & Graphic Novels , Superheroes  Original pages  English   \n",
       "1241  Comics & Graphic Novels , Superheroes  Original pages  English   \n",
       "\n",
       "     published_date  \n",
       "288             186  \n",
       "1241            186  "
      ]
     },
     "execution_count": 216,
     "metadata": {},
     "output_type": "execute_result"
    }
   ],
   "source": [
    "# Isolating and retrieving pages with ISBN no. '9781302013929' to correct 'ISBN' feature\n",
    "\n",
    "raw_doc_p3.loc[raw_doc_p2['page_count']==9781302013929]"
   ]
  },
  {
   "cell_type": "code",
   "execution_count": null,
   "metadata": {},
   "outputs": [],
   "source": [
    "# Fixing 'ISBN' numbers\n",
    "\n",
    "raw_doc_p3.loc[raw_doc_p2['page_count'] == 9781302013929, 'ISBN'] = 9781302013929"
   ]
  },
  {
   "cell_type": "code",
   "execution_count": 225,
   "metadata": {},
   "outputs": [],
   "source": [
    "# Fixing 'page_count' numbers\n",
    "\n",
    "raw_doc_p2.loc[raw_doc_p2['page_count'] == 9781302013929, 'page_count'] = 144"
   ]
  },
  {
   "cell_type": "code",
   "execution_count": null,
   "metadata": {},
   "outputs": [
    {
     "data": {
      "text/plain": [
       "currency                                                     SAR\n",
       "description    Stop rubbing your eyes, fanboy, they don't dec...\n",
       "publisher                                   Marvel Entertainment\n",
       "page_count                                                   144\n",
       "Name: 288, dtype: object"
      ]
     },
     "execution_count": 230,
     "metadata": {},
     "output_type": "execute_result"
    }
   ],
   "source": [
    "# Checking if 'page_count' has been modified appropriately\n",
    "\n",
    "raw_doc_p2.iloc[288]"
   ]
  },
  {
   "cell_type": "code",
   "execution_count": null,
   "metadata": {},
   "outputs": [
    {
     "data": {
      "text/plain": [
       "genres            Comics & Graphic Novels , Superheroes\n",
       "ISBN                                      9781302013929\n",
       "language                                        English\n",
       "published_date                                      186\n",
       "Name: 1241, dtype: object"
      ]
     },
     "execution_count": 231,
     "metadata": {},
     "output_type": "execute_result"
    }
   ],
   "source": [
    "# Checking if 'ISBN' has been modified appropriately\n",
    "\n",
    "raw_doc_p3.iloc[1241]"
   ]
  },
  {
   "cell_type": "code",
   "execution_count": 233,
   "metadata": {},
   "outputs": [
    {
     "data": {
      "text/plain": [
       "array([ 192,  288,  368,  320,  544,  864,  400,  226,  304,  112,  208,\n",
       "        250,   96,   40,  704,   30,   32,  144,  358,  245,  416,  336,\n",
       "        168,  176,  357,  448,  384, 1424,  656,  240,  146,  256,  476,\n",
       "        272,  592,  672,  224, 4544,  720,  576,  148,  350,  216,  352,\n",
       "        300,  464,  408,  136,  500,  164,   15,   52,  172,  816,  128,\n",
       "        688,   31,  254,  130,  944,  640,  355,  624,  200,   18,  800,\n",
       "       1168, 1400,   24,   60,  771,   17,  832,  160, 1040,  194,    7,\n",
       "         80,  360, 1712,  147, 1216,   28,  126,   49,  363,  547,  404,\n",
       "       2192,  152,   23,  180,   14,   36,   25,   34, 1728,   26,   56,\n",
       "        228,  667,   33])"
      ]
     },
     "execution_count": 233,
     "metadata": {},
     "output_type": "execute_result"
    }
   ],
   "source": [
    "# Re-inspecting 'page_count' feature\n",
    "\n",
    "raw_doc_p2['page_count'].unique()"
   ]
  },
  {
   "cell_type": "code",
   "execution_count": null,
   "metadata": {},
   "outputs": [
    {
     "data": {
      "text/plain": [
       "array(['9781612626864', '9780758272799', '9781506713816', '9781617734076',\n",
       "       '9780007287758', '9780007369218', '9781789090154', '9781250166609',\n",
       "       '9780062651242', '9781529018592', '9781473211551', '9780007422586',\n",
       "       '9781632917072', '9781302368807', '9780007452170', '9781429960748',\n",
       "       'Original pages', '9781646590797', '9781529404937',\n",
       "       '9780785180197', '9781838880514', '9780330513081', '9780007423309',\n",
       "       '9780061899874', '9781506714820', '9781840469097', '9780345539854',\n",
       "       '9781529361353', '9780008150907', '9781409005216', '9781838880415',\n",
       "       '9781101636459', '9780451491848', '9780062359803', '9788026804758',\n",
       "       '9780345535658', '9781101042892', '9780307887450', '9781632913821',\n",
       "       '9781451621716', '9781601638618', '9781496708489', '9781401242299',\n",
       "       '9781524763404', '9781789460148', '9781476759685', '9780062336583',\n",
       "       '9781448170609', '9780785170242', '9781101615478', '9781473684454',\n",
       "       '9781847651402', '9781416595847', '9780814434222', '9781440631849',\n",
       "       '9781429960373', '9780061793660', '9780007482931', '9780553897845',\n",
       "       '9781473526853', '9781476797502', '9780008244880', '9780062119209',\n",
       "       '9780749460211', '9781472249425', '9781632913296', '9781401235888',\n",
       "       '9781405941020', '9781449474836', '9781939996343', '9780307463760',\n",
       "       '9781401287184', '9780486114354', '9780786956890', '9781250237248',\n",
       "       '9781927036600', '9780307574961', '9781473663527', '9780399587993',\n",
       "       '9781632918031', '9780007319923', '9781101128459', '9781448176007',\n",
       "       '9780062218360', '9781943481316', '9780356504322', '9780007374038',\n",
       "       '9781302401580', '9780575087057', '9780399564505', '9781473202993',\n",
       "       '9781632915740', '9781626569430', '9781617738760', '9781524705398',\n",
       "       '9781640290112', '9781617730436', '9781605099408', '9781501124051',\n",
       "       '9781401244378', '9781526012456', '9781848940819', '9780814434208',\n",
       "       '9781617731259', '9781401235741', '9780758265111', '9781409134336',\n",
       "       '9781534427358', '9780345459541', '9780804190121', '9781429960571',\n",
       "       '9780758277695', '9780345542847', 'Flowing text', '9781401236632',\n",
       "       '9781595555045', '9780385544191', '9781405516976', '9780356504650',\n",
       "       '9781426892103', '9780393249125', '9780547601205', '9780330523332',\n",
       "       '9780330524759', '9781473211582', '9781683356950', '9781640294127',\n",
       "       '9783743895003', '9780425285954', '9780785179009', '9781501141232',\n",
       "       '9781476789477', '9780374722104', '9781101904237', '9780785182962',\n",
       "       '9780748129942', '9781250314161', '9780735213524', '9780061792809',\n",
       "       '9781471167690', '9780743274333', '9781429959810',\n",
       "       'Flowing text, Google-generated PDF', '9781418530297',\n",
       "       '9781401945534', '9781526012487', '9780525541820', '9780804179607',\n",
       "       '9780679603856', '9780007463497', '9781302494605', '9780345443076',\n",
       "       '9780399593550', '9780553905656', '9781474602198', '9780814432990',\n",
       "       '9781401236410', '9780007422135', '9788074844553', '9781940270371',\n",
       "       '9781526610232', '9781416554998', '9781429960199', '9780814436288',\n",
       "       '9780814437049', '9780698161863', '9781497684256', '9780007593101',\n",
       "       '9781429989817', '9781471172816', 9781302013929, '9781401266066',\n",
       "       '9781302507169', '9781101207369', '9781786814029', '9780007322596',\n",
       "       '9781607066309', '9780996435420', '9780141983776', '9783736805101',\n",
       "       '9781401239565', '9781401270506', '9780814416259', '9781627931991',\n",
       "       '9781440511929', '9781779501837', '9781473649491', '9781471407574',\n",
       "       '9781640297579', '9783642286162', '9780071802673', '9780698155558',\n",
       "       '9781260019940', '9780759515062', '9781302013622', '9780385354295',\n",
       "       '9781302480042', '9781101872932', '9781302377366', '9781302505295',\n",
       "       '9780525505372', '9780571356515', '9780748112586', '9781401252090',\n",
       "       '9780307796226', '9788026850519', '9780345535863', '9781473616141',\n",
       "       '9781401253523', '9781302393021', '9781094310442', '9781619882171',\n",
       "       '9781302368173', '9781401244330', '9780071614146', '9781632914965',\n",
       "       '9781405914895', '9780698198586', '9780765396143', '9781302486112',\n",
       "       '9781640291102', '9780571321599', '9780385347419', '9780761181347',\n",
       "       '9781401267452', '9781418535285', '9781627931502', '9781743341490'],\n",
       "      dtype=object)"
      ]
     },
     "execution_count": 234,
     "metadata": {},
     "output_type": "execute_result"
    }
   ],
   "source": [
    "# Inspecting the 'ISBN' feature\n",
    "\n",
    "raw_doc_p3['ISBN'].unique()"
   ]
  },
  {
   "cell_type": "markdown",
   "metadata": {},
   "source": [
    "We see within the <strong>first few records</strong>, the string <code>\"Original pages\"</code> still exists.\n",
    "\n",
    "We will clean this further within its own subset below - let us finish on cleaning the other features remaining in subset <code>raw_doc_p2</code>"
   ]
  },
  {
   "cell_type": "code",
   "execution_count": null,
   "metadata": {},
   "outputs": [
    {
     "data": {
      "text/plain": [
       "array(['SAR', 'Free'], dtype=object)"
      ]
     },
     "execution_count": 235,
     "metadata": {},
     "output_type": "execute_result"
    }
   ],
   "source": [
    "# Inspecting 'currency' feature\n",
    "\n",
    "raw_doc_p2['currency'].unique()"
   ]
  },
  {
   "cell_type": "code",
   "execution_count": 237,
   "metadata": {},
   "outputs": [
    {
     "data": {
      "text/html": [
       "<div>\n",
       "<style scoped>\n",
       "    .dataframe tbody tr th:only-of-type {\n",
       "        vertical-align: middle;\n",
       "    }\n",
       "\n",
       "    .dataframe tbody tr th {\n",
       "        vertical-align: top;\n",
       "    }\n",
       "\n",
       "    .dataframe thead th {\n",
       "        text-align: right;\n",
       "    }\n",
       "</style>\n",
       "<table border=\"1\" class=\"dataframe\">\n",
       "  <thead>\n",
       "    <tr style=\"text-align: right;\">\n",
       "      <th></th>\n",
       "      <th>currency</th>\n",
       "      <th>description</th>\n",
       "      <th>publisher</th>\n",
       "      <th>page_count</th>\n",
       "    </tr>\n",
       "  </thead>\n",
       "  <tbody>\n",
       "    <tr>\n",
       "      <th>52</th>\n",
       "      <td>Free</td>\n",
       "      <td>Edgar Allan Poe’s celebrated narrative poem no...</td>\n",
       "      <td>Simon and Schuster</td>\n",
       "      <td>32</td>\n",
       "    </tr>\n",
       "    <tr>\n",
       "      <th>72</th>\n",
       "      <td>Free</td>\n",
       "      <td>From his rooms in Baker Street, Sherlock Holme...</td>\n",
       "      <td>Simon and Schuster</td>\n",
       "      <td>320</td>\n",
       "    </tr>\n",
       "    <tr>\n",
       "      <th>182</th>\n",
       "      <td>Free</td>\n",
       "      <td>“A masterpiece of thriller and mystery! The au...</td>\n",
       "      <td>Blake Pierce</td>\n",
       "      <td>250</td>\n",
       "    </tr>\n",
       "    <tr>\n",
       "      <th>184</th>\n",
       "      <td>Free</td>\n",
       "      <td>This cookbook contains 15 delicious slow cooke...</td>\n",
       "      <td>BookRix</td>\n",
       "      <td>18</td>\n",
       "    </tr>\n",
       "    <tr>\n",
       "      <th>191</th>\n",
       "      <td>Free</td>\n",
       "      <td>War and Peace is considered one of the world’s...</td>\n",
       "      <td>Simon and Schuster</td>\n",
       "      <td>1400</td>\n",
       "    </tr>\n",
       "    <tr>\n",
       "      <th>193</th>\n",
       "      <td>Free</td>\n",
       "      <td>From his rooms in Baker Street, Sherlock Holme...</td>\n",
       "      <td>Simon and Schuster</td>\n",
       "      <td>320</td>\n",
       "    </tr>\n",
       "    <tr>\n",
       "      <th>216</th>\n",
       "      <td>Free</td>\n",
       "      <td>This cookbook contains 15 delicious slow cooke...</td>\n",
       "      <td>BookRix</td>\n",
       "      <td>18</td>\n",
       "    </tr>\n",
       "    <tr>\n",
       "      <th>232</th>\n",
       "      <td>Free</td>\n",
       "      <td>“A masterpiece of thriller and mystery! The au...</td>\n",
       "      <td>Blake Pierce</td>\n",
       "      <td>250</td>\n",
       "    </tr>\n",
       "    <tr>\n",
       "      <th>247</th>\n",
       "      <td>Free</td>\n",
       "      <td>War and Peace is considered one of the world’s...</td>\n",
       "      <td>Simon and Schuster</td>\n",
       "      <td>1400</td>\n",
       "    </tr>\n",
       "    <tr>\n",
       "      <th>302</th>\n",
       "      <td>Free</td>\n",
       "      <td>From his rooms in Baker Street, Sherlock Holme...</td>\n",
       "      <td>Simon and Schuster</td>\n",
       "      <td>320</td>\n",
       "    </tr>\n",
       "    <tr>\n",
       "      <th>440</th>\n",
       "      <td>Free</td>\n",
       "      <td>From his rooms in Baker Street, Sherlock Holme...</td>\n",
       "      <td>Simon and Schuster</td>\n",
       "      <td>320</td>\n",
       "    </tr>\n",
       "    <tr>\n",
       "      <th>536</th>\n",
       "      <td>Free</td>\n",
       "      <td>This cookbook contains 15 delicious slow cooke...</td>\n",
       "      <td>BookRix</td>\n",
       "      <td>18</td>\n",
       "    </tr>\n",
       "    <tr>\n",
       "      <th>596</th>\n",
       "      <td>Free</td>\n",
       "      <td>Edgar Allan Poe’s celebrated narrative poem no...</td>\n",
       "      <td>Simon and Schuster</td>\n",
       "      <td>32</td>\n",
       "    </tr>\n",
       "    <tr>\n",
       "      <th>790</th>\n",
       "      <td>Free</td>\n",
       "      <td>NaN</td>\n",
       "      <td>Disha Publications</td>\n",
       "      <td>23</td>\n",
       "    </tr>\n",
       "    <tr>\n",
       "      <th>867</th>\n",
       "      <td>Free</td>\n",
       "      <td>War and Peace is considered one of the world’s...</td>\n",
       "      <td>Simon and Schuster</td>\n",
       "      <td>1400</td>\n",
       "    </tr>\n",
       "    <tr>\n",
       "      <th>894</th>\n",
       "      <td>Free</td>\n",
       "      <td>From his rooms in Baker Street, Sherlock Holme...</td>\n",
       "      <td>Simon and Schuster</td>\n",
       "      <td>320</td>\n",
       "    </tr>\n",
       "    <tr>\n",
       "      <th>900</th>\n",
       "      <td>Free</td>\n",
       "      <td>“A masterpiece of thriller and mystery! The au...</td>\n",
       "      <td>Blake Pierce</td>\n",
       "      <td>250</td>\n",
       "    </tr>\n",
       "    <tr>\n",
       "      <th>904</th>\n",
       "      <td>Free</td>\n",
       "      <td>“A masterpiece of thriller and mystery! The au...</td>\n",
       "      <td>Blake Pierce</td>\n",
       "      <td>250</td>\n",
       "    </tr>\n",
       "    <tr>\n",
       "      <th>912</th>\n",
       "      <td>Free</td>\n",
       "      <td>NaN</td>\n",
       "      <td>Disha Publications</td>\n",
       "      <td>25</td>\n",
       "    </tr>\n",
       "    <tr>\n",
       "      <th>968</th>\n",
       "      <td>Free</td>\n",
       "      <td>“A masterpiece of thriller and mystery! The au...</td>\n",
       "      <td>Blake Pierce</td>\n",
       "      <td>250</td>\n",
       "    </tr>\n",
       "    <tr>\n",
       "      <th>1020</th>\n",
       "      <td>Free</td>\n",
       "      <td>Edgar Allan Poe’s celebrated narrative poem no...</td>\n",
       "      <td>Simon and Schuster</td>\n",
       "      <td>32</td>\n",
       "    </tr>\n",
       "    <tr>\n",
       "      <th>1026</th>\n",
       "      <td>Free</td>\n",
       "      <td>This cookbook contains 15 delicious slow cooke...</td>\n",
       "      <td>BookRix</td>\n",
       "      <td>18</td>\n",
       "    </tr>\n",
       "    <tr>\n",
       "      <th>1036</th>\n",
       "      <td>Free</td>\n",
       "      <td>War and Peace is considered one of the world’s...</td>\n",
       "      <td>Simon and Schuster</td>\n",
       "      <td>1400</td>\n",
       "    </tr>\n",
       "    <tr>\n",
       "      <th>1055</th>\n",
       "      <td>Free</td>\n",
       "      <td>War and Peace is considered one of the world’s...</td>\n",
       "      <td>Simon and Schuster</td>\n",
       "      <td>1400</td>\n",
       "    </tr>\n",
       "    <tr>\n",
       "      <th>1102</th>\n",
       "      <td>Free</td>\n",
       "      <td>From his rooms in Baker Street, Sherlock Holme...</td>\n",
       "      <td>Simon and Schuster</td>\n",
       "      <td>320</td>\n",
       "    </tr>\n",
       "    <tr>\n",
       "      <th>1124</th>\n",
       "      <td>Free</td>\n",
       "      <td>NaN</td>\n",
       "      <td>Disha Publications</td>\n",
       "      <td>33</td>\n",
       "    </tr>\n",
       "    <tr>\n",
       "      <th>1126</th>\n",
       "      <td>Free</td>\n",
       "      <td>Edgar Allan Poe’s celebrated narrative poem no...</td>\n",
       "      <td>Simon and Schuster</td>\n",
       "      <td>32</td>\n",
       "    </tr>\n",
       "    <tr>\n",
       "      <th>1147</th>\n",
       "      <td>Free</td>\n",
       "      <td>Edgar Allan Poe’s celebrated narrative poem no...</td>\n",
       "      <td>Simon and Schuster</td>\n",
       "      <td>32</td>\n",
       "    </tr>\n",
       "    <tr>\n",
       "      <th>1183</th>\n",
       "      <td>Free</td>\n",
       "      <td>Edgar Allan Poe’s celebrated narrative poem no...</td>\n",
       "      <td>Simon and Schuster</td>\n",
       "      <td>32</td>\n",
       "    </tr>\n",
       "    <tr>\n",
       "      <th>1271</th>\n",
       "      <td>Free</td>\n",
       "      <td>“A masterpiece of thriller and mystery! The au...</td>\n",
       "      <td>Blake Pierce</td>\n",
       "      <td>250</td>\n",
       "    </tr>\n",
       "  </tbody>\n",
       "</table>\n",
       "</div>"
      ],
      "text/plain": [
       "     currency                                        description  \\\n",
       "52       Free  Edgar Allan Poe’s celebrated narrative poem no...   \n",
       "72       Free  From his rooms in Baker Street, Sherlock Holme...   \n",
       "182      Free  “A masterpiece of thriller and mystery! The au...   \n",
       "184      Free  This cookbook contains 15 delicious slow cooke...   \n",
       "191      Free  War and Peace is considered one of the world’s...   \n",
       "193      Free  From his rooms in Baker Street, Sherlock Holme...   \n",
       "216      Free  This cookbook contains 15 delicious slow cooke...   \n",
       "232      Free  “A masterpiece of thriller and mystery! The au...   \n",
       "247      Free  War and Peace is considered one of the world’s...   \n",
       "302      Free  From his rooms in Baker Street, Sherlock Holme...   \n",
       "440      Free  From his rooms in Baker Street, Sherlock Holme...   \n",
       "536      Free  This cookbook contains 15 delicious slow cooke...   \n",
       "596      Free  Edgar Allan Poe’s celebrated narrative poem no...   \n",
       "790      Free                                                NaN   \n",
       "867      Free  War and Peace is considered one of the world’s...   \n",
       "894      Free  From his rooms in Baker Street, Sherlock Holme...   \n",
       "900      Free  “A masterpiece of thriller and mystery! The au...   \n",
       "904      Free  “A masterpiece of thriller and mystery! The au...   \n",
       "912      Free                                                NaN   \n",
       "968      Free  “A masterpiece of thriller and mystery! The au...   \n",
       "1020     Free  Edgar Allan Poe’s celebrated narrative poem no...   \n",
       "1026     Free  This cookbook contains 15 delicious slow cooke...   \n",
       "1036     Free  War and Peace is considered one of the world’s...   \n",
       "1055     Free  War and Peace is considered one of the world’s...   \n",
       "1102     Free  From his rooms in Baker Street, Sherlock Holme...   \n",
       "1124     Free                                                NaN   \n",
       "1126     Free  Edgar Allan Poe’s celebrated narrative poem no...   \n",
       "1147     Free  Edgar Allan Poe’s celebrated narrative poem no...   \n",
       "1183     Free  Edgar Allan Poe’s celebrated narrative poem no...   \n",
       "1271     Free  “A masterpiece of thriller and mystery! The au...   \n",
       "\n",
       "               publisher  page_count  \n",
       "52    Simon and Schuster          32  \n",
       "72    Simon and Schuster         320  \n",
       "182         Blake Pierce         250  \n",
       "184              BookRix          18  \n",
       "191   Simon and Schuster        1400  \n",
       "193   Simon and Schuster         320  \n",
       "216              BookRix          18  \n",
       "232         Blake Pierce         250  \n",
       "247   Simon and Schuster        1400  \n",
       "302   Simon and Schuster         320  \n",
       "440   Simon and Schuster         320  \n",
       "536              BookRix          18  \n",
       "596   Simon and Schuster          32  \n",
       "790   Disha Publications          23  \n",
       "867   Simon and Schuster        1400  \n",
       "894   Simon and Schuster         320  \n",
       "900         Blake Pierce         250  \n",
       "904         Blake Pierce         250  \n",
       "912   Disha Publications          25  \n",
       "968         Blake Pierce         250  \n",
       "1020  Simon and Schuster          32  \n",
       "1026             BookRix          18  \n",
       "1036  Simon and Schuster        1400  \n",
       "1055  Simon and Schuster        1400  \n",
       "1102  Simon and Schuster         320  \n",
       "1124  Disha Publications          33  \n",
       "1126  Simon and Schuster          32  \n",
       "1147  Simon and Schuster          32  \n",
       "1183  Simon and Schuster          32  \n",
       "1271        Blake Pierce         250  "
      ]
     },
     "execution_count": 237,
     "metadata": {},
     "output_type": "execute_result"
    }
   ],
   "source": [
    "# Further inspecting 'Free' records\n",
    "\n",
    "raw_doc_p2[raw_doc_p2['currency']==\"Free\"]"
   ]
  },
  {
   "cell_type": "markdown",
   "metadata": {},
   "source": [
    "This feature seems good to go - moving on to the next one."
   ]
  },
  {
   "cell_type": "code",
   "execution_count": null,
   "metadata": {},
   "outputs": [
    {
     "data": {
      "text/plain": [
       "np.True_"
      ]
     },
     "execution_count": 243,
     "metadata": {},
     "output_type": "execute_result"
    }
   ],
   "source": [
    "# Checking if there are duplicates\n",
    "\n",
    "raw_doc_p2['description'].duplicated().any()"
   ]
  },
  {
   "cell_type": "code",
   "execution_count": 247,
   "metadata": {},
   "outputs": [
    {
     "data": {
      "text/plain": [
       "np.int64(1054)"
      ]
     },
     "execution_count": 247,
     "metadata": {},
     "output_type": "execute_result"
    }
   ],
   "source": [
    "# Checking for total count of duplicated books\n",
    "\n",
    "raw_doc_p2['description'].duplicated().sum()"
   ]
  },
  {
   "cell_type": "markdown",
   "metadata": {},
   "source": [
    "I am trying to understand better <strong>why there are duplicate descriptions</strong> - my guess is some entries are excerpts from a volume/collection of books, but would need to verify this.\n",
    "\n",
    "To do so we will:\n",
    "\n",
    "<ol>\n",
    "<li> Sample from a collection of duplicates\n",
    "<li> Compare this sample to all instances of duplicate instance within the current subset\n",
    "<li> If none exist to satisfy differentiating between <strong>all instances within the same subset</strong>, find differences between all instances of 'description' duplicate feature between all subsets.\n",
    "<li> If none, pick first entry of duplicate (there is no ordering to the dataset therefore discretion is advised for choice of duplicate selection).\n",
    "</ol>"
   ]
  },
  {
   "cell_type": "code",
   "execution_count": 269,
   "metadata": {},
   "outputs": [
    {
     "name": "stderr",
     "output_type": "stream",
     "text": [
      "C:\\Users\\mquay\\AppData\\Local\\Temp\\ipykernel_21884\\2857861438.py:3: UserWarning: Boolean Series key will be reindexed to match DataFrame index.\n",
      "  duplicate_descriptions = raw_doc_p2[raw_doc_p2['description'].duplicated().sort_values(ascending=True)]\n"
     ]
    },
    {
     "data": {
      "text/html": [
       "<div>\n",
       "<style scoped>\n",
       "    .dataframe tbody tr th:only-of-type {\n",
       "        vertical-align: middle;\n",
       "    }\n",
       "\n",
       "    .dataframe tbody tr th {\n",
       "        vertical-align: top;\n",
       "    }\n",
       "\n",
       "    .dataframe thead th {\n",
       "        text-align: right;\n",
       "    }\n",
       "</style>\n",
       "<table border=\"1\" class=\"dataframe\">\n",
       "  <thead>\n",
       "    <tr style=\"text-align: right;\">\n",
       "      <th></th>\n",
       "      <th>currency</th>\n",
       "      <th>description</th>\n",
       "      <th>publisher</th>\n",
       "      <th>page_count</th>\n",
       "    </tr>\n",
       "  </thead>\n",
       "  <tbody>\n",
       "    <tr>\n",
       "      <th>19</th>\n",
       "      <td>SAR</td>\n",
       "      <td>From #1 New York Times bestselling author Bran...</td>\n",
       "      <td>Tor Books</td>\n",
       "      <td>226</td>\n",
       "    </tr>\n",
       "    <tr>\n",
       "      <th>23</th>\n",
       "      <td>SAR</td>\n",
       "      <td>Agatha Christie’s first ever murder mystery. W...</td>\n",
       "      <td>HarperCollins UK</td>\n",
       "      <td>208</td>\n",
       "    </tr>\n",
       "    <tr>\n",
       "      <th>35</th>\n",
       "      <td>SAR</td>\n",
       "      <td>‘Sometimes we can’t see what’s right in front ...</td>\n",
       "      <td>Bookouture</td>\n",
       "      <td>357</td>\n",
       "    </tr>\n",
       "    <tr>\n",
       "      <th>44</th>\n",
       "      <td>SAR</td>\n",
       "      <td>The last few decades have seen an explosion in...</td>\n",
       "      <td>Icon Books</td>\n",
       "      <td>176</td>\n",
       "    </tr>\n",
       "    <tr>\n",
       "      <th>49</th>\n",
       "      <td>SAR</td>\n",
       "      <td>‘This was SOME read. Now I know what it means ...</td>\n",
       "      <td>Bookouture</td>\n",
       "      <td>358</td>\n",
       "    </tr>\n",
       "    <tr>\n",
       "      <th>...</th>\n",
       "      <td>...</td>\n",
       "      <td>...</td>\n",
       "      <td>...</td>\n",
       "      <td>...</td>\n",
       "    </tr>\n",
       "    <tr>\n",
       "      <th>1294</th>\n",
       "      <td>SAR</td>\n",
       "      <td>A short gift book of festive hospital diaries ...</td>\n",
       "      <td>Pan Macmillan</td>\n",
       "      <td>112</td>\n",
       "    </tr>\n",
       "    <tr>\n",
       "      <th>1295</th>\n",
       "      <td>SAR</td>\n",
       "      <td>'Astonishing ... an amazing book ... absolutel...</td>\n",
       "      <td>Penguin UK</td>\n",
       "      <td>368</td>\n",
       "    </tr>\n",
       "    <tr>\n",
       "      <th>1296</th>\n",
       "      <td>SAR</td>\n",
       "      <td>The modern marketplace is increasingly unpredi...</td>\n",
       "      <td>Kogan Page Publishers</td>\n",
       "      <td>176</td>\n",
       "    </tr>\n",
       "    <tr>\n",
       "      <th>1297</th>\n",
       "      <td>SAR</td>\n",
       "      <td>Collects Web of Spider-Man #31-32, Amazing Spi...</td>\n",
       "      <td>Marvel Entertainment</td>\n",
       "      <td>168</td>\n",
       "    </tr>\n",
       "    <tr>\n",
       "      <th>1298</th>\n",
       "      <td>SAR</td>\n",
       "      <td>Private investigator Kinsey Millhone finds sho...</td>\n",
       "      <td>Penguin</td>\n",
       "      <td>448</td>\n",
       "    </tr>\n",
       "  </tbody>\n",
       "</table>\n",
       "<p>1054 rows × 4 columns</p>\n",
       "</div>"
      ],
      "text/plain": [
       "     currency                                        description  \\\n",
       "19        SAR  From #1 New York Times bestselling author Bran...   \n",
       "23        SAR  Agatha Christie’s first ever murder mystery. W...   \n",
       "35        SAR  ‘Sometimes we can’t see what’s right in front ...   \n",
       "44        SAR  The last few decades have seen an explosion in...   \n",
       "49        SAR  ‘This was SOME read. Now I know what it means ...   \n",
       "...       ...                                                ...   \n",
       "1294      SAR  A short gift book of festive hospital diaries ...   \n",
       "1295      SAR  'Astonishing ... an amazing book ... absolutel...   \n",
       "1296      SAR  The modern marketplace is increasingly unpredi...   \n",
       "1297      SAR  Collects Web of Spider-Man #31-32, Amazing Spi...   \n",
       "1298      SAR  Private investigator Kinsey Millhone finds sho...   \n",
       "\n",
       "                  publisher  page_count  \n",
       "19                Tor Books         226  \n",
       "23         HarperCollins UK         208  \n",
       "35               Bookouture         357  \n",
       "44               Icon Books         176  \n",
       "49               Bookouture         358  \n",
       "...                     ...         ...  \n",
       "1294          Pan Macmillan         112  \n",
       "1295             Penguin UK         368  \n",
       "1296  Kogan Page Publishers         176  \n",
       "1297   Marvel Entertainment         168  \n",
       "1298                Penguin         448  \n",
       "\n",
       "[1054 rows x 4 columns]"
      ]
     },
     "execution_count": 269,
     "metadata": {},
     "output_type": "execute_result"
    }
   ],
   "source": [
    "# Grabbing all duplicates\n",
    "\n",
    "duplicate_descriptions = raw_doc_p2[raw_doc_p2['description'].duplicated().sort_values(ascending=True)]\n",
    "duplicate_descriptions"
   ]
  },
  {
   "cell_type": "code",
   "execution_count": 273,
   "metadata": {},
   "outputs": [
    {
     "data": {
      "text/plain": [
       "\"From #1 New York Times bestselling author Brandon Sanderson, a special gift edition of Edgedancer, a short novel of the Stormlight Archive (previously published in Arcanum Unbounded).Three years ago, Lift asked a goddess to stop her from growing older--a wish she believed was granted. Now, in Edgedancer, the barely teenage nascent Knight Radiant finds that time stands still for no one. Although the young Azish emperor granted her safe haven from an executioner she knows only as Darkness, court life is suffocating the free-spirited Lift, who can't help heading to Yeddaw when she hears the relentless Darkness is there hunting people like her with budding powers. The downtrodden in Yeddaw have no champion, and Lift knows she must seize this awesome responsibility.\\nOther Tor books by Brandon Sanderson The Cosmere\\n \\n The Stormlight Archive\\n The Way of Kings\\n Words of Radiance\\n Edgedancer (Novella)\\n Oathbringer\\n \\n The Mistborn trilogy\\n Mistborn: The Final Empire\\n The Well of Ascension\\n The Hero of Ages\\n \\n Mistborn: The Wax and Wayne series\\n Alloy of Law\\n Shadows of Self\\n Bands of Mourning Collection\\n Arcanum Unbounded Other Cosmere novels\\n Elantris\\n Warbreaker The Alcatraz vs. the Evil Librarians series\\n Alcatraz vs. the Evil Librarians\\n The Scrivener's Bones\\n The Knights of Crystallia\\n The Shattered Lens\\n The Dark Talent The Rithmatist series\\n The Rithmatist Other books by Brandon Sanderson\\n\\n The Reckoners\\n Steelheart\\n Firefight\\n CalamityAt the Publisher's request, this title is being sold without Digital Rights Management Software (DRM) applied.\""
      ]
     },
     "execution_count": 273,
     "metadata": {},
     "output_type": "execute_result"
    }
   ],
   "source": [
    "# Sampling from distribution of duplicate descriptions\n",
    "\n",
    "sample_duplicate_description = raw_doc_p2.loc[19, 'description']\n",
    "sample_duplicate_description"
   ]
  },
  {
   "cell_type": "code",
   "execution_count": 274,
   "metadata": {},
   "outputs": [
    {
     "data": {
      "text/html": [
       "<div>\n",
       "<style scoped>\n",
       "    .dataframe tbody tr th:only-of-type {\n",
       "        vertical-align: middle;\n",
       "    }\n",
       "\n",
       "    .dataframe tbody tr th {\n",
       "        vertical-align: top;\n",
       "    }\n",
       "\n",
       "    .dataframe thead th {\n",
       "        text-align: right;\n",
       "    }\n",
       "</style>\n",
       "<table border=\"1\" class=\"dataframe\">\n",
       "  <thead>\n",
       "    <tr style=\"text-align: right;\">\n",
       "      <th></th>\n",
       "      <th>currency</th>\n",
       "      <th>description</th>\n",
       "      <th>publisher</th>\n",
       "      <th>page_count</th>\n",
       "    </tr>\n",
       "  </thead>\n",
       "  <tbody>\n",
       "    <tr>\n",
       "      <th>19</th>\n",
       "      <td>SAR</td>\n",
       "      <td>From #1 New York Times bestselling author Bran...</td>\n",
       "      <td>Tor Books</td>\n",
       "      <td>226</td>\n",
       "    </tr>\n",
       "    <tr>\n",
       "      <th>478</th>\n",
       "      <td>SAR</td>\n",
       "      <td>From #1 New York Times bestselling author Bran...</td>\n",
       "      <td>Tor Books</td>\n",
       "      <td>226</td>\n",
       "    </tr>\n",
       "    <tr>\n",
       "      <th>748</th>\n",
       "      <td>SAR</td>\n",
       "      <td>From #1 New York Times bestselling author Bran...</td>\n",
       "      <td>Tor Books</td>\n",
       "      <td>226</td>\n",
       "    </tr>\n",
       "    <tr>\n",
       "      <th>897</th>\n",
       "      <td>SAR</td>\n",
       "      <td>From #1 New York Times bestselling author Bran...</td>\n",
       "      <td>Tor Books</td>\n",
       "      <td>226</td>\n",
       "    </tr>\n",
       "    <tr>\n",
       "      <th>1090</th>\n",
       "      <td>SAR</td>\n",
       "      <td>From #1 New York Times bestselling author Bran...</td>\n",
       "      <td>Tor Books</td>\n",
       "      <td>226</td>\n",
       "    </tr>\n",
       "  </tbody>\n",
       "</table>\n",
       "</div>"
      ],
      "text/plain": [
       "     currency                                        description  publisher  \\\n",
       "19        SAR  From #1 New York Times bestselling author Bran...  Tor Books   \n",
       "478       SAR  From #1 New York Times bestselling author Bran...  Tor Books   \n",
       "748       SAR  From #1 New York Times bestselling author Bran...  Tor Books   \n",
       "897       SAR  From #1 New York Times bestselling author Bran...  Tor Books   \n",
       "1090      SAR  From #1 New York Times bestselling author Bran...  Tor Books   \n",
       "\n",
       "      page_count  \n",
       "19           226  \n",
       "478          226  \n",
       "748          226  \n",
       "897          226  \n",
       "1090         226  "
      ]
     },
     "execution_count": 274,
     "metadata": {},
     "output_type": "execute_result"
    }
   ],
   "source": [
    "# Checking against other duplicates\n",
    "\n",
    "sample_subset_duplicate_description = duplicate_descriptions[duplicate_descriptions['description'] == sample_duplicate_description]\n",
    "sample_subset_duplicate_description"
   ]
  },
  {
   "cell_type": "code",
   "execution_count": 279,
   "metadata": {},
   "outputs": [
    {
     "name": "stdout",
     "output_type": "stream",
     "text": [
      "Index([19, 478, 748, 897, 1090], dtype='int64')\n"
     ]
    },
    {
     "data": {
      "text/plain": [
       "[19, 478, 748, 897, 1090]"
      ]
     },
     "execution_count": 279,
     "metadata": {},
     "output_type": "execute_result"
    }
   ],
   "source": [
    "# Extracting indexes to compare corresponding rows in the other subsets, to differentiate records from each other\n",
    "\n",
    "sample_subset_duplicate_description_indexes = list(sample_subset_duplicate_description.index)\n",
    "sample_subset_duplicate_description_indexes"
   ]
  },
  {
   "cell_type": "code",
   "execution_count": 280,
   "metadata": {},
   "outputs": [
    {
     "data": {
      "text/html": [
       "<div>\n",
       "<style scoped>\n",
       "    .dataframe tbody tr th:only-of-type {\n",
       "        vertical-align: middle;\n",
       "    }\n",
       "\n",
       "    .dataframe tbody tr th {\n",
       "        vertical-align: top;\n",
       "    }\n",
       "\n",
       "    .dataframe thead th {\n",
       "        text-align: right;\n",
       "    }\n",
       "</style>\n",
       "<table border=\"1\" class=\"dataframe\">\n",
       "  <thead>\n",
       "    <tr style=\"text-align: right;\">\n",
       "      <th></th>\n",
       "      <th>title</th>\n",
       "      <th>author</th>\n",
       "      <th>rating</th>\n",
       "      <th>voters</th>\n",
       "      <th>price</th>\n",
       "    </tr>\n",
       "  </thead>\n",
       "  <tbody>\n",
       "    <tr>\n",
       "      <th>19</th>\n",
       "      <td>Edgedancer: From the Stormlight Archive</td>\n",
       "      <td>Brandon Sanderson</td>\n",
       "      <td>4.8</td>\n",
       "      <td>221</td>\n",
       "      <td>36.79</td>\n",
       "    </tr>\n",
       "    <tr>\n",
       "      <th>478</th>\n",
       "      <td>Edgedancer: From the Stormlight Archive</td>\n",
       "      <td>Brandon Sanderson</td>\n",
       "      <td>4.8</td>\n",
       "      <td>221</td>\n",
       "      <td>36.79</td>\n",
       "    </tr>\n",
       "    <tr>\n",
       "      <th>748</th>\n",
       "      <td>Edgedancer: From the Stormlight Archive</td>\n",
       "      <td>Brandon Sanderson</td>\n",
       "      <td>4.8</td>\n",
       "      <td>221</td>\n",
       "      <td>36.79</td>\n",
       "    </tr>\n",
       "    <tr>\n",
       "      <th>897</th>\n",
       "      <td>Edgedancer: From the Stormlight Archive</td>\n",
       "      <td>Brandon Sanderson</td>\n",
       "      <td>4.8</td>\n",
       "      <td>221</td>\n",
       "      <td>36.79</td>\n",
       "    </tr>\n",
       "    <tr>\n",
       "      <th>1090</th>\n",
       "      <td>Edgedancer: From the Stormlight Archive</td>\n",
       "      <td>Brandon Sanderson</td>\n",
       "      <td>4.8</td>\n",
       "      <td>221</td>\n",
       "      <td>36.79</td>\n",
       "    </tr>\n",
       "  </tbody>\n",
       "</table>\n",
       "</div>"
      ],
      "text/plain": [
       "                                        title             author  rating  \\\n",
       "19    Edgedancer: From the Stormlight Archive  Brandon Sanderson     4.8   \n",
       "478   Edgedancer: From the Stormlight Archive  Brandon Sanderson     4.8   \n",
       "748   Edgedancer: From the Stormlight Archive  Brandon Sanderson     4.8   \n",
       "897   Edgedancer: From the Stormlight Archive  Brandon Sanderson     4.8   \n",
       "1090  Edgedancer: From the Stormlight Archive  Brandon Sanderson     4.8   \n",
       "\n",
       "      voters  price  \n",
       "19       221  36.79  \n",
       "478      221  36.79  \n",
       "748      221  36.79  \n",
       "897      221  36.79  \n",
       "1090     221  36.79  "
      ]
     },
     "execution_count": 280,
     "metadata": {},
     "output_type": "execute_result"
    }
   ],
   "source": [
    "# Comparing with susbet 1\n",
    "\n",
    "raw_doc_p1.iloc[sample_subset_duplicate_description_indexes]"
   ]
  },
  {
   "cell_type": "code",
   "execution_count": 281,
   "metadata": {},
   "outputs": [
    {
     "data": {
      "text/html": [
       "<div>\n",
       "<style scoped>\n",
       "    .dataframe tbody tr th:only-of-type {\n",
       "        vertical-align: middle;\n",
       "    }\n",
       "\n",
       "    .dataframe tbody tr th {\n",
       "        vertical-align: top;\n",
       "    }\n",
       "\n",
       "    .dataframe thead th {\n",
       "        text-align: right;\n",
       "    }\n",
       "</style>\n",
       "<table border=\"1\" class=\"dataframe\">\n",
       "  <thead>\n",
       "    <tr style=\"text-align: right;\">\n",
       "      <th></th>\n",
       "      <th>genres</th>\n",
       "      <th>ISBN</th>\n",
       "      <th>language</th>\n",
       "      <th>published_date</th>\n",
       "    </tr>\n",
       "  </thead>\n",
       "  <tbody>\n",
       "    <tr>\n",
       "      <th>19</th>\n",
       "      <td>Fiction , Fantasy , Military</td>\n",
       "      <td>9781250166609</td>\n",
       "      <td>English</td>\n",
       "      <td>Oct 17, 2017</td>\n",
       "    </tr>\n",
       "    <tr>\n",
       "      <th>478</th>\n",
       "      <td>none</td>\n",
       "      <td>9781250166609</td>\n",
       "      <td>English</td>\n",
       "      <td>Oct 17, 2017</td>\n",
       "    </tr>\n",
       "    <tr>\n",
       "      <th>748</th>\n",
       "      <td>none</td>\n",
       "      <td>9781250166609</td>\n",
       "      <td>English</td>\n",
       "      <td>Oct 17, 2017</td>\n",
       "    </tr>\n",
       "    <tr>\n",
       "      <th>897</th>\n",
       "      <td>none</td>\n",
       "      <td>9781250166609</td>\n",
       "      <td>English</td>\n",
       "      <td>Oct 17, 2017</td>\n",
       "    </tr>\n",
       "    <tr>\n",
       "      <th>1090</th>\n",
       "      <td>Fiction , Fantasy , Action &amp;amp, Adventure</td>\n",
       "      <td>9781250166609</td>\n",
       "      <td>English</td>\n",
       "      <td>Oct 17, 2017</td>\n",
       "    </tr>\n",
       "  </tbody>\n",
       "</table>\n",
       "</div>"
      ],
      "text/plain": [
       "                                          genres           ISBN language  \\\n",
       "19                  Fiction , Fantasy , Military  9781250166609  English   \n",
       "478                                         none  9781250166609  English   \n",
       "748                                         none  9781250166609  English   \n",
       "897                                         none  9781250166609  English   \n",
       "1090  Fiction , Fantasy , Action &amp, Adventure  9781250166609  English   \n",
       "\n",
       "     published_date  \n",
       "19     Oct 17, 2017  \n",
       "478    Oct 17, 2017  \n",
       "748    Oct 17, 2017  \n",
       "897    Oct 17, 2017  \n",
       "1090   Oct 17, 2017  "
      ]
     },
     "execution_count": 281,
     "metadata": {},
     "output_type": "execute_result"
    }
   ],
   "source": [
    "# Comparing with susbet 3\n",
    "\n",
    "raw_doc_p3.iloc[sample_subset_duplicate_description_indexes]"
   ]
  },
  {
   "cell_type": "code",
   "execution_count": null,
   "metadata": {},
   "outputs": [],
   "source": [
    "raw_doc_p2[raw_doc_p2['description'].duplicated().sort_values(ascending=True)]"
   ]
  },
  {
   "cell_type": "code",
   "execution_count": 29,
   "metadata": {},
   "outputs": [
    {
     "data": {
      "text/html": [
       "<div>\n",
       "<style scoped>\n",
       "    .dataframe tbody tr th:only-of-type {\n",
       "        vertical-align: middle;\n",
       "    }\n",
       "\n",
       "    .dataframe tbody tr th {\n",
       "        vertical-align: top;\n",
       "    }\n",
       "\n",
       "    .dataframe thead th {\n",
       "        text-align: right;\n",
       "    }\n",
       "</style>\n",
       "<table border=\"1\" class=\"dataframe\">\n",
       "  <thead>\n",
       "    <tr style=\"text-align: right;\">\n",
       "      <th></th>\n",
       "      <th>currency</th>\n",
       "      <th>description</th>\n",
       "      <th>publisher</th>\n",
       "      <th>page_count</th>\n",
       "    </tr>\n",
       "  </thead>\n",
       "  <tbody>\n",
       "    <tr>\n",
       "      <th>0</th>\n",
       "      <td>SAR</td>\n",
       "      <td>NO SAFE PLACE LEFT At great cost to the Garris...</td>\n",
       "      <td>Kodansha Comics</td>\n",
       "      <td>192</td>\n",
       "    </tr>\n",
       "    <tr>\n",
       "      <th>1</th>\n",
       "      <td>SAR</td>\n",
       "      <td>Determined to make a new start in her quaint h...</td>\n",
       "      <td>Kensington Publishing Corp.</td>\n",
       "      <td>288</td>\n",
       "    </tr>\n",
       "    <tr>\n",
       "      <th>2</th>\n",
       "      <td>SAR</td>\n",
       "      <td>Take a globetrotting journey all over the worl...</td>\n",
       "      <td>Dark Horse Comics</td>\n",
       "      <td>368</td>\n",
       "    </tr>\n",
       "  </tbody>\n",
       "</table>\n",
       "</div>"
      ],
      "text/plain": [
       "  currency                                        description  \\\n",
       "0      SAR  NO SAFE PLACE LEFT At great cost to the Garris...   \n",
       "1      SAR  Determined to make a new start in her quaint h...   \n",
       "2      SAR  Take a globetrotting journey all over the worl...   \n",
       "\n",
       "                     publisher  page_count  \n",
       "0              Kodansha Comics         192  \n",
       "1  Kensington Publishing Corp.         288  \n",
       "2            Dark Horse Comics         368  "
      ]
     },
     "execution_count": 29,
     "metadata": {},
     "output_type": "execute_result"
    }
   ],
   "source": [
    "raw_doc_p2[:3]"
   ]
  },
  {
   "cell_type": "markdown",
   "metadata": {},
   "source": [
    "#### raw_doc_p3"
   ]
  },
  {
   "cell_type": "code",
   "execution_count": 30,
   "metadata": {},
   "outputs": [
    {
     "name": "stdout",
     "output_type": "stream",
     "text": [
      "<class 'pandas.core.frame.DataFrame'>\n",
      "RangeIndex: 1299 entries, 0 to 1298\n",
      "Data columns (total 4 columns):\n",
      " #   Column          Non-Null Count  Dtype \n",
      "---  ------          --------------  ----- \n",
      " 0   genres          1299 non-null   object\n",
      " 1   ISBN            1299 non-null   object\n",
      " 2   language        1299 non-null   object\n",
      " 3   published_date  1299 non-null   object\n",
      "dtypes: object(4)\n",
      "memory usage: 40.7+ KB\n"
     ]
    }
   ],
   "source": [
    "raw_doc_p3.info()"
   ]
  },
  {
   "cell_type": "code",
   "execution_count": 31,
   "metadata": {},
   "outputs": [
    {
     "data": {
      "text/html": [
       "<div>\n",
       "<style scoped>\n",
       "    .dataframe tbody tr th:only-of-type {\n",
       "        vertical-align: middle;\n",
       "    }\n",
       "\n",
       "    .dataframe tbody tr th {\n",
       "        vertical-align: top;\n",
       "    }\n",
       "\n",
       "    .dataframe thead th {\n",
       "        text-align: right;\n",
       "    }\n",
       "</style>\n",
       "<table border=\"1\" class=\"dataframe\">\n",
       "  <thead>\n",
       "    <tr style=\"text-align: right;\">\n",
       "      <th></th>\n",
       "      <th>genres</th>\n",
       "      <th>ISBN</th>\n",
       "      <th>language</th>\n",
       "      <th>published_date</th>\n",
       "    </tr>\n",
       "  </thead>\n",
       "  <tbody>\n",
       "    <tr>\n",
       "      <th>0</th>\n",
       "      <td>none</td>\n",
       "      <td>9781612626864</td>\n",
       "      <td>English</td>\n",
       "      <td>Jul 31, 2014</td>\n",
       "    </tr>\n",
       "    <tr>\n",
       "      <th>1</th>\n",
       "      <td>Fiction , Mystery &amp;amp, Detective , Cozy , Gen...</td>\n",
       "      <td>9780758272799</td>\n",
       "      <td>English</td>\n",
       "      <td>Jul 1, 2007</td>\n",
       "    </tr>\n",
       "    <tr>\n",
       "      <th>2</th>\n",
       "      <td>Games &amp;amp, Activities , Video &amp;amp, Electronic</td>\n",
       "      <td>9781506713816</td>\n",
       "      <td>English</td>\n",
       "      <td>Nov 5, 2019</td>\n",
       "    </tr>\n",
       "  </tbody>\n",
       "</table>\n",
       "</div>"
      ],
      "text/plain": [
       "                                              genres           ISBN language  \\\n",
       "0                                               none  9781612626864  English   \n",
       "1  Fiction , Mystery &amp, Detective , Cozy , Gen...  9780758272799  English   \n",
       "2    Games &amp, Activities , Video &amp, Electronic  9781506713816  English   \n",
       "\n",
       "  published_date  \n",
       "0   Jul 31, 2014  \n",
       "1    Jul 1, 2007  \n",
       "2    Nov 5, 2019  "
      ]
     },
     "execution_count": 31,
     "metadata": {},
     "output_type": "execute_result"
    }
   ],
   "source": [
    "raw_doc_p3[:3]"
   ]
  },
  {
   "cell_type": "code",
   "execution_count": null,
   "metadata": {},
   "outputs": [],
   "source": [
    "# Re-visiting the 'ISBN' feature\n",
    "\n",
    "raw_doc_p3['ISBN'].unique()"
   ]
  },
  {
   "cell_type": "markdown",
   "metadata": {},
   "source": [
    "For cleaning the <code>'ISBN'</code> feature within <code>raw_doc_p3</code>, we must ensure all records:\n",
    "\n",
    "<ol>\n",
    "<li> Share the same data type\n",
    "<li> Have similar length/similar structuring i.e. follows the pattern of \"978...\"\n",
    "</ol>"
   ]
  },
  {
   "cell_type": "code",
   "execution_count": null,
   "metadata": {},
   "outputs": [],
   "source": []
  },
  {
   "cell_type": "code",
   "execution_count": 32,
   "metadata": {},
   "outputs": [
    {
     "name": "stdout",
     "output_type": "stream",
     "text": [
      "<class 'pandas.core.frame.DataFrame'>\n",
      "RangeIndex: 1299 entries, 0 to 1298\n",
      "Data columns (total 4 columns):\n",
      " #   Column          Non-Null Count  Dtype \n",
      "---  ------          --------------  ----- \n",
      " 0   genres          1299 non-null   object\n",
      " 1   ISBN            1299 non-null   object\n",
      " 2   language        1299 non-null   object\n",
      " 3   published_date  1299 non-null   object\n",
      "dtypes: object(4)\n",
      "memory usage: 40.7+ KB\n"
     ]
    }
   ],
   "source": [
    "raw_doc_p3.info()"
   ]
  },
  {
   "cell_type": "code",
   "execution_count": 33,
   "metadata": {},
   "outputs": [
    {
     "data": {
      "text/html": [
       "<div>\n",
       "<style scoped>\n",
       "    .dataframe tbody tr th:only-of-type {\n",
       "        vertical-align: middle;\n",
       "    }\n",
       "\n",
       "    .dataframe tbody tr th {\n",
       "        vertical-align: top;\n",
       "    }\n",
       "\n",
       "    .dataframe thead th {\n",
       "        text-align: right;\n",
       "    }\n",
       "</style>\n",
       "<table border=\"1\" class=\"dataframe\">\n",
       "  <thead>\n",
       "    <tr style=\"text-align: right;\">\n",
       "      <th></th>\n",
       "      <th>genres</th>\n",
       "      <th>ISBN</th>\n",
       "      <th>language</th>\n",
       "      <th>published_date</th>\n",
       "    </tr>\n",
       "  </thead>\n",
       "  <tbody>\n",
       "    <tr>\n",
       "      <th>0</th>\n",
       "      <td>none</td>\n",
       "      <td>9781612626864</td>\n",
       "      <td>English</td>\n",
       "      <td>Jul 31, 2014</td>\n",
       "    </tr>\n",
       "    <tr>\n",
       "      <th>1</th>\n",
       "      <td>Fiction , Mystery &amp;amp, Detective , Cozy , Gen...</td>\n",
       "      <td>9780758272799</td>\n",
       "      <td>English</td>\n",
       "      <td>Jul 1, 2007</td>\n",
       "    </tr>\n",
       "    <tr>\n",
       "      <th>2</th>\n",
       "      <td>Games &amp;amp, Activities , Video &amp;amp, Electronic</td>\n",
       "      <td>9781506713816</td>\n",
       "      <td>English</td>\n",
       "      <td>Nov 5, 2019</td>\n",
       "    </tr>\n",
       "  </tbody>\n",
       "</table>\n",
       "</div>"
      ],
      "text/plain": [
       "                                              genres           ISBN language  \\\n",
       "0                                               none  9781612626864  English   \n",
       "1  Fiction , Mystery &amp, Detective , Cozy , Gen...  9780758272799  English   \n",
       "2    Games &amp, Activities , Video &amp, Electronic  9781506713816  English   \n",
       "\n",
       "  published_date  \n",
       "0   Jul 31, 2014  \n",
       "1    Jul 1, 2007  \n",
       "2    Nov 5, 2019  "
      ]
     },
     "execution_count": 33,
     "metadata": {},
     "output_type": "execute_result"
    }
   ],
   "source": [
    "raw_doc_p3[:3]"
   ]
  },
  {
   "cell_type": "code",
   "execution_count": 34,
   "metadata": {},
   "outputs": [
    {
     "data": {
      "text/plain": [
       "array([  428,    23,     9,    10,   577,   832,    94,   221,   135,\n",
       "          47,   383,    57,    45, 38526,     4,   427,     3,    13,\n",
       "           0,   281,   200,     7,   100,   408,   288,    15,   886,\n",
       "        1633,  1382,   206,     1,    72,     6,   861,    42, 17719,\n",
       "         522,  6615,    64, 32771,  1251,  1130,  5177,    34,   142,\n",
       "         580,   352,   751, 10650,     2,  3316,   124,   255,   591,\n",
       "        1756,    87,   223,  3650,   107,    25,    56,   127,    14,\n",
       "         453,  3695,   526,   532,   399,   451,  4683,    18,    95,\n",
       "          46,    90,    84,    78,   818,   247,    30,    80,   157,\n",
       "          85,    79,   119,   407,   216,   588,   997,    60,   499,\n",
       "         624,   120,   166,   483,   168,   661,  4260,  1354,    38,\n",
       "        1408,  1701,  4532,   250,  1780,    33,    11,  4750,     8,\n",
       "          21,  1799,   510,    24,  9403,   567,   141,   179,  2700,\n",
       "          22,   363,   715,    97,   103,  1105,  4533,    66,    52,\n",
       "         634,    53,    61,   222,  1345,     5,    35,   373,   445,\n",
       "         308,   272,    74,   185,    26,    12,   485,   327,   102,\n",
       "        1285,    20,   405,    69,   283,    27,  1365,   278,   244,\n",
       "          16,    62,    92,    36,    41,    19,   186,   391,   110,\n",
       "          49])"
      ]
     },
     "execution_count": 34,
     "metadata": {},
     "output_type": "execute_result"
    }
   ],
   "source": [
    "raw_doc_p1['voters'].unique()"
   ]
  },
  {
   "cell_type": "code",
   "execution_count": 35,
   "metadata": {},
   "outputs": [
    {
     "data": {
      "text/html": [
       "<div>\n",
       "<style scoped>\n",
       "    .dataframe tbody tr th:only-of-type {\n",
       "        vertical-align: middle;\n",
       "    }\n",
       "\n",
       "    .dataframe tbody tr th {\n",
       "        vertical-align: top;\n",
       "    }\n",
       "\n",
       "    .dataframe thead th {\n",
       "        text-align: right;\n",
       "    }\n",
       "</style>\n",
       "<table border=\"1\" class=\"dataframe\">\n",
       "  <thead>\n",
       "    <tr style=\"text-align: right;\">\n",
       "      <th></th>\n",
       "      <th>title</th>\n",
       "      <th>author</th>\n",
       "      <th>rating</th>\n",
       "      <th>voters</th>\n",
       "      <th>price</th>\n",
       "      <th>currency</th>\n",
       "      <th>description</th>\n",
       "      <th>publisher</th>\n",
       "      <th>page_count</th>\n",
       "      <th>genres</th>\n",
       "      <th>ISBN</th>\n",
       "      <th>language</th>\n",
       "      <th>published_date</th>\n",
       "    </tr>\n",
       "  </thead>\n",
       "  <tbody>\n",
       "    <tr>\n",
       "      <th>0</th>\n",
       "      <td>Attack on Titan: Volume 13</td>\n",
       "      <td>Hajime Isayama</td>\n",
       "      <td>4.6</td>\n",
       "      <td>428</td>\n",
       "      <td>43.28</td>\n",
       "      <td>SAR</td>\n",
       "      <td>NO SAFE PLACE LEFT At great cost to the Garris...</td>\n",
       "      <td>Kodansha Comics</td>\n",
       "      <td>192</td>\n",
       "      <td>none</td>\n",
       "      <td>9781612626864</td>\n",
       "      <td>English</td>\n",
       "      <td>Jul 31, 2014</td>\n",
       "    </tr>\n",
       "    <tr>\n",
       "      <th>1</th>\n",
       "      <td>Antiques Roadkill: A Trash 'n' Treasures Mystery</td>\n",
       "      <td>Barbara Allan</td>\n",
       "      <td>3.3</td>\n",
       "      <td>23</td>\n",
       "      <td>26.15</td>\n",
       "      <td>SAR</td>\n",
       "      <td>Determined to make a new start in her quaint h...</td>\n",
       "      <td>Kensington Publishing Corp.</td>\n",
       "      <td>288</td>\n",
       "      <td>Fiction , Mystery &amp;amp, Detective , Cozy , Gen...</td>\n",
       "      <td>9780758272799</td>\n",
       "      <td>English</td>\n",
       "      <td>Jul 1, 2007</td>\n",
       "    </tr>\n",
       "    <tr>\n",
       "      <th>2</th>\n",
       "      <td>The Art of Super Mario Odyssey</td>\n",
       "      <td>Nintendo</td>\n",
       "      <td>3.9</td>\n",
       "      <td>9</td>\n",
       "      <td>133.85</td>\n",
       "      <td>SAR</td>\n",
       "      <td>Take a globetrotting journey all over the worl...</td>\n",
       "      <td>Dark Horse Comics</td>\n",
       "      <td>368</td>\n",
       "      <td>Games &amp;amp, Activities , Video &amp;amp, Electronic</td>\n",
       "      <td>9781506713816</td>\n",
       "      <td>English</td>\n",
       "      <td>Nov 5, 2019</td>\n",
       "    </tr>\n",
       "    <tr>\n",
       "      <th>3</th>\n",
       "      <td>Getting Away Is Deadly: An Ellie Avery Mystery</td>\n",
       "      <td>Sara Rosett</td>\n",
       "      <td>4.0</td>\n",
       "      <td>10</td>\n",
       "      <td>26.15</td>\n",
       "      <td>SAR</td>\n",
       "      <td>With swollen feet and swelling belly, pregnant...</td>\n",
       "      <td>Kensington Publishing Corp.</td>\n",
       "      <td>320</td>\n",
       "      <td>none</td>\n",
       "      <td>9781617734076</td>\n",
       "      <td>English</td>\n",
       "      <td>Mar 1, 2009</td>\n",
       "    </tr>\n",
       "    <tr>\n",
       "      <th>4</th>\n",
       "      <td>The Painted Man (The Demon Cycle, Book 1)</td>\n",
       "      <td>Peter V. Brett</td>\n",
       "      <td>4.5</td>\n",
       "      <td>577</td>\n",
       "      <td>28.54</td>\n",
       "      <td>SAR</td>\n",
       "      <td>The stunning debut fantasy novel from author P...</td>\n",
       "      <td>HarperCollins UK</td>\n",
       "      <td>544</td>\n",
       "      <td>Fiction , Fantasy , Dark Fantasy</td>\n",
       "      <td>9780007287758</td>\n",
       "      <td>English</td>\n",
       "      <td>Jan 8, 2009</td>\n",
       "    </tr>\n",
       "    <tr>\n",
       "      <th>...</th>\n",
       "      <td>...</td>\n",
       "      <td>...</td>\n",
       "      <td>...</td>\n",
       "      <td>...</td>\n",
       "      <td>...</td>\n",
       "      <td>...</td>\n",
       "      <td>...</td>\n",
       "      <td>...</td>\n",
       "      <td>...</td>\n",
       "      <td>...</td>\n",
       "      <td>...</td>\n",
       "      <td>...</td>\n",
       "      <td>...</td>\n",
       "    </tr>\n",
       "    <tr>\n",
       "      <th>1294</th>\n",
       "      <td>Twas The Nightshift Before Christmas: Festive ...</td>\n",
       "      <td>Adam Kay</td>\n",
       "      <td>4.7</td>\n",
       "      <td>47</td>\n",
       "      <td>41.82</td>\n",
       "      <td>SAR</td>\n",
       "      <td>A short gift book of festive hospital diaries ...</td>\n",
       "      <td>Pan Macmillan</td>\n",
       "      <td>112</td>\n",
       "      <td>Medical , Health Care Delivery</td>\n",
       "      <td>9781529018592</td>\n",
       "      <td>English</td>\n",
       "      <td>Oct 17, 2019</td>\n",
       "    </tr>\n",
       "    <tr>\n",
       "      <th>1295</th>\n",
       "      <td>Why We Sleep: The New Science of Sleep and Dreams</td>\n",
       "      <td>Matthew Walker</td>\n",
       "      <td>4.8</td>\n",
       "      <td>52</td>\n",
       "      <td>46.85</td>\n",
       "      <td>SAR</td>\n",
       "      <td>'Astonishing ... an amazing book ... absolutel...</td>\n",
       "      <td>Penguin UK</td>\n",
       "      <td>368</td>\n",
       "      <td>Psychology , Cognitive Psychology &amp;amp, Cognition</td>\n",
       "      <td>9780141983776</td>\n",
       "      <td>English</td>\n",
       "      <td>Sep 28, 2017</td>\n",
       "    </tr>\n",
       "    <tr>\n",
       "      <th>1296</th>\n",
       "      <td>How to Understand Business Finance: Edition 2</td>\n",
       "      <td>Bob Cinnamon</td>\n",
       "      <td>3.5</td>\n",
       "      <td>4</td>\n",
       "      <td>46.85</td>\n",
       "      <td>SAR</td>\n",
       "      <td>The modern marketplace is increasingly unpredi...</td>\n",
       "      <td>Kogan Page Publishers</td>\n",
       "      <td>176</td>\n",
       "      <td>none</td>\n",
       "      <td>9780749460211</td>\n",
       "      <td>English</td>\n",
       "      <td>Apr 3, 2010</td>\n",
       "    </tr>\n",
       "    <tr>\n",
       "      <th>1297</th>\n",
       "      <td>Spider-Man: Kraven's Last Hunt</td>\n",
       "      <td>J. M. DeMatteis</td>\n",
       "      <td>4.6</td>\n",
       "      <td>74</td>\n",
       "      <td>43.28</td>\n",
       "      <td>SAR</td>\n",
       "      <td>Collects Web of Spider-Man #31-32, Amazing Spi...</td>\n",
       "      <td>Marvel Entertainment</td>\n",
       "      <td>168</td>\n",
       "      <td>none</td>\n",
       "      <td>9781302377366</td>\n",
       "      <td>English</td>\n",
       "      <td>Dec 10, 2014</td>\n",
       "    </tr>\n",
       "    <tr>\n",
       "      <th>1298</th>\n",
       "      <td>W is for Wasted: A Kinsey Millhone Novel</td>\n",
       "      <td>Sue Grafton</td>\n",
       "      <td>4.3</td>\n",
       "      <td>206</td>\n",
       "      <td>39.34</td>\n",
       "      <td>SAR</td>\n",
       "      <td>Private investigator Kinsey Millhone finds sho...</td>\n",
       "      <td>Penguin</td>\n",
       "      <td>448</td>\n",
       "      <td>Fiction , Thrillers , Suspense</td>\n",
       "      <td>9781101636459</td>\n",
       "      <td>English</td>\n",
       "      <td>Sep 10, 2013</td>\n",
       "    </tr>\n",
       "  </tbody>\n",
       "</table>\n",
       "<p>1299 rows × 13 columns</p>\n",
       "</div>"
      ],
      "text/plain": [
       "                                                  title           author  \\\n",
       "0                            Attack on Titan: Volume 13   Hajime Isayama   \n",
       "1      Antiques Roadkill: A Trash 'n' Treasures Mystery    Barbara Allan   \n",
       "2                        The Art of Super Mario Odyssey         Nintendo   \n",
       "3        Getting Away Is Deadly: An Ellie Avery Mystery      Sara Rosett   \n",
       "4             The Painted Man (The Demon Cycle, Book 1)   Peter V. Brett   \n",
       "...                                                 ...              ...   \n",
       "1294  Twas The Nightshift Before Christmas: Festive ...         Adam Kay   \n",
       "1295  Why We Sleep: The New Science of Sleep and Dreams   Matthew Walker   \n",
       "1296      How to Understand Business Finance: Edition 2     Bob Cinnamon   \n",
       "1297                     Spider-Man: Kraven's Last Hunt  J. M. DeMatteis   \n",
       "1298           W is for Wasted: A Kinsey Millhone Novel      Sue Grafton   \n",
       "\n",
       "      rating voters   price currency  \\\n",
       "0        4.6    428   43.28      SAR   \n",
       "1        3.3     23   26.15      SAR   \n",
       "2        3.9      9  133.85      SAR   \n",
       "3        4.0     10   26.15      SAR   \n",
       "4        4.5    577   28.54      SAR   \n",
       "...      ...    ...     ...      ...   \n",
       "1294     4.7     47   41.82      SAR   \n",
       "1295     4.8     52   46.85      SAR   \n",
       "1296     3.5      4   46.85      SAR   \n",
       "1297     4.6     74   43.28      SAR   \n",
       "1298     4.3    206   39.34      SAR   \n",
       "\n",
       "                                            description  \\\n",
       "0     NO SAFE PLACE LEFT At great cost to the Garris...   \n",
       "1     Determined to make a new start in her quaint h...   \n",
       "2     Take a globetrotting journey all over the worl...   \n",
       "3     With swollen feet and swelling belly, pregnant...   \n",
       "4     The stunning debut fantasy novel from author P...   \n",
       "...                                                 ...   \n",
       "1294  A short gift book of festive hospital diaries ...   \n",
       "1295  'Astonishing ... an amazing book ... absolutel...   \n",
       "1296  The modern marketplace is increasingly unpredi...   \n",
       "1297  Collects Web of Spider-Man #31-32, Amazing Spi...   \n",
       "1298  Private investigator Kinsey Millhone finds sho...   \n",
       "\n",
       "                        publisher  page_count  \\\n",
       "0                 Kodansha Comics         192   \n",
       "1     Kensington Publishing Corp.         288   \n",
       "2               Dark Horse Comics         368   \n",
       "3     Kensington Publishing Corp.         320   \n",
       "4                HarperCollins UK         544   \n",
       "...                           ...         ...   \n",
       "1294                Pan Macmillan         112   \n",
       "1295                   Penguin UK         368   \n",
       "1296        Kogan Page Publishers         176   \n",
       "1297         Marvel Entertainment         168   \n",
       "1298                      Penguin         448   \n",
       "\n",
       "                                                 genres           ISBN  \\\n",
       "0                                                  none  9781612626864   \n",
       "1     Fiction , Mystery &amp, Detective , Cozy , Gen...  9780758272799   \n",
       "2       Games &amp, Activities , Video &amp, Electronic  9781506713816   \n",
       "3                                                  none  9781617734076   \n",
       "4                      Fiction , Fantasy , Dark Fantasy  9780007287758   \n",
       "...                                                 ...            ...   \n",
       "1294                     Medical , Health Care Delivery  9781529018592   \n",
       "1295  Psychology , Cognitive Psychology &amp, Cognition  9780141983776   \n",
       "1296                                               none  9780749460211   \n",
       "1297                                               none  9781302377366   \n",
       "1298                     Fiction , Thrillers , Suspense  9781101636459   \n",
       "\n",
       "     language published_date  \n",
       "0     English   Jul 31, 2014  \n",
       "1     English    Jul 1, 2007  \n",
       "2     English    Nov 5, 2019  \n",
       "3     English    Mar 1, 2009  \n",
       "4     English    Jan 8, 2009  \n",
       "...       ...            ...  \n",
       "1294  English   Oct 17, 2019  \n",
       "1295  English   Sep 28, 2017  \n",
       "1296  English    Apr 3, 2010  \n",
       "1297  English   Dec 10, 2014  \n",
       "1298  English   Sep 10, 2013  \n",
       "\n",
       "[1299 rows x 13 columns]"
      ]
     },
     "execution_count": 35,
     "metadata": {},
     "output_type": "execute_result"
    }
   ],
   "source": [
    "# Sampling 10 files for exploration\n",
    "\n",
    "raw_doc_master"
   ]
  },
  {
   "cell_type": "code",
   "execution_count": 36,
   "metadata": {},
   "outputs": [
    {
     "ename": "NameError",
     "evalue": "name 'sample_robotstxt_urls' is not defined",
     "output_type": "error",
     "traceback": [
      "\u001b[1;31m---------------------------------------------------------------------------\u001b[0m",
      "\u001b[1;31mNameError\u001b[0m                                 Traceback (most recent call last)",
      "Cell \u001b[1;32mIn[36], line 1\u001b[0m\n\u001b[1;32m----> 1\u001b[0m text_exploration \u001b[38;5;241m=\u001b[39m \u001b[43msample_robotstxt_urls\u001b[49m[\u001b[38;5;241m0\u001b[39m]\n\u001b[0;32m      2\u001b[0m sample_robotstxt_urls[\u001b[38;5;241m0\u001b[39m]\n",
      "\u001b[1;31mNameError\u001b[0m: name 'sample_robotstxt_urls' is not defined"
     ]
    }
   ],
   "source": [
    "text_exploration = sample_robotstxt_urls[0]\n",
    "sample_robotstxt_urls[0]"
   ]
  },
  {
   "cell_type": "code",
   "execution_count": null,
   "metadata": {},
   "outputs": [
    {
     "data": {
      "text/plain": [
       "['seg']"
      ]
     },
     "execution_count": 65,
     "metadata": {},
     "output_type": "execute_result"
    }
   ],
   "source": [
    "re.findall(r\"(seg)+\", text_exploration)"
   ]
  },
  {
   "cell_type": "code",
   "execution_count": null,
   "metadata": {},
   "outputs": [
    {
     "data": {
      "text/plain": [
       "'2025'"
      ]
     },
     "execution_count": 33,
     "metadata": {},
     "output_type": "execute_result"
    }
   ],
   "source": [
    "re.search(r\"\\d+\", text_exploration).group()"
   ]
  },
  {
   "cell_type": "code",
   "execution_count": null,
   "metadata": {},
   "outputs": [
    {
     "name": "stdout",
     "output_type": "stream",
     "text": [
      "2025\n"
     ]
    }
   ],
   "source": [
    "# re.search()\n",
    "\n",
    "first_num_occ = re.search(r\"\\d+\", text_exploration)\n",
    "print(first_num_occ.group())"
   ]
  },
  {
   "cell_type": "markdown",
   "metadata": {},
   "source": [
    "## `re.search()` - Find the first match"
   ]
  },
  {
   "cell_type": "code",
   "execution_count": null,
   "metadata": {},
   "outputs": [],
   "source": []
  },
  {
   "cell_type": "markdown",
   "metadata": {},
   "source": [
    "## `re.findall()` - Find all matches"
   ]
  },
  {
   "cell_type": "markdown",
   "metadata": {},
   "source": [
    "## `re.match()` - Does pattern match at start of string?"
   ]
  },
  {
   "cell_type": "code",
   "execution_count": null,
   "metadata": {},
   "outputs": [],
   "source": [
    "\n"
   ]
  },
  {
   "cell_type": "markdown",
   "metadata": {},
   "source": [
    "## `re.fullmatch()` - Does entire string match pattern?"
   ]
  },
  {
   "cell_type": "markdown",
   "metadata": {},
   "source": [
    "## `re.sub()` - Replaces occurences of a pattern with another string"
   ]
  },
  {
   "cell_type": "markdown",
   "metadata": {},
   "source": [
    "## `re.split()` - Splits a string based on regex pattern"
   ]
  },
  {
   "cell_type": "markdown",
   "metadata": {},
   "source": [
    "## `re.compile()` - Precompiles a regex for repeated use"
   ]
  },
  {
   "cell_type": "code",
   "execution_count": null,
   "metadata": {},
   "outputs": [],
   "source": []
  },
  {
   "cell_type": "markdown",
   "metadata": {},
   "source": [
    "# EXAMPLES"
   ]
  },
  {
   "cell_type": "markdown",
   "metadata": {},
   "source": [
    "- Extract all digits from \"Order 123, Invoice 456, ID 7890\".\n",
    "- Find all lowercase letters in \"Hello WORLD Python!\".\n",
    "- Extract all capital letters from \"Regex is FUN and POWERFUL\".\n",
    "- Find all words in \"Hello, World! 123\" (Ignore punctuation).\n",
    "- Extract words that contain only alphabets from \"cat123 dog45 apple banana\".\n",
    "<br>\n",
    "<br>\n",
    "- Quantifiers (*, +, ?, {})\n",
    "- Find all words that start with \"a\" in \"apple banana apricot orange\".\n",
    "- Extract sequences of 2 or more digits from \"abc123def4567gh89\".\n",
    "- Find all words with at least 5 letters in \"hello world python java\".\n",
    "- Extract all words with exactly 4 letters from \"this that when where\".\n",
    "- Match any word that contains \"th\" in \"there, think, throw, math, father\".\n",
    "<br>\n",
    "<br>\n",
    "- Character Classes (\\d, \\w, \\s)\n",
    "- Extract all numbers from \"I have 2 cats and 3 dogs\".\n",
    "- Find all words containing numbers in \"user1 admin99 guest3\".\n",
    "- Extract all words starting with a capital letter from \"Alice Bob charlie Daniel\".\n",
    "- Extract all special characters from \"Hello@World! Python#Regex\" (Ignore letters and numbers).\n",
    "- Find all sequences of spaces in \"This has multiple spaces\".\n",
    "<br>\n",
    "<br>\n",
    "- Anchors (^, $, \\b)\n",
    "- Match words that start with \"P\" in \"Python PHP JavaScript\"\n",
    "- Find all sentences ending with a period in \"Hello world. This is regex! Python is fun.\"\n",
    "- Extract hashtags from \"#Python #DataScience #Regex\"\n",
    "- Extract valid email addresses from \"test@example.com, hello@site.org, user@invalid\".\n",
    "- Extract valid phone numbers from \"Call 123-456-7890 or (123) 456-7890\"."
   ]
  },
  {
   "cell_type": "code",
   "execution_count": null,
   "metadata": {},
   "outputs": [
    {
     "data": {
      "text/plain": [
       "['123', '456', '7890']"
      ]
     },
     "execution_count": 66,
     "metadata": {},
     "output_type": "execute_result"
    }
   ],
   "source": [
    "# - Extract all digits from \"Order 123, Invoice 456, ID 7890\"\n",
    "\n",
    "text1 = \"Order 123, Invoice 456, ID 7890\"\n",
    "\n",
    "re.findall(r\"\\d+\", text1)"
   ]
  },
  {
   "cell_type": "code",
   "execution_count": null,
   "metadata": {},
   "outputs": [
    {
     "data": {
      "text/plain": [
       "['ello', 'ython']"
      ]
     },
     "execution_count": 76,
     "metadata": {},
     "output_type": "execute_result"
    }
   ],
   "source": [
    "# Find all lowercase letters in \"Hello WORLD Python!\"\n",
    "\n",
    "text2 = \"Hello WORLD Python!\"\n",
    "re.findall(r\"[a-z]+\", text2)"
   ]
  },
  {
   "cell_type": "code",
   "execution_count": null,
   "metadata": {},
   "outputs": [
    {
     "data": {
      "text/plain": [
       "['R', 'FUN', 'POWERFUL']"
      ]
     },
     "execution_count": 79,
     "metadata": {},
     "output_type": "execute_result"
    }
   ],
   "source": [
    "# Extract all capital letters from \"Regex is FUN and POWERFUL\".\n",
    "\n",
    "text3 = \"Regex is FUN and POWERFUL\"\n",
    "re.findall(r\"[A-Z]+\", text3)"
   ]
  },
  {
   "cell_type": "code",
   "execution_count": null,
   "metadata": {},
   "outputs": [
    {
     "data": {
      "text/plain": [
       "['Hello', 'World']"
      ]
     },
     "execution_count": 44,
     "metadata": {},
     "output_type": "execute_result"
    }
   ],
   "source": [
    "# Find all words in \"Hello, World! 123\" (Ignore punctuation).\n",
    "\n",
    "text4 = \"Hello, World! 123\"\n",
    "re.findall(r\"[A-Za-z]+\", text4)"
   ]
  },
  {
   "cell_type": "code",
   "execution_count": null,
   "metadata": {},
   "outputs": [
    {
     "data": {
      "text/plain": [
       "['apple', 'banana']"
      ]
     },
     "execution_count": 49,
     "metadata": {},
     "output_type": "execute_result"
    }
   ],
   "source": [
    "# Extract words that contain only alphabets from \"cat123 dog45 apple banana\".\n",
    "\n",
    "text5 = \"cat123 dog45 apple banana\"\n",
    "re.findall(r\"\\b[a-zA-Z]+\\b\", text5)"
   ]
  },
  {
   "cell_type": "code",
   "execution_count": null,
   "metadata": {},
   "outputs": [
    {
     "data": {
      "text/plain": [
       "['apple', 'apricot']"
      ]
     },
     "execution_count": 32,
     "metadata": {},
     "output_type": "execute_result"
    }
   ],
   "source": [
    "# Find all words that start with \"a\" in \"apple banana apricot orange\"\n",
    "\n",
    "text6 = \"apple banana apricot orange\"\n",
    "re.findall(r\"\\ba\\w*\", text6)"
   ]
  },
  {
   "cell_type": "code",
   "execution_count": null,
   "metadata": {},
   "outputs": [
    {
     "data": {
      "text/plain": [
       "['H']"
      ]
     },
     "execution_count": 23,
     "metadata": {},
     "output_type": "execute_result"
    }
   ],
   "source": [
    "re.findall(r\"\", text4)"
   ]
  },
  {
   "cell_type": "code",
   "execution_count": null,
   "metadata": {},
   "outputs": [
    {
     "data": {
      "text/plain": [
       "[]"
      ]
     },
     "execution_count": 9,
     "metadata": {},
     "output_type": "execute_result"
    }
   ],
   "source": [
    "re.findall(r\"/[a-z]\", \"cat123 dog45 apple banana\")"
   ]
  },
  {
   "cell_type": "code",
   "execution_count": null,
   "metadata": {},
   "outputs": [],
   "source": [
    "a = \"\""
   ]
  },
  {
   "cell_type": "code",
   "execution_count": null,
   "metadata": {},
   "outputs": [
    {
     "data": {
      "text/plain": [
       "['20250219-09:49:39.874935000 [out] : 8=FIX.4.4',\n",
       " '9=291',\n",
       " '35=8',\n",
       " '34=48945',\n",
       " '49=CENTROID_SOL',\n",
       " '52=20250219-09:49:39.874882',\n",
       " '56=TD_MT5_FIX',\n",
       " '1=BM_MT5_B_2',\n",
       " '6=0.0000000000',\n",
       " '11=e-1739958579793858600',\n",
       " '14=0.00',\n",
       " '17=9756177',\n",
       " '31=0.0000000000',\n",
       " '32=0.00',\n",
       " '37=9756177',\n",
       " '38=1000.00',\n",
       " '39=0',\n",
       " '40=1',\n",
       " '54=1',\n",
       " '55=ADAUSD.x',\n",
       " '58=New Request',\n",
       " '59=3',\n",
       " '60=20250219-09:49:39',\n",
       " '150=0',\n",
       " '151=1000.00',\n",
       " '9999=CenSystem',\n",
       " '10=198',\n",
       " 'a',\n",
       " 'a']"
      ]
     },
     "execution_count": 17,
     "metadata": {},
     "output_type": "execute_result"
    }
   ],
   "source": [
    "import re \n",
    "b = re.split(r\"\\x01\", a)\n",
    "b"
   ]
  },
  {
   "cell_type": "code",
   "execution_count": null,
   "metadata": {},
   "outputs": [
    {
     "name": "stdout",
     "output_type": "stream",
     "text": [
      "38=1000.00\n",
      "39=0\n",
      "55=ADAUSD.x\n"
     ]
    }
   ],
   "source": [
    "for i in range(len(b)):\n",
    "    if not \"38=\" in b[i]:\n",
    "        pass\n",
    "    else: \n",
    "        print(b[i])\n",
    "    if not \"39=\" in b[i]:\n",
    "        pass\n",
    "    else: \n",
    "        print(b[i])\n",
    "    if not \"55=\" in b[i]:\n",
    "        pass\n",
    "    else: \n",
    "        print(b[i])"
   ]
  }
 ],
 "metadata": {
  "kernelspec": {
   "display_name": "comp_ling_env",
   "language": "python",
   "name": "python3"
  },
  "language_info": {
   "codemirror_mode": {
    "name": "ipython",
    "version": 3
   },
   "file_extension": ".py",
   "mimetype": "text/x-python",
   "name": "python",
   "nbconvert_exporter": "python",
   "pygments_lexer": "ipython3",
   "version": "3.10.16"
  }
 },
 "nbformat": 4,
 "nbformat_minor": 2
}
