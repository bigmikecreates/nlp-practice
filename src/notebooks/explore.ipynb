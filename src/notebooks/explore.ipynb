{
 "cells": [
  {
   "cell_type": "markdown",
   "metadata": {
    "vscode": {
     "languageId": "plaintext"
    }
   },
   "source": [
    "# EXPLORING REGULAR EXPRESSIONS\n",
    "\n",
    "This notebook is partially inspired by <a href=\"resources/Speech and Language Processing (12-Jan-2025) - Daniel Jurafsky & James H. Martin.pdf\"><i>\"Speech-and-Language-Processing_Jurafsky-Martin_Jan-12-2025\"</i></a> chapter on Regular Expressions."
   ]
  },
  {
   "cell_type": "markdown",
   "metadata": {},
   "source": [
    "## INITIALZATION"
   ]
  },
  {
   "cell_type": "code",
   "execution_count": 18,
   "metadata": {},
   "outputs": [],
   "source": [
    "# Required Modules\n",
    "\n",
    "import re\n",
    "import pandas as pd\n",
    "import numpy as np\n",
    "import regex\n",
    "import pygrep\n",
    "import flashtext\n",
    "import spacy\n",
    "import loguru\n",
    "import pyspark\n",
    "import kafka\n",
    "import os\n",
    "import gzip\n",
    "import pandas as pd\n",
    "import shutil\n",
    "import kagglehub\n",
    "import requests\n",
    "from urllib.parse import urljoin"
   ]
  },
  {
   "cell_type": "code",
   "execution_count": 15,
   "metadata": {},
   "outputs": [],
   "source": [
    "# File Paths\n",
    "\n",
    "src_folder_path = \"C://Users//mquay//Documents//GitHub//Personal//nlp-practice//src\"\n",
    "notebooks_path = \"C://Users//mquay//Documents//GitHub//Personal//nlp-practice//src//notebooks\"\n",
    "scripts_path = \"C://Users//mquay//Documents//GitHub//Personal//nlp-practice//src//scripts\"\n",
    "datasets_path = \"C://Users//mquay//Documents//GitHub//Personal//nlp-practice//datasets\"\n",
    "csvs_path = \"C://Users//mquay//Documents//GitHub//Personal//nlp-practice//datasets//csv\"\n",
    "jsons_path = \"C://Users//mquay//Documents//GitHub//Personal//nlp-practice//datasets//json\"\n",
    "txt_path = \"C://Users//mquay//Documents//GitHub//Personal//nlp-practice//datasets//txt\""
   ]
  },
  {
   "cell_type": "code",
   "execution_count": 16,
   "metadata": {},
   "outputs": [],
   "source": [
    "# Important Functions\n",
    "\n"
   ]
  },
  {
   "cell_type": "code",
   "execution_count": null,
   "metadata": {},
   "outputs": [
    {
     "name": "stdout",
     "output_type": "stream",
     "text": [
      "Downloading from https://www.kaggle.com/api/v1/datasets/download/bilalyussef/google-books-dataset?dataset_version_number=3...\n"
     ]
    },
    {
     "name": "stderr",
     "output_type": "stream",
     "text": [
      "100%|██████████| 713k/713k [00:00<00:00, 1.55MB/s]"
     ]
    },
    {
     "name": "stdout",
     "output_type": "stream",
     "text": [
      "Extracting files...\n",
      "Path to dataset files: C:\\Users\\mquay\\.cache\\kagglehub\\datasets\\bilalyussef\\google-books-dataset\\versions\\3\n"
     ]
    },
    {
     "name": "stderr",
     "output_type": "stream",
     "text": [
      "\n"
     ]
    }
   ],
   "source": [
    "# Loading File\n",
    "\n",
    "## Downloading the latest version\n",
    "path = kagglehub.dataset_download(\"bilalyussef/google-books-dataset\")\n",
    "\n",
    "# Display file path for downloaded file\n",
    "print(\"Path to dataset files:\", path)"
   ]
  },
  {
   "cell_type": "markdown",
   "metadata": {},
   "source": [
    "The downloads are to be moved to the <code>\\csv</code> directory for ease of access."
   ]
  },
  {
   "cell_type": "code",
   "execution_count": 66,
   "metadata": {},
   "outputs": [
    {
     "data": {
      "text/plain": [
       "Index(['title', 'author', 'rating', 'voters', 'price', 'currency',\n",
       "       'description', 'publisher', 'page_count', 'genres', 'ISBN', 'language',\n",
       "       'published_date'],\n",
       "      dtype='object')"
      ]
     },
     "execution_count": 66,
     "metadata": {},
     "output_type": "execute_result"
    }
   ],
   "source": [
    "# Accessing File\n",
    "\n",
    "document = pd.read_csv(\"..//..//datasets//csv//kaggle//bilalyussef//google_books_1299.csv\", encoding='utf-8').drop(columns=[\"Unnamed: 0\"]).rename(columns={\"generes\":'genres'})\n",
    "document.columns"
   ]
  },
  {
   "cell_type": "code",
   "execution_count": 80,
   "metadata": {},
   "outputs": [
    {
     "data": {
      "text/html": [
       "<div>\n",
       "<style scoped>\n",
       "    .dataframe tbody tr th:only-of-type {\n",
       "        vertical-align: middle;\n",
       "    }\n",
       "\n",
       "    .dataframe tbody tr th {\n",
       "        vertical-align: top;\n",
       "    }\n",
       "\n",
       "    .dataframe thead th {\n",
       "        text-align: right;\n",
       "    }\n",
       "</style>\n",
       "<table border=\"1\" class=\"dataframe\">\n",
       "  <thead>\n",
       "    <tr style=\"text-align: right;\">\n",
       "      <th></th>\n",
       "      <th>title</th>\n",
       "      <th>author</th>\n",
       "      <th>rating</th>\n",
       "      <th>voters</th>\n",
       "      <th>price</th>\n",
       "    </tr>\n",
       "  </thead>\n",
       "  <tbody>\n",
       "    <tr>\n",
       "      <th>0</th>\n",
       "      <td>Attack on Titan: Volume 13</td>\n",
       "      <td>Hajime Isayama</td>\n",
       "      <td>4.6</td>\n",
       "      <td>428</td>\n",
       "      <td>43.28</td>\n",
       "    </tr>\n",
       "    <tr>\n",
       "      <th>1</th>\n",
       "      <td>Antiques Roadkill: A Trash 'n' Treasures Mystery</td>\n",
       "      <td>Barbara Allan</td>\n",
       "      <td>3.3</td>\n",
       "      <td>23</td>\n",
       "      <td>26.15</td>\n",
       "    </tr>\n",
       "    <tr>\n",
       "      <th>2</th>\n",
       "      <td>The Art of Super Mario Odyssey</td>\n",
       "      <td>Nintendo</td>\n",
       "      <td>3.9</td>\n",
       "      <td>9</td>\n",
       "      <td>133.85</td>\n",
       "    </tr>\n",
       "  </tbody>\n",
       "</table>\n",
       "</div>"
      ],
      "text/plain": [
       "                                              title          author  rating  \\\n",
       "0                        Attack on Titan: Volume 13  Hajime Isayama     4.6   \n",
       "1  Antiques Roadkill: A Trash 'n' Treasures Mystery   Barbara Allan     3.3   \n",
       "2                    The Art of Super Mario Odyssey        Nintendo     3.9   \n",
       "\n",
       "  voters   price  \n",
       "0    428   43.28  \n",
       "1     23   26.15  \n",
       "2      9  133.85  "
      ]
     },
     "execution_count": 80,
     "metadata": {},
     "output_type": "execute_result"
    }
   ],
   "source": [
    "doc_p1 = document[['title',\"author\", \"rating\", \"voters\", \"price\"]]\n",
    "\"\"\"Stores the first partition of the document\n",
    "\n",
    "Columns: 'title',\"author\", \"rating\", \"voters\", \"price\"\n",
    "\"\"\"\n",
    "\n",
    "doc_p1[:3]"
   ]
  },
  {
   "cell_type": "code",
   "execution_count": 81,
   "metadata": {},
   "outputs": [
    {
     "data": {
      "text/html": [
       "<div>\n",
       "<style scoped>\n",
       "    .dataframe tbody tr th:only-of-type {\n",
       "        vertical-align: middle;\n",
       "    }\n",
       "\n",
       "    .dataframe tbody tr th {\n",
       "        vertical-align: top;\n",
       "    }\n",
       "\n",
       "    .dataframe thead th {\n",
       "        text-align: right;\n",
       "    }\n",
       "</style>\n",
       "<table border=\"1\" class=\"dataframe\">\n",
       "  <thead>\n",
       "    <tr style=\"text-align: right;\">\n",
       "      <th></th>\n",
       "      <th>currency</th>\n",
       "      <th>description</th>\n",
       "      <th>publisher</th>\n",
       "      <th>page_count</th>\n",
       "    </tr>\n",
       "  </thead>\n",
       "  <tbody>\n",
       "    <tr>\n",
       "      <th>0</th>\n",
       "      <td>SAR</td>\n",
       "      <td>NO SAFE PLACE LEFT At great cost to the Garris...</td>\n",
       "      <td>Kodansha Comics</td>\n",
       "      <td>192</td>\n",
       "    </tr>\n",
       "    <tr>\n",
       "      <th>1</th>\n",
       "      <td>SAR</td>\n",
       "      <td>Determined to make a new start in her quaint h...</td>\n",
       "      <td>Kensington Publishing Corp.</td>\n",
       "      <td>288</td>\n",
       "    </tr>\n",
       "    <tr>\n",
       "      <th>2</th>\n",
       "      <td>SAR</td>\n",
       "      <td>Take a globetrotting journey all over the worl...</td>\n",
       "      <td>Dark Horse Comics</td>\n",
       "      <td>368</td>\n",
       "    </tr>\n",
       "  </tbody>\n",
       "</table>\n",
       "</div>"
      ],
      "text/plain": [
       "  currency                                        description  \\\n",
       "0      SAR  NO SAFE PLACE LEFT At great cost to the Garris...   \n",
       "1      SAR  Determined to make a new start in her quaint h...   \n",
       "2      SAR  Take a globetrotting journey all over the worl...   \n",
       "\n",
       "                     publisher  page_count  \n",
       "0              Kodansha Comics         192  \n",
       "1  Kensington Publishing Corp.         288  \n",
       "2            Dark Horse Comics         368  "
      ]
     },
     "execution_count": 81,
     "metadata": {},
     "output_type": "execute_result"
    }
   ],
   "source": [
    "doc_p2 = document[[\"currency\", \"description\", \"publisher\", \"page_count\"]]\n",
    "\"\"\"Stores the second partition of the document\n",
    "\n",
    "Columns: \"currency\", \"description\", \"publisher\", \"page_count\"\n",
    "\"\"\"\n",
    "\n",
    "doc_p2[:3]"
   ]
  },
  {
   "cell_type": "code",
   "execution_count": 82,
   "metadata": {},
   "outputs": [
    {
     "data": {
      "text/html": [
       "<div>\n",
       "<style scoped>\n",
       "    .dataframe tbody tr th:only-of-type {\n",
       "        vertical-align: middle;\n",
       "    }\n",
       "\n",
       "    .dataframe tbody tr th {\n",
       "        vertical-align: top;\n",
       "    }\n",
       "\n",
       "    .dataframe thead th {\n",
       "        text-align: right;\n",
       "    }\n",
       "</style>\n",
       "<table border=\"1\" class=\"dataframe\">\n",
       "  <thead>\n",
       "    <tr style=\"text-align: right;\">\n",
       "      <th></th>\n",
       "      <th>genres</th>\n",
       "      <th>ISBN</th>\n",
       "      <th>language</th>\n",
       "      <th>published_date</th>\n",
       "    </tr>\n",
       "  </thead>\n",
       "  <tbody>\n",
       "    <tr>\n",
       "      <th>0</th>\n",
       "      <td>none</td>\n",
       "      <td>9781612626864</td>\n",
       "      <td>English</td>\n",
       "      <td>Jul 31, 2014</td>\n",
       "    </tr>\n",
       "    <tr>\n",
       "      <th>1</th>\n",
       "      <td>Fiction , Mystery &amp;amp, Detective , Cozy , Gen...</td>\n",
       "      <td>9780758272799</td>\n",
       "      <td>English</td>\n",
       "      <td>Jul 1, 2007</td>\n",
       "    </tr>\n",
       "    <tr>\n",
       "      <th>2</th>\n",
       "      <td>Games &amp;amp, Activities , Video &amp;amp, Electronic</td>\n",
       "      <td>9781506713816</td>\n",
       "      <td>English</td>\n",
       "      <td>Nov 5, 2019</td>\n",
       "    </tr>\n",
       "  </tbody>\n",
       "</table>\n",
       "</div>"
      ],
      "text/plain": [
       "                                              genres           ISBN language  \\\n",
       "0                                               none  9781612626864  English   \n",
       "1  Fiction , Mystery &amp, Detective , Cozy , Gen...  9780758272799  English   \n",
       "2    Games &amp, Activities , Video &amp, Electronic  9781506713816  English   \n",
       "\n",
       "  published_date  \n",
       "0   Jul 31, 2014  \n",
       "1    Jul 1, 2007  \n",
       "2    Nov 5, 2019  "
      ]
     },
     "execution_count": 82,
     "metadata": {},
     "output_type": "execute_result"
    }
   ],
   "source": [
    "doc_p3 = document[[\"genres\", 'ISBN', 'language', 'published_date']] \n",
    "\"\"\"Stores the third partition of the document\n",
    "\n",
    "Columns: \"genres\", 'ISBN', 'language', 'published_date'\n",
    "\"\"\"\n",
    "\n",
    "doc_p3[:3]"
   ]
  },
  {
   "cell_type": "code",
   "execution_count": 78,
   "metadata": {},
   "outputs": [
    {
     "data": {
      "text/plain": [
       "'Stores partitioned files from master document\\n\\nReturns:\\n    - 3 partitioned files from the main document\\n'"
      ]
     },
     "execution_count": 78,
     "metadata": {},
     "output_type": "execute_result"
    }
   ],
   "source": [
    "joint_partitioned_doc = [doc_p1, doc_p2, doc_p3]\n",
    "\n",
    "\"\"\"Stores partitioned files from master document\n",
    "\n",
    "Returns:\n",
    "    - 3 partitioned files from the main document\n",
    "\"\"\""
   ]
  },
  {
   "cell_type": "markdown",
   "metadata": {},
   "source": [
    "## PRE-PROCESSING"
   ]
  },
  {
   "cell_type": "markdown",
   "metadata": {},
   "source": [
    "### Exploration"
   ]
  },
  {
   "cell_type": "code",
   "execution_count": null,
   "metadata": {},
   "outputs": [
    {
     "data": {
      "text/plain": [
       "1299"
      ]
     },
     "execution_count": 22,
     "metadata": {},
     "output_type": "execute_result"
    }
   ],
   "source": [
    "# How many books exist in this file?\n",
    "len(document)"
   ]
  },
  {
   "cell_type": "code",
   "execution_count": 52,
   "metadata": {},
   "outputs": [
    {
     "name": "stdout",
     "output_type": "stream",
     "text": [
      "<class 'pandas.core.frame.DataFrame'>\n",
      "RangeIndex: 1299 entries, 0 to 1298\n",
      "Data columns (total 13 columns):\n",
      " #   Column          Non-Null Count  Dtype  \n",
      "---  ------          --------------  -----  \n",
      " 0   title           1299 non-null   object \n",
      " 1   author          1299 non-null   object \n",
      " 2   rating          1224 non-null   float64\n",
      " 3   voters          1224 non-null   object \n",
      " 4   price           1299 non-null   float64\n",
      " 5   currency        1299 non-null   object \n",
      " 6   description     1296 non-null   object \n",
      " 7   publisher       1299 non-null   object \n",
      " 8   page_count      1299 non-null   int64  \n",
      " 9   genres          1299 non-null   object \n",
      " 10  ISBN            1299 non-null   object \n",
      " 11  language        1299 non-null   object \n",
      " 12  published_date  1299 non-null   object \n",
      "dtypes: float64(2), int64(1), object(10)\n",
      "memory usage: 132.1+ KB\n"
     ]
    }
   ],
   "source": [
    "# File Description\n",
    "\n",
    "document.info()"
   ]
  },
  {
   "cell_type": "code",
   "execution_count": null,
   "metadata": {},
   "outputs": [
    {
     "ename": "ValueError",
     "evalue": "invalid literal for int() with base 10: 'nan'",
     "output_type": "error",
     "traceback": [
      "\u001b[1;31m---------------------------------------------------------------------------\u001b[0m",
      "\u001b[1;31mValueError\u001b[0m                                Traceback (most recent call last)",
      "Cell \u001b[1;32mIn[109], line 4\u001b[0m\n\u001b[0;32m      1\u001b[0m voters_values_preproc_start \u001b[38;5;241m=\u001b[39m \u001b[38;5;28mlist\u001b[39m(doc_p1[\u001b[38;5;124m'\u001b[39m\u001b[38;5;124mvoters\u001b[39m\u001b[38;5;124m'\u001b[39m])\n\u001b[0;32m      2\u001b[0m \u001b[38;5;124;03m\"\"\"Removes commas from all values, allowing conversion to int64\"\"\"\u001b[39;00m\n\u001b[1;32m----> 4\u001b[0m voters_values_preproc_final \u001b[38;5;241m=\u001b[39m [\u001b[38;5;28mint\u001b[39m(\u001b[38;5;28mstr\u001b[39m(num)\u001b[38;5;241m.\u001b[39mreplace(\u001b[38;5;124m\"\u001b[39m\u001b[38;5;124m,\u001b[39m\u001b[38;5;124m\"\u001b[39m, \u001b[38;5;124m\"\u001b[39m\u001b[38;5;124m\"\u001b[39m)\u001b[38;5;241m.\u001b[39msplit(\u001b[38;5;124m\"\u001b[39m\u001b[38;5;124m.\u001b[39m\u001b[38;5;124m\"\u001b[39m)[\u001b[38;5;241m0\u001b[39m]) \u001b[38;5;28;01mfor\u001b[39;00m num \u001b[38;5;129;01min\u001b[39;00m \u001b[38;5;28mlist\u001b[39m(doc_p1[\u001b[38;5;124m'\u001b[39m\u001b[38;5;124mvoters\u001b[39m\u001b[38;5;124m'\u001b[39m])]\n\u001b[0;32m      5\u001b[0m \u001b[38;5;124;03m\"\"\"Final values after having removed commas\"\"\"\u001b[39;00m\n\u001b[0;32m      7\u001b[0m voters_values_preproc_final\n",
      "Cell \u001b[1;32mIn[109], line 4\u001b[0m, in \u001b[0;36m<listcomp>\u001b[1;34m(.0)\u001b[0m\n\u001b[0;32m      1\u001b[0m voters_values_preproc_start \u001b[38;5;241m=\u001b[39m \u001b[38;5;28mlist\u001b[39m(doc_p1[\u001b[38;5;124m'\u001b[39m\u001b[38;5;124mvoters\u001b[39m\u001b[38;5;124m'\u001b[39m])\n\u001b[0;32m      2\u001b[0m \u001b[38;5;124;03m\"\"\"Removes commas from all values, allowing conversion to int64\"\"\"\u001b[39;00m\n\u001b[1;32m----> 4\u001b[0m voters_values_preproc_final \u001b[38;5;241m=\u001b[39m [\u001b[38;5;28;43mint\u001b[39;49m\u001b[43m(\u001b[49m\u001b[38;5;28;43mstr\u001b[39;49m\u001b[43m(\u001b[49m\u001b[43mnum\u001b[49m\u001b[43m)\u001b[49m\u001b[38;5;241;43m.\u001b[39;49m\u001b[43mreplace\u001b[49m\u001b[43m(\u001b[49m\u001b[38;5;124;43m\"\u001b[39;49m\u001b[38;5;124;43m,\u001b[39;49m\u001b[38;5;124;43m\"\u001b[39;49m\u001b[43m,\u001b[49m\u001b[43m \u001b[49m\u001b[38;5;124;43m\"\u001b[39;49m\u001b[38;5;124;43m\"\u001b[39;49m\u001b[43m)\u001b[49m\u001b[38;5;241;43m.\u001b[39;49m\u001b[43msplit\u001b[49m\u001b[43m(\u001b[49m\u001b[38;5;124;43m\"\u001b[39;49m\u001b[38;5;124;43m.\u001b[39;49m\u001b[38;5;124;43m\"\u001b[39;49m\u001b[43m)\u001b[49m\u001b[43m[\u001b[49m\u001b[38;5;241;43m0\u001b[39;49m\u001b[43m]\u001b[49m\u001b[43m)\u001b[49m \u001b[38;5;28;01mfor\u001b[39;00m num \u001b[38;5;129;01min\u001b[39;00m \u001b[38;5;28mlist\u001b[39m(doc_p1[\u001b[38;5;124m'\u001b[39m\u001b[38;5;124mvoters\u001b[39m\u001b[38;5;124m'\u001b[39m])]\n\u001b[0;32m      5\u001b[0m \u001b[38;5;124;03m\"\"\"Final values after having removed commas\"\"\"\u001b[39;00m\n\u001b[0;32m      7\u001b[0m voters_values_preproc_final\n",
      "\u001b[1;31mValueError\u001b[0m: invalid literal for int() with base 10: 'nan'"
     ]
    }
   ],
   "source": [
    "voters_values_preproc_start = list(doc_p1['voters'])\n",
    "\"\"\"Removes commas from all values, allowing conversion to int64\"\"\"\n",
    "\n",
    "# voters_values_preproc_final = [int(str(num).replace(\",\", \"\").split(\".\")[0]) for num in list(doc_p1['voters'])]\n",
    "# \"\"\"Final values after having removed commas\"\"\"\n",
    "        \n",
    "# voters_values_preproc_final"
   ]
  },
  {
   "cell_type": "code",
   "execution_count": 94,
   "metadata": {},
   "outputs": [
    {
     "data": {
      "text/plain": [
       "array(['428', '23', '9', '10', '577', '832', '94', '221', '135', '47',\n",
       "       '383', '57', '45', '38,526', '4', '427', '3', '13', nan, '281',\n",
       "       '200', '7', '100', '408', '288', '15', '886', '1,633', '1,382',\n",
       "       '206', '1', '72', '6', '861', '42', '17,719', '522', '6,615', '64',\n",
       "       '32,771', '1,251', '1,130', '5,177', '34', '142', '580', '352',\n",
       "       '751', '10,650', '2', '3,316', '124', '255', '591', '1,756', '87',\n",
       "       '223', '3,650', '107', '25', '56', '127', '14', '453', '3,695',\n",
       "       '526', '532', '399', '451', '4,683', '18', '95', '46', '90', '84',\n",
       "       '78', '818', '247', '30', '80', '157', '85', '79', '119', '407',\n",
       "       '216', '588', '997', '60', '499', '624', '120', '166', '483',\n",
       "       '168', '661', '4,260', '1,354', '38', '1,408', '1,701', '4,532',\n",
       "       '250', '1,780', '33', '11', '4,750', '8', '21', '1,799', '510',\n",
       "       '24', '9,403', '567', '141', '179', '2,700', '22', '363', '715',\n",
       "       '97', '103', '1,105', '4,533', '66', '52', '634', '53', '61',\n",
       "       '222', '1,345', '5', '35', '373', '445', '308', '272', '74', '185',\n",
       "       '26', '12', '485', '327', '102', '1,285', '20', '405', '69', '283',\n",
       "       '27', '1,365', '278', '244', '16', '62', '92', '36', '41', '19',\n",
       "       '186', '391', '110', '49'], dtype=object)"
      ]
     },
     "execution_count": 94,
     "metadata": {},
     "output_type": "execute_result"
    }
   ],
   "source": [
    "doc_p1['voters'].unique()"
   ]
  },
  {
   "cell_type": "code",
   "execution_count": 93,
   "metadata": {},
   "outputs": [
    {
     "ename": "ValueError",
     "evalue": "invalid literal for int() with base 10: '38,526'",
     "output_type": "error",
     "traceback": [
      "\u001b[1;31m---------------------------------------------------------------------------\u001b[0m",
      "\u001b[1;31mValueError\u001b[0m                                Traceback (most recent call last)",
      "Cell \u001b[1;32mIn[93], line 1\u001b[0m\n\u001b[1;32m----> 1\u001b[0m doc_p1[\u001b[38;5;124m'\u001b[39m\u001b[38;5;124mvoters\u001b[39m\u001b[38;5;124m'\u001b[39m] \u001b[38;5;241m=\u001b[39m \u001b[43mdoc_p1\u001b[49m\u001b[43m[\u001b[49m\u001b[38;5;124;43m'\u001b[39;49m\u001b[38;5;124;43mvoters\u001b[39;49m\u001b[38;5;124;43m'\u001b[39;49m\u001b[43m]\u001b[49m\u001b[38;5;241;43m.\u001b[39;49m\u001b[43mastype\u001b[49m\u001b[43m(\u001b[49m\u001b[38;5;124;43m\"\u001b[39;49m\u001b[38;5;124;43mint64\u001b[39;49m\u001b[38;5;124;43m\"\u001b[39;49m\u001b[43m)\u001b[49m\n\u001b[0;32m      2\u001b[0m doc_p1[\u001b[38;5;124m'\u001b[39m\u001b[38;5;124mvoters\u001b[39m\u001b[38;5;124m'\u001b[39m]\u001b[38;5;241m.\u001b[39mdtype\n",
      "File \u001b[1;32mc:\\Users\\mquay\\anaconda3\\envs\\comp_ling_env\\lib\\site-packages\\pandas\\core\\generic.py:6643\u001b[0m, in \u001b[0;36mNDFrame.astype\u001b[1;34m(self, dtype, copy, errors)\u001b[0m\n\u001b[0;32m   6637\u001b[0m     results \u001b[38;5;241m=\u001b[39m [\n\u001b[0;32m   6638\u001b[0m         ser\u001b[38;5;241m.\u001b[39mastype(dtype, copy\u001b[38;5;241m=\u001b[39mcopy, errors\u001b[38;5;241m=\u001b[39merrors) \u001b[38;5;28;01mfor\u001b[39;00m _, ser \u001b[38;5;129;01min\u001b[39;00m \u001b[38;5;28mself\u001b[39m\u001b[38;5;241m.\u001b[39mitems()\n\u001b[0;32m   6639\u001b[0m     ]\n\u001b[0;32m   6641\u001b[0m \u001b[38;5;28;01melse\u001b[39;00m:\n\u001b[0;32m   6642\u001b[0m     \u001b[38;5;66;03m# else, only a single dtype is given\u001b[39;00m\n\u001b[1;32m-> 6643\u001b[0m     new_data \u001b[38;5;241m=\u001b[39m \u001b[38;5;28;43mself\u001b[39;49m\u001b[38;5;241;43m.\u001b[39;49m\u001b[43m_mgr\u001b[49m\u001b[38;5;241;43m.\u001b[39;49m\u001b[43mastype\u001b[49m\u001b[43m(\u001b[49m\u001b[43mdtype\u001b[49m\u001b[38;5;241;43m=\u001b[39;49m\u001b[43mdtype\u001b[49m\u001b[43m,\u001b[49m\u001b[43m \u001b[49m\u001b[43mcopy\u001b[49m\u001b[38;5;241;43m=\u001b[39;49m\u001b[43mcopy\u001b[49m\u001b[43m,\u001b[49m\u001b[43m \u001b[49m\u001b[43merrors\u001b[49m\u001b[38;5;241;43m=\u001b[39;49m\u001b[43merrors\u001b[49m\u001b[43m)\u001b[49m\n\u001b[0;32m   6644\u001b[0m     res \u001b[38;5;241m=\u001b[39m \u001b[38;5;28mself\u001b[39m\u001b[38;5;241m.\u001b[39m_constructor_from_mgr(new_data, axes\u001b[38;5;241m=\u001b[39mnew_data\u001b[38;5;241m.\u001b[39maxes)\n\u001b[0;32m   6645\u001b[0m     \u001b[38;5;28;01mreturn\u001b[39;00m res\u001b[38;5;241m.\u001b[39m__finalize__(\u001b[38;5;28mself\u001b[39m, method\u001b[38;5;241m=\u001b[39m\u001b[38;5;124m\"\u001b[39m\u001b[38;5;124mastype\u001b[39m\u001b[38;5;124m\"\u001b[39m)\n",
      "File \u001b[1;32mc:\\Users\\mquay\\anaconda3\\envs\\comp_ling_env\\lib\\site-packages\\pandas\\core\\internals\\managers.py:430\u001b[0m, in \u001b[0;36mBaseBlockManager.astype\u001b[1;34m(self, dtype, copy, errors)\u001b[0m\n\u001b[0;32m    427\u001b[0m \u001b[38;5;28;01melif\u001b[39;00m using_copy_on_write():\n\u001b[0;32m    428\u001b[0m     copy \u001b[38;5;241m=\u001b[39m \u001b[38;5;28;01mFalse\u001b[39;00m\n\u001b[1;32m--> 430\u001b[0m \u001b[38;5;28;01mreturn\u001b[39;00m \u001b[38;5;28;43mself\u001b[39;49m\u001b[38;5;241;43m.\u001b[39;49m\u001b[43mapply\u001b[49m\u001b[43m(\u001b[49m\n\u001b[0;32m    431\u001b[0m \u001b[43m    \u001b[49m\u001b[38;5;124;43m\"\u001b[39;49m\u001b[38;5;124;43mastype\u001b[39;49m\u001b[38;5;124;43m\"\u001b[39;49m\u001b[43m,\u001b[49m\n\u001b[0;32m    432\u001b[0m \u001b[43m    \u001b[49m\u001b[43mdtype\u001b[49m\u001b[38;5;241;43m=\u001b[39;49m\u001b[43mdtype\u001b[49m\u001b[43m,\u001b[49m\n\u001b[0;32m    433\u001b[0m \u001b[43m    \u001b[49m\u001b[43mcopy\u001b[49m\u001b[38;5;241;43m=\u001b[39;49m\u001b[43mcopy\u001b[49m\u001b[43m,\u001b[49m\n\u001b[0;32m    434\u001b[0m \u001b[43m    \u001b[49m\u001b[43merrors\u001b[49m\u001b[38;5;241;43m=\u001b[39;49m\u001b[43merrors\u001b[49m\u001b[43m,\u001b[49m\n\u001b[0;32m    435\u001b[0m \u001b[43m    \u001b[49m\u001b[43musing_cow\u001b[49m\u001b[38;5;241;43m=\u001b[39;49m\u001b[43musing_copy_on_write\u001b[49m\u001b[43m(\u001b[49m\u001b[43m)\u001b[49m\u001b[43m,\u001b[49m\n\u001b[0;32m    436\u001b[0m \u001b[43m\u001b[49m\u001b[43m)\u001b[49m\n",
      "File \u001b[1;32mc:\\Users\\mquay\\anaconda3\\envs\\comp_ling_env\\lib\\site-packages\\pandas\\core\\internals\\managers.py:363\u001b[0m, in \u001b[0;36mBaseBlockManager.apply\u001b[1;34m(self, f, align_keys, **kwargs)\u001b[0m\n\u001b[0;32m    361\u001b[0m         applied \u001b[38;5;241m=\u001b[39m b\u001b[38;5;241m.\u001b[39mapply(f, \u001b[38;5;241m*\u001b[39m\u001b[38;5;241m*\u001b[39mkwargs)\n\u001b[0;32m    362\u001b[0m     \u001b[38;5;28;01melse\u001b[39;00m:\n\u001b[1;32m--> 363\u001b[0m         applied \u001b[38;5;241m=\u001b[39m \u001b[38;5;28mgetattr\u001b[39m(b, f)(\u001b[38;5;241m*\u001b[39m\u001b[38;5;241m*\u001b[39mkwargs)\n\u001b[0;32m    364\u001b[0m     result_blocks \u001b[38;5;241m=\u001b[39m extend_blocks(applied, result_blocks)\n\u001b[0;32m    366\u001b[0m out \u001b[38;5;241m=\u001b[39m \u001b[38;5;28mtype\u001b[39m(\u001b[38;5;28mself\u001b[39m)\u001b[38;5;241m.\u001b[39mfrom_blocks(result_blocks, \u001b[38;5;28mself\u001b[39m\u001b[38;5;241m.\u001b[39maxes)\n",
      "File \u001b[1;32mc:\\Users\\mquay\\anaconda3\\envs\\comp_ling_env\\lib\\site-packages\\pandas\\core\\internals\\blocks.py:758\u001b[0m, in \u001b[0;36mBlock.astype\u001b[1;34m(self, dtype, copy, errors, using_cow, squeeze)\u001b[0m\n\u001b[0;32m    755\u001b[0m         \u001b[38;5;28;01mraise\u001b[39;00m \u001b[38;5;167;01mValueError\u001b[39;00m(\u001b[38;5;124m\"\u001b[39m\u001b[38;5;124mCan not squeeze with more than one column.\u001b[39m\u001b[38;5;124m\"\u001b[39m)\n\u001b[0;32m    756\u001b[0m     values \u001b[38;5;241m=\u001b[39m values[\u001b[38;5;241m0\u001b[39m, :]  \u001b[38;5;66;03m# type: ignore[call-overload]\u001b[39;00m\n\u001b[1;32m--> 758\u001b[0m new_values \u001b[38;5;241m=\u001b[39m \u001b[43mastype_array_safe\u001b[49m\u001b[43m(\u001b[49m\u001b[43mvalues\u001b[49m\u001b[43m,\u001b[49m\u001b[43m \u001b[49m\u001b[43mdtype\u001b[49m\u001b[43m,\u001b[49m\u001b[43m \u001b[49m\u001b[43mcopy\u001b[49m\u001b[38;5;241;43m=\u001b[39;49m\u001b[43mcopy\u001b[49m\u001b[43m,\u001b[49m\u001b[43m \u001b[49m\u001b[43merrors\u001b[49m\u001b[38;5;241;43m=\u001b[39;49m\u001b[43merrors\u001b[49m\u001b[43m)\u001b[49m\n\u001b[0;32m    760\u001b[0m new_values \u001b[38;5;241m=\u001b[39m maybe_coerce_values(new_values)\n\u001b[0;32m    762\u001b[0m refs \u001b[38;5;241m=\u001b[39m \u001b[38;5;28;01mNone\u001b[39;00m\n",
      "File \u001b[1;32mc:\\Users\\mquay\\anaconda3\\envs\\comp_ling_env\\lib\\site-packages\\pandas\\core\\dtypes\\astype.py:237\u001b[0m, in \u001b[0;36mastype_array_safe\u001b[1;34m(values, dtype, copy, errors)\u001b[0m\n\u001b[0;32m    234\u001b[0m     dtype \u001b[38;5;241m=\u001b[39m dtype\u001b[38;5;241m.\u001b[39mnumpy_dtype\n\u001b[0;32m    236\u001b[0m \u001b[38;5;28;01mtry\u001b[39;00m:\n\u001b[1;32m--> 237\u001b[0m     new_values \u001b[38;5;241m=\u001b[39m \u001b[43mastype_array\u001b[49m\u001b[43m(\u001b[49m\u001b[43mvalues\u001b[49m\u001b[43m,\u001b[49m\u001b[43m \u001b[49m\u001b[43mdtype\u001b[49m\u001b[43m,\u001b[49m\u001b[43m \u001b[49m\u001b[43mcopy\u001b[49m\u001b[38;5;241;43m=\u001b[39;49m\u001b[43mcopy\u001b[49m\u001b[43m)\u001b[49m\n\u001b[0;32m    238\u001b[0m \u001b[38;5;28;01mexcept\u001b[39;00m (\u001b[38;5;167;01mValueError\u001b[39;00m, \u001b[38;5;167;01mTypeError\u001b[39;00m):\n\u001b[0;32m    239\u001b[0m     \u001b[38;5;66;03m# e.g. _astype_nansafe can fail on object-dtype of strings\u001b[39;00m\n\u001b[0;32m    240\u001b[0m     \u001b[38;5;66;03m#  trying to convert to float\u001b[39;00m\n\u001b[0;32m    241\u001b[0m     \u001b[38;5;28;01mif\u001b[39;00m errors \u001b[38;5;241m==\u001b[39m \u001b[38;5;124m\"\u001b[39m\u001b[38;5;124mignore\u001b[39m\u001b[38;5;124m\"\u001b[39m:\n",
      "File \u001b[1;32mc:\\Users\\mquay\\anaconda3\\envs\\comp_ling_env\\lib\\site-packages\\pandas\\core\\dtypes\\astype.py:182\u001b[0m, in \u001b[0;36mastype_array\u001b[1;34m(values, dtype, copy)\u001b[0m\n\u001b[0;32m    179\u001b[0m     values \u001b[38;5;241m=\u001b[39m values\u001b[38;5;241m.\u001b[39mastype(dtype, copy\u001b[38;5;241m=\u001b[39mcopy)\n\u001b[0;32m    181\u001b[0m \u001b[38;5;28;01melse\u001b[39;00m:\n\u001b[1;32m--> 182\u001b[0m     values \u001b[38;5;241m=\u001b[39m \u001b[43m_astype_nansafe\u001b[49m\u001b[43m(\u001b[49m\u001b[43mvalues\u001b[49m\u001b[43m,\u001b[49m\u001b[43m \u001b[49m\u001b[43mdtype\u001b[49m\u001b[43m,\u001b[49m\u001b[43m \u001b[49m\u001b[43mcopy\u001b[49m\u001b[38;5;241;43m=\u001b[39;49m\u001b[43mcopy\u001b[49m\u001b[43m)\u001b[49m\n\u001b[0;32m    184\u001b[0m \u001b[38;5;66;03m# in pandas we don't store numpy str dtypes, so convert to object\u001b[39;00m\n\u001b[0;32m    185\u001b[0m \u001b[38;5;28;01mif\u001b[39;00m \u001b[38;5;28misinstance\u001b[39m(dtype, np\u001b[38;5;241m.\u001b[39mdtype) \u001b[38;5;129;01mand\u001b[39;00m \u001b[38;5;28missubclass\u001b[39m(values\u001b[38;5;241m.\u001b[39mdtype\u001b[38;5;241m.\u001b[39mtype, \u001b[38;5;28mstr\u001b[39m):\n",
      "File \u001b[1;32mc:\\Users\\mquay\\anaconda3\\envs\\comp_ling_env\\lib\\site-packages\\pandas\\core\\dtypes\\astype.py:133\u001b[0m, in \u001b[0;36m_astype_nansafe\u001b[1;34m(arr, dtype, copy, skipna)\u001b[0m\n\u001b[0;32m    129\u001b[0m     \u001b[38;5;28;01mraise\u001b[39;00m \u001b[38;5;167;01mValueError\u001b[39;00m(msg)\n\u001b[0;32m    131\u001b[0m \u001b[38;5;28;01mif\u001b[39;00m copy \u001b[38;5;129;01mor\u001b[39;00m arr\u001b[38;5;241m.\u001b[39mdtype \u001b[38;5;241m==\u001b[39m \u001b[38;5;28mobject\u001b[39m \u001b[38;5;129;01mor\u001b[39;00m dtype \u001b[38;5;241m==\u001b[39m \u001b[38;5;28mobject\u001b[39m:\n\u001b[0;32m    132\u001b[0m     \u001b[38;5;66;03m# Explicit copy, or required since NumPy can't view from / to object.\u001b[39;00m\n\u001b[1;32m--> 133\u001b[0m     \u001b[38;5;28;01mreturn\u001b[39;00m \u001b[43marr\u001b[49m\u001b[38;5;241;43m.\u001b[39;49m\u001b[43mastype\u001b[49m\u001b[43m(\u001b[49m\u001b[43mdtype\u001b[49m\u001b[43m,\u001b[49m\u001b[43m \u001b[49m\u001b[43mcopy\u001b[49m\u001b[38;5;241;43m=\u001b[39;49m\u001b[38;5;28;43;01mTrue\u001b[39;49;00m\u001b[43m)\u001b[49m\n\u001b[0;32m    135\u001b[0m \u001b[38;5;28;01mreturn\u001b[39;00m arr\u001b[38;5;241m.\u001b[39mastype(dtype, copy\u001b[38;5;241m=\u001b[39mcopy)\n",
      "\u001b[1;31mValueError\u001b[0m: invalid literal for int() with base 10: '38,526'"
     ]
    }
   ],
   "source": [
    "doc_p1['voters'] = doc_p1['voters'].astype(\"int64\")\n",
    "doc_p1['voters'].dtype"
   ]
  },
  {
   "cell_type": "code",
   "execution_count": 53,
   "metadata": {},
   "outputs": [
    {
     "data": {
      "text/html": [
       "<div>\n",
       "<style scoped>\n",
       "    .dataframe tbody tr th:only-of-type {\n",
       "        vertical-align: middle;\n",
       "    }\n",
       "\n",
       "    .dataframe tbody tr th {\n",
       "        vertical-align: top;\n",
       "    }\n",
       "\n",
       "    .dataframe thead th {\n",
       "        text-align: right;\n",
       "    }\n",
       "</style>\n",
       "<table border=\"1\" class=\"dataframe\">\n",
       "  <thead>\n",
       "    <tr style=\"text-align: right;\">\n",
       "      <th></th>\n",
       "      <th>title</th>\n",
       "      <th>author</th>\n",
       "      <th>rating</th>\n",
       "      <th>voters</th>\n",
       "      <th>price</th>\n",
       "      <th>currency</th>\n",
       "      <th>description</th>\n",
       "      <th>publisher</th>\n",
       "      <th>page_count</th>\n",
       "      <th>genres</th>\n",
       "      <th>ISBN</th>\n",
       "      <th>language</th>\n",
       "      <th>published_date</th>\n",
       "    </tr>\n",
       "  </thead>\n",
       "  <tbody>\n",
       "    <tr>\n",
       "      <th>0</th>\n",
       "      <td>Attack on Titan: Volume 13</td>\n",
       "      <td>Hajime Isayama</td>\n",
       "      <td>4.6</td>\n",
       "      <td>428</td>\n",
       "      <td>43.28</td>\n",
       "      <td>SAR</td>\n",
       "      <td>NO SAFE PLACE LEFT At great cost to the Garris...</td>\n",
       "      <td>Kodansha Comics</td>\n",
       "      <td>192</td>\n",
       "      <td>none</td>\n",
       "      <td>9781612626864</td>\n",
       "      <td>English</td>\n",
       "      <td>Jul 31, 2014</td>\n",
       "    </tr>\n",
       "    <tr>\n",
       "      <th>1</th>\n",
       "      <td>Antiques Roadkill: A Trash 'n' Treasures Mystery</td>\n",
       "      <td>Barbara Allan</td>\n",
       "      <td>3.3</td>\n",
       "      <td>23</td>\n",
       "      <td>26.15</td>\n",
       "      <td>SAR</td>\n",
       "      <td>Determined to make a new start in her quaint h...</td>\n",
       "      <td>Kensington Publishing Corp.</td>\n",
       "      <td>288</td>\n",
       "      <td>Fiction , Mystery &amp;amp, Detective , Cozy , Gen...</td>\n",
       "      <td>9780758272799</td>\n",
       "      <td>English</td>\n",
       "      <td>Jul 1, 2007</td>\n",
       "    </tr>\n",
       "    <tr>\n",
       "      <th>2</th>\n",
       "      <td>The Art of Super Mario Odyssey</td>\n",
       "      <td>Nintendo</td>\n",
       "      <td>3.9</td>\n",
       "      <td>9</td>\n",
       "      <td>133.85</td>\n",
       "      <td>SAR</td>\n",
       "      <td>Take a globetrotting journey all over the worl...</td>\n",
       "      <td>Dark Horse Comics</td>\n",
       "      <td>368</td>\n",
       "      <td>Games &amp;amp, Activities , Video &amp;amp, Electronic</td>\n",
       "      <td>9781506713816</td>\n",
       "      <td>English</td>\n",
       "      <td>Nov 5, 2019</td>\n",
       "    </tr>\n",
       "    <tr>\n",
       "      <th>3</th>\n",
       "      <td>Getting Away Is Deadly: An Ellie Avery Mystery</td>\n",
       "      <td>Sara Rosett</td>\n",
       "      <td>4.0</td>\n",
       "      <td>10</td>\n",
       "      <td>26.15</td>\n",
       "      <td>SAR</td>\n",
       "      <td>With swollen feet and swelling belly, pregnant...</td>\n",
       "      <td>Kensington Publishing Corp.</td>\n",
       "      <td>320</td>\n",
       "      <td>none</td>\n",
       "      <td>9781617734076</td>\n",
       "      <td>English</td>\n",
       "      <td>Mar 1, 2009</td>\n",
       "    </tr>\n",
       "    <tr>\n",
       "      <th>4</th>\n",
       "      <td>The Painted Man (The Demon Cycle, Book 1)</td>\n",
       "      <td>Peter V. Brett</td>\n",
       "      <td>4.5</td>\n",
       "      <td>577</td>\n",
       "      <td>28.54</td>\n",
       "      <td>SAR</td>\n",
       "      <td>The stunning debut fantasy novel from author P...</td>\n",
       "      <td>HarperCollins UK</td>\n",
       "      <td>544</td>\n",
       "      <td>Fiction , Fantasy , Dark Fantasy</td>\n",
       "      <td>9780007287758</td>\n",
       "      <td>English</td>\n",
       "      <td>Jan 8, 2009</td>\n",
       "    </tr>\n",
       "    <tr>\n",
       "      <th>...</th>\n",
       "      <td>...</td>\n",
       "      <td>...</td>\n",
       "      <td>...</td>\n",
       "      <td>...</td>\n",
       "      <td>...</td>\n",
       "      <td>...</td>\n",
       "      <td>...</td>\n",
       "      <td>...</td>\n",
       "      <td>...</td>\n",
       "      <td>...</td>\n",
       "      <td>...</td>\n",
       "      <td>...</td>\n",
       "      <td>...</td>\n",
       "    </tr>\n",
       "    <tr>\n",
       "      <th>1294</th>\n",
       "      <td>Twas The Nightshift Before Christmas: Festive ...</td>\n",
       "      <td>Adam Kay</td>\n",
       "      <td>4.7</td>\n",
       "      <td>47</td>\n",
       "      <td>41.82</td>\n",
       "      <td>SAR</td>\n",
       "      <td>A short gift book of festive hospital diaries ...</td>\n",
       "      <td>Pan Macmillan</td>\n",
       "      <td>112</td>\n",
       "      <td>Medical , Health Care Delivery</td>\n",
       "      <td>9781529018592</td>\n",
       "      <td>English</td>\n",
       "      <td>Oct 17, 2019</td>\n",
       "    </tr>\n",
       "    <tr>\n",
       "      <th>1295</th>\n",
       "      <td>Why We Sleep: The New Science of Sleep and Dreams</td>\n",
       "      <td>Matthew Walker</td>\n",
       "      <td>4.8</td>\n",
       "      <td>52</td>\n",
       "      <td>46.85</td>\n",
       "      <td>SAR</td>\n",
       "      <td>'Astonishing ... an amazing book ... absolutel...</td>\n",
       "      <td>Penguin UK</td>\n",
       "      <td>368</td>\n",
       "      <td>Psychology , Cognitive Psychology &amp;amp, Cognition</td>\n",
       "      <td>9780141983776</td>\n",
       "      <td>English</td>\n",
       "      <td>Sep 28, 2017</td>\n",
       "    </tr>\n",
       "    <tr>\n",
       "      <th>1296</th>\n",
       "      <td>How to Understand Business Finance: Edition 2</td>\n",
       "      <td>Bob Cinnamon</td>\n",
       "      <td>3.5</td>\n",
       "      <td>4</td>\n",
       "      <td>46.85</td>\n",
       "      <td>SAR</td>\n",
       "      <td>The modern marketplace is increasingly unpredi...</td>\n",
       "      <td>Kogan Page Publishers</td>\n",
       "      <td>176</td>\n",
       "      <td>none</td>\n",
       "      <td>9780749460211</td>\n",
       "      <td>English</td>\n",
       "      <td>Apr 3, 2010</td>\n",
       "    </tr>\n",
       "    <tr>\n",
       "      <th>1297</th>\n",
       "      <td>Spider-Man: Kraven's Last Hunt</td>\n",
       "      <td>J. M. DeMatteis</td>\n",
       "      <td>4.6</td>\n",
       "      <td>74</td>\n",
       "      <td>43.28</td>\n",
       "      <td>SAR</td>\n",
       "      <td>Collects Web of Spider-Man #31-32, Amazing Spi...</td>\n",
       "      <td>Marvel Entertainment</td>\n",
       "      <td>168</td>\n",
       "      <td>none</td>\n",
       "      <td>9781302377366</td>\n",
       "      <td>English</td>\n",
       "      <td>Dec 10, 2014</td>\n",
       "    </tr>\n",
       "    <tr>\n",
       "      <th>1298</th>\n",
       "      <td>W is for Wasted: A Kinsey Millhone Novel</td>\n",
       "      <td>Sue Grafton</td>\n",
       "      <td>4.3</td>\n",
       "      <td>206</td>\n",
       "      <td>39.34</td>\n",
       "      <td>SAR</td>\n",
       "      <td>Private investigator Kinsey Millhone finds sho...</td>\n",
       "      <td>Penguin</td>\n",
       "      <td>448</td>\n",
       "      <td>Fiction , Thrillers , Suspense</td>\n",
       "      <td>9781101636459</td>\n",
       "      <td>English</td>\n",
       "      <td>Sep 10, 2013</td>\n",
       "    </tr>\n",
       "  </tbody>\n",
       "</table>\n",
       "<p>1299 rows × 13 columns</p>\n",
       "</div>"
      ],
      "text/plain": [
       "                                                  title           author  \\\n",
       "0                            Attack on Titan: Volume 13   Hajime Isayama   \n",
       "1      Antiques Roadkill: A Trash 'n' Treasures Mystery    Barbara Allan   \n",
       "2                        The Art of Super Mario Odyssey         Nintendo   \n",
       "3        Getting Away Is Deadly: An Ellie Avery Mystery      Sara Rosett   \n",
       "4             The Painted Man (The Demon Cycle, Book 1)   Peter V. Brett   \n",
       "...                                                 ...              ...   \n",
       "1294  Twas The Nightshift Before Christmas: Festive ...         Adam Kay   \n",
       "1295  Why We Sleep: The New Science of Sleep and Dreams   Matthew Walker   \n",
       "1296      How to Understand Business Finance: Edition 2     Bob Cinnamon   \n",
       "1297                     Spider-Man: Kraven's Last Hunt  J. M. DeMatteis   \n",
       "1298           W is for Wasted: A Kinsey Millhone Novel      Sue Grafton   \n",
       "\n",
       "      rating voters   price currency  \\\n",
       "0        4.6    428   43.28      SAR   \n",
       "1        3.3     23   26.15      SAR   \n",
       "2        3.9      9  133.85      SAR   \n",
       "3        4.0     10   26.15      SAR   \n",
       "4        4.5    577   28.54      SAR   \n",
       "...      ...    ...     ...      ...   \n",
       "1294     4.7     47   41.82      SAR   \n",
       "1295     4.8     52   46.85      SAR   \n",
       "1296     3.5      4   46.85      SAR   \n",
       "1297     4.6     74   43.28      SAR   \n",
       "1298     4.3    206   39.34      SAR   \n",
       "\n",
       "                                            description  \\\n",
       "0     NO SAFE PLACE LEFT At great cost to the Garris...   \n",
       "1     Determined to make a new start in her quaint h...   \n",
       "2     Take a globetrotting journey all over the worl...   \n",
       "3     With swollen feet and swelling belly, pregnant...   \n",
       "4     The stunning debut fantasy novel from author P...   \n",
       "...                                                 ...   \n",
       "1294  A short gift book of festive hospital diaries ...   \n",
       "1295  'Astonishing ... an amazing book ... absolutel...   \n",
       "1296  The modern marketplace is increasingly unpredi...   \n",
       "1297  Collects Web of Spider-Man #31-32, Amazing Spi...   \n",
       "1298  Private investigator Kinsey Millhone finds sho...   \n",
       "\n",
       "                        publisher  page_count  \\\n",
       "0                 Kodansha Comics         192   \n",
       "1     Kensington Publishing Corp.         288   \n",
       "2               Dark Horse Comics         368   \n",
       "3     Kensington Publishing Corp.         320   \n",
       "4                HarperCollins UK         544   \n",
       "...                           ...         ...   \n",
       "1294                Pan Macmillan         112   \n",
       "1295                   Penguin UK         368   \n",
       "1296        Kogan Page Publishers         176   \n",
       "1297         Marvel Entertainment         168   \n",
       "1298                      Penguin         448   \n",
       "\n",
       "                                                 genres           ISBN  \\\n",
       "0                                                  none  9781612626864   \n",
       "1     Fiction , Mystery &amp, Detective , Cozy , Gen...  9780758272799   \n",
       "2       Games &amp, Activities , Video &amp, Electronic  9781506713816   \n",
       "3                                                  none  9781617734076   \n",
       "4                      Fiction , Fantasy , Dark Fantasy  9780007287758   \n",
       "...                                                 ...            ...   \n",
       "1294                     Medical , Health Care Delivery  9781529018592   \n",
       "1295  Psychology , Cognitive Psychology &amp, Cognition  9780141983776   \n",
       "1296                                               none  9780749460211   \n",
       "1297                                               none  9781302377366   \n",
       "1298                     Fiction , Thrillers , Suspense  9781101636459   \n",
       "\n",
       "     language published_date  \n",
       "0     English   Jul 31, 2014  \n",
       "1     English    Jul 1, 2007  \n",
       "2     English    Nov 5, 2019  \n",
       "3     English    Mar 1, 2009  \n",
       "4     English    Jan 8, 2009  \n",
       "...       ...            ...  \n",
       "1294  English   Oct 17, 2019  \n",
       "1295  English   Sep 28, 2017  \n",
       "1296  English    Apr 3, 2010  \n",
       "1297  English   Dec 10, 2014  \n",
       "1298  English   Sep 10, 2013  \n",
       "\n",
       "[1299 rows x 13 columns]"
      ]
     },
     "execution_count": 53,
     "metadata": {},
     "output_type": "execute_result"
    }
   ],
   "source": [
    "# Sampling 10 files for exploration\n",
    "\n",
    "document"
   ]
  },
  {
   "cell_type": "code",
   "execution_count": null,
   "metadata": {},
   "outputs": [
    {
     "data": {
      "text/plain": [
       "'crawl-data/CC-MAIN-2025-05/segments/1736703361941.29/robotstxt/CC-MAIN-20250126135402-20250126165402-00000.warc.gz'"
      ]
     },
     "execution_count": 39,
     "metadata": {},
     "output_type": "execute_result"
    }
   ],
   "source": [
    "text_exploration = sample_robotstxt_urls[0]\n",
    "sample_robotstxt_urls[0]"
   ]
  },
  {
   "cell_type": "code",
   "execution_count": 65,
   "metadata": {},
   "outputs": [
    {
     "data": {
      "text/plain": [
       "['seg']"
      ]
     },
     "execution_count": 65,
     "metadata": {},
     "output_type": "execute_result"
    }
   ],
   "source": [
    "re.findall(r\"(seg)+\", text_exploration)"
   ]
  },
  {
   "cell_type": "code",
   "execution_count": 33,
   "metadata": {},
   "outputs": [
    {
     "data": {
      "text/plain": [
       "'2025'"
      ]
     },
     "execution_count": 33,
     "metadata": {},
     "output_type": "execute_result"
    }
   ],
   "source": [
    "re.search(r\"\\d+\", text_exploration).group()"
   ]
  },
  {
   "cell_type": "code",
   "execution_count": 30,
   "metadata": {},
   "outputs": [
    {
     "name": "stdout",
     "output_type": "stream",
     "text": [
      "2025\n"
     ]
    }
   ],
   "source": [
    "# re.search()\n",
    "\n",
    "first_num_occ = re.search(r\"\\d+\", text_exploration)\n",
    "print(first_num_occ.group())"
   ]
  },
  {
   "cell_type": "markdown",
   "metadata": {},
   "source": [
    "## `re.search()` - Find the first match"
   ]
  },
  {
   "cell_type": "code",
   "execution_count": null,
   "metadata": {},
   "outputs": [],
   "source": []
  },
  {
   "cell_type": "markdown",
   "metadata": {},
   "source": [
    "## `re.findall()` - Find all matches"
   ]
  },
  {
   "cell_type": "markdown",
   "metadata": {},
   "source": [
    "## `re.match()` - Does pattern match at start of string?"
   ]
  },
  {
   "cell_type": "code",
   "execution_count": null,
   "metadata": {},
   "outputs": [],
   "source": [
    "\n"
   ]
  },
  {
   "cell_type": "markdown",
   "metadata": {},
   "source": [
    "## `re.fullmatch()` - Does entire string match pattern?"
   ]
  },
  {
   "cell_type": "markdown",
   "metadata": {},
   "source": [
    "## `re.sub()` - Replaces occurences of a pattern with another string"
   ]
  },
  {
   "cell_type": "markdown",
   "metadata": {},
   "source": [
    "## `re.split()` - Splits a string based on regex pattern"
   ]
  },
  {
   "cell_type": "markdown",
   "metadata": {},
   "source": [
    "## `re.compile()` - Precompiles a regex for repeated use"
   ]
  },
  {
   "cell_type": "code",
   "execution_count": null,
   "metadata": {},
   "outputs": [],
   "source": []
  },
  {
   "cell_type": "markdown",
   "metadata": {},
   "source": [
    "# EXAMPLES"
   ]
  },
  {
   "cell_type": "markdown",
   "metadata": {},
   "source": [
    "- Extract all digits from \"Order 123, Invoice 456, ID 7890\".\n",
    "- Find all lowercase letters in \"Hello WORLD Python!\".\n",
    "- Extract all capital letters from \"Regex is FUN and POWERFUL\".\n",
    "- Find all words in \"Hello, World! 123\" (Ignore punctuation).\n",
    "- Extract words that contain only alphabets from \"cat123 dog45 apple banana\".\n",
    "<br>\n",
    "<br>\n",
    "- Quantifiers (*, +, ?, {})\n",
    "- Find all words that start with \"a\" in \"apple banana apricot orange\".\n",
    "- Extract sequences of 2 or more digits from \"abc123def4567gh89\".\n",
    "- Find all words with at least 5 letters in \"hello world python java\".\n",
    "- Extract all words with exactly 4 letters from \"this that when where\".\n",
    "- Match any word that contains \"th\" in \"there, think, throw, math, father\".\n",
    "<br>\n",
    "<br>\n",
    "- Character Classes (\\d, \\w, \\s)\n",
    "- Extract all numbers from \"I have 2 cats and 3 dogs\".\n",
    "- Find all words containing numbers in \"user1 admin99 guest3\".\n",
    "- Extract all words starting with a capital letter from \"Alice Bob charlie Daniel\".\n",
    "- Extract all special characters from \"Hello@World! Python#Regex\" (Ignore letters and numbers).\n",
    "- Find all sequences of spaces in \"This has multiple spaces\".\n",
    "<br>\n",
    "<br>\n",
    "- Anchors (^, $, \\b)\n",
    "- Match words that start with \"P\" in \"Python PHP JavaScript\"\n",
    "- Find all sentences ending with a period in \"Hello world. This is regex! Python is fun.\"\n",
    "- Extract hashtags from \"#Python #DataScience #Regex\"\n",
    "- Extract valid email addresses from \"test@example.com, hello@site.org, user@invalid\".\n",
    "- Extract valid phone numbers from \"Call 123-456-7890 or (123) 456-7890\"."
   ]
  },
  {
   "cell_type": "code",
   "execution_count": 66,
   "metadata": {},
   "outputs": [
    {
     "data": {
      "text/plain": [
       "['123', '456', '7890']"
      ]
     },
     "execution_count": 66,
     "metadata": {},
     "output_type": "execute_result"
    }
   ],
   "source": [
    "# - Extract all digits from \"Order 123, Invoice 456, ID 7890\"\n",
    "\n",
    "text1 = \"Order 123, Invoice 456, ID 7890\"\n",
    "\n",
    "re.findall(r\"\\d+\", text1)"
   ]
  },
  {
   "cell_type": "code",
   "execution_count": 76,
   "metadata": {},
   "outputs": [
    {
     "data": {
      "text/plain": [
       "['ello', 'ython']"
      ]
     },
     "execution_count": 76,
     "metadata": {},
     "output_type": "execute_result"
    }
   ],
   "source": [
    "# Find all lowercase letters in \"Hello WORLD Python!\"\n",
    "\n",
    "text2 = \"Hello WORLD Python!\"\n",
    "re.findall(r\"[a-z]+\", text2)"
   ]
  },
  {
   "cell_type": "code",
   "execution_count": 79,
   "metadata": {},
   "outputs": [
    {
     "data": {
      "text/plain": [
       "['R', 'FUN', 'POWERFUL']"
      ]
     },
     "execution_count": 79,
     "metadata": {},
     "output_type": "execute_result"
    }
   ],
   "source": [
    "# Extract all capital letters from \"Regex is FUN and POWERFUL\".\n",
    "\n",
    "text3 = \"Regex is FUN and POWERFUL\"\n",
    "re.findall(r\"[A-Z]+\", text3)"
   ]
  },
  {
   "cell_type": "code",
   "execution_count": 44,
   "metadata": {},
   "outputs": [
    {
     "data": {
      "text/plain": [
       "['Hello', 'World']"
      ]
     },
     "execution_count": 44,
     "metadata": {},
     "output_type": "execute_result"
    }
   ],
   "source": [
    "# Find all words in \"Hello, World! 123\" (Ignore punctuation).\n",
    "\n",
    "text4 = \"Hello, World! 123\"\n",
    "re.findall(r\"[A-Za-z]+\", text4)"
   ]
  },
  {
   "cell_type": "code",
   "execution_count": 49,
   "metadata": {},
   "outputs": [
    {
     "data": {
      "text/plain": [
       "['apple', 'banana']"
      ]
     },
     "execution_count": 49,
     "metadata": {},
     "output_type": "execute_result"
    }
   ],
   "source": [
    "# Extract words that contain only alphabets from \"cat123 dog45 apple banana\".\n",
    "\n",
    "text5 = \"cat123 dog45 apple banana\"\n",
    "re.findall(r\"\\b[a-zA-Z]+\\b\", text5)"
   ]
  },
  {
   "cell_type": "code",
   "execution_count": 32,
   "metadata": {},
   "outputs": [
    {
     "data": {
      "text/plain": [
       "['apple', 'apricot']"
      ]
     },
     "execution_count": 32,
     "metadata": {},
     "output_type": "execute_result"
    }
   ],
   "source": [
    "# Find all words that start with \"a\" in \"apple banana apricot orange\"\n",
    "\n",
    "text6 = \"apple banana apricot orange\"\n",
    "re.findall(r\"\\ba\\w*\", text6)"
   ]
  },
  {
   "cell_type": "code",
   "execution_count": null,
   "metadata": {},
   "outputs": [
    {
     "data": {
      "text/plain": [
       "['H']"
      ]
     },
     "execution_count": 23,
     "metadata": {},
     "output_type": "execute_result"
    }
   ],
   "source": [
    "re.findall(r\"\", text4)"
   ]
  },
  {
   "cell_type": "code",
   "execution_count": null,
   "metadata": {},
   "outputs": [
    {
     "data": {
      "text/plain": [
       "[]"
      ]
     },
     "execution_count": 9,
     "metadata": {},
     "output_type": "execute_result"
    }
   ],
   "source": [
    "re.findall(r\"/[a-z]\", \"cat123 dog45 apple banana\")"
   ]
  },
  {
   "cell_type": "code",
   "execution_count": null,
   "metadata": {},
   "outputs": [],
   "source": [
    "a = \"\""
   ]
  },
  {
   "cell_type": "code",
   "execution_count": 17,
   "metadata": {},
   "outputs": [
    {
     "data": {
      "text/plain": [
       "['20250219-09:49:39.874935000 [out] : 8=FIX.4.4',\n",
       " '9=291',\n",
       " '35=8',\n",
       " '34=48945',\n",
       " '49=CENTROID_SOL',\n",
       " '52=20250219-09:49:39.874882',\n",
       " '56=TD_MT5_FIX',\n",
       " '1=BM_MT5_B_2',\n",
       " '6=0.0000000000',\n",
       " '11=e-1739958579793858600',\n",
       " '14=0.00',\n",
       " '17=9756177',\n",
       " '31=0.0000000000',\n",
       " '32=0.00',\n",
       " '37=9756177',\n",
       " '38=1000.00',\n",
       " '39=0',\n",
       " '40=1',\n",
       " '54=1',\n",
       " '55=ADAUSD.x',\n",
       " '58=New Request',\n",
       " '59=3',\n",
       " '60=20250219-09:49:39',\n",
       " '150=0',\n",
       " '151=1000.00',\n",
       " '9999=CenSystem',\n",
       " '10=198',\n",
       " 'a',\n",
       " 'a']"
      ]
     },
     "execution_count": 17,
     "metadata": {},
     "output_type": "execute_result"
    }
   ],
   "source": [
    "import re \n",
    "b = re.split(r\"\\x01\", a)\n",
    "b"
   ]
  },
  {
   "cell_type": "code",
   "execution_count": 21,
   "metadata": {},
   "outputs": [
    {
     "name": "stdout",
     "output_type": "stream",
     "text": [
      "38=1000.00\n",
      "39=0\n",
      "55=ADAUSD.x\n"
     ]
    }
   ],
   "source": [
    "for i in range(len(b)):\n",
    "    if not \"38=\" in b[i]:\n",
    "        pass\n",
    "    else: \n",
    "        print(b[i])\n",
    "    if not \"39=\" in b[i]:\n",
    "        pass\n",
    "    else: \n",
    "        print(b[i])\n",
    "    if not \"55=\" in b[i]:\n",
    "        pass\n",
    "    else: \n",
    "        print(b[i])"
   ]
  }
 ],
 "metadata": {
  "kernelspec": {
   "display_name": "comp_ling_env",
   "language": "python",
   "name": "python3"
  },
  "language_info": {
   "codemirror_mode": {
    "name": "ipython",
    "version": 3
   },
   "file_extension": ".py",
   "mimetype": "text/x-python",
   "name": "python",
   "nbconvert_exporter": "python",
   "pygments_lexer": "ipython3",
   "version": "3.10.16"
  }
 },
 "nbformat": 4,
 "nbformat_minor": 2
}
