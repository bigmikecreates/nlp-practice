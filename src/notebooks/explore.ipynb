{
 "cells": [
  {
   "cell_type": "markdown",
   "metadata": {
    "vscode": {
     "languageId": "plaintext"
    }
   },
   "source": [
    "# EXPLORING REGULAR EXPRESSIONS\n",
    "\n",
    "This notebook is partially inspired by <a href=\"resources/Speech and Language Processing (12-Jan-2025) - Daniel Jurafsky & James H. Martin.pdf\"><i>\"Speech-and-Language-Processing_Jurafsky-Martin_Jan-12-2025\"</i></a> chapter on Regular Expressions.\n",
    "\n",
    "String Methods + Regex Expressions are most useful here."
   ]
  },
  {
   "cell_type": "markdown",
   "metadata": {},
   "source": [
    "## INITIALZATION"
   ]
  },
  {
   "cell_type": "code",
   "execution_count": 1,
   "metadata": {},
   "outputs": [
    {
     "name": "stderr",
     "output_type": "stream",
     "text": [
      "c:\\Users\\mquay\\anaconda3\\envs\\comp_ling_env\\lib\\site-packages\\tqdm\\auto.py:21: TqdmWarning: IProgress not found. Please update jupyter and ipywidgets. See https://ipywidgets.readthedocs.io/en/stable/user_install.html\n",
      "  from .autonotebook import tqdm as notebook_tqdm\n"
     ]
    }
   ],
   "source": [
    "# Required Modules\n",
    "\n",
    "import re\n",
    "import pandas as pd\n",
    "import numpy as np\n",
    "import regex\n",
    "import pygrep\n",
    "import flashtext\n",
    "import spacy\n",
    "import loguru\n",
    "import pyspark\n",
    "import kafka\n",
    "import os\n",
    "import gzip\n",
    "import pandas as pd\n",
    "import shutil\n",
    "import kagglehub\n",
    "import requests\n",
    "import math\n",
    "from urllib.parse import urljoin"
   ]
  },
  {
   "cell_type": "code",
   "execution_count": 2,
   "metadata": {},
   "outputs": [],
   "source": [
    "# File Paths\n",
    "\n",
    "src_folder_path = \"C://Users//mquay//Documents//GitHub//Personal//nlp-practice//src\"\n",
    "notebooks_path = \"C://Users//mquay//Documents//GitHub//Personal//nlp-practice//src//notebooks\"\n",
    "scripts_path = \"C://Users//mquay//Documents//GitHub//Personal//nlp-practice//src//scripts\"\n",
    "datasets_path = \"C://Users//mquay//Documents//GitHub//Personal//nlp-practice//datasets\"\n",
    "csvs_path = \"C://Users//mquay//Documents//GitHub//Personal//nlp-practice//datasets//csv\"\n",
    "jsons_path = \"C://Users//mquay//Documents//GitHub//Personal//nlp-practice//datasets//json\"\n",
    "txt_path = \"C://Users//mquay//Documents//GitHub//Personal//nlp-practice//datasets//txt\""
   ]
  },
  {
   "cell_type": "code",
   "execution_count": 3,
   "metadata": {},
   "outputs": [],
   "source": [
    "# Important Functions/Variables\n",
    "\n",
    "def int_extractor_lambda(inp):\n",
    "    \"\"\"Returns a single integer/sequence of integers, removing all non-integer characters from the given input.\n",
    "    \n",
    "    :param (Any) inp: A single/sequence of primitive data types.\n",
    "    :return: Returns a single integer\n",
    "    :rtype: int\n",
    "    :return: Returns a sequence of integers/DataFrame Series of integers\n",
    "    :rtype: List[int]\n",
    "    :return: The element itself, if it is of type bool/None\n",
    "    :rtype: inp(elem)\n",
    "    \"\"\" \n",
    "        \n",
    "    if isinstance(inp, str):\n",
    "        return int(\"\".join(re.findall(r\"[0-9]+\", inp)))\n",
    "    \n",
    "    elif isinstance(inp, list) or isinstance(inp, pd.Series):\n",
    "        inp = [str(elem) for elem in inp] # To avoid 'TypeError: expected string or bytes-like object'\n",
    "        new_li = []\n",
    "        for ind, elem in enumerate(inp):\n",
    "                if elem != 'nan':\n",
    "                    # print(f\"Before Regex attempt: {elem}\")\n",
    "                    new_str = int(\"\".join(re.findall(r\"[0-9]+\", elem)))\n",
    "                    # print(f\"After Regex attempt: {new_str}\")\n",
    "                    new_li.append(new_str)\n",
    "                else:\n",
    "                    new_str = 0\n",
    "                    new_li.append(new_str)\n",
    "        return new_li\n",
    "    \n",
    "    elif isinstance(inp, float) and math.isnan(inp):\n",
    "        return float('nan')\n",
    "    \n",
    "    else:\n",
    "    \n",
    "        return int(inp)\n",
    "    \n",
    "# def dtype_updater(col1, col2): [Construct function to update corresponding dtypes from subdataframes to original dataframes]\n",
    "    "
   ]
  },
  {
   "cell_type": "code",
   "execution_count": 4,
   "metadata": {},
   "outputs": [
    {
     "name": "stdout",
     "output_type": "stream",
     "text": [
      "Path to dataset files: C:\\Users\\mquay\\.cache\\kagglehub\\datasets\\bilalyussef\\google-books-dataset\\versions\\3\n"
     ]
    }
   ],
   "source": [
    "# Downloading dataset from Kaggle and loading it into notebook\n",
    "\n",
    "## Getting the latest version\n",
    "path = kagglehub.dataset_download(\"bilalyussef/google-books-dataset\")\n",
    "\n",
    "# Display file path for downloaded file\n",
    "print(\"Path to dataset files:\", path)"
   ]
  },
  {
   "cell_type": "markdown",
   "metadata": {},
   "source": [
    "The downloads are to be moved to the <code>\\csv</code> directory for ease of access."
   ]
  },
  {
   "cell_type": "code",
   "execution_count": 5,
   "metadata": {},
   "outputs": [
    {
     "data": {
      "text/plain": [
       "Index(['title', 'author', 'rating', 'voters', 'price', 'currency',\n",
       "       'description', 'publisher', 'page_count', 'genres', 'ISBN', 'language',\n",
       "       'published_date'],\n",
       "      dtype='object')"
      ]
     },
     "execution_count": 5,
     "metadata": {},
     "output_type": "execute_result"
    }
   ],
   "source": [
    "# Accessing File~\n",
    "\n",
    "raw_doc_master = pd.read_csv(\"..//..//datasets//csv//kaggle//bilalyussef//google_books_1299.csv\", encoding='utf-8').drop(columns=[\"Unnamed: 0\"]).rename(columns={\"generes\":'genres'})\n",
    "\"\"\"Master Document File (raw)\"\"\"\n",
    "\n",
    "raw_doc_master.columns"
   ]
  },
  {
   "cell_type": "code",
   "execution_count": 6,
   "metadata": {},
   "outputs": [
    {
     "data": {
      "text/html": [
       "<div>\n",
       "<style scoped>\n",
       "    .dataframe tbody tr th:only-of-type {\n",
       "        vertical-align: middle;\n",
       "    }\n",
       "\n",
       "    .dataframe tbody tr th {\n",
       "        vertical-align: top;\n",
       "    }\n",
       "\n",
       "    .dataframe thead th {\n",
       "        text-align: right;\n",
       "    }\n",
       "</style>\n",
       "<table border=\"1\" class=\"dataframe\">\n",
       "  <thead>\n",
       "    <tr style=\"text-align: right;\">\n",
       "      <th></th>\n",
       "      <th>title</th>\n",
       "      <th>author</th>\n",
       "      <th>rating</th>\n",
       "      <th>voters</th>\n",
       "      <th>price</th>\n",
       "    </tr>\n",
       "  </thead>\n",
       "  <tbody>\n",
       "    <tr>\n",
       "      <th>0</th>\n",
       "      <td>Attack on Titan: Volume 13</td>\n",
       "      <td>Hajime Isayama</td>\n",
       "      <td>4.6</td>\n",
       "      <td>428</td>\n",
       "      <td>43.28</td>\n",
       "    </tr>\n",
       "    <tr>\n",
       "      <th>1</th>\n",
       "      <td>Antiques Roadkill: A Trash 'n' Treasures Mystery</td>\n",
       "      <td>Barbara Allan</td>\n",
       "      <td>3.3</td>\n",
       "      <td>23</td>\n",
       "      <td>26.15</td>\n",
       "    </tr>\n",
       "    <tr>\n",
       "      <th>2</th>\n",
       "      <td>The Art of Super Mario Odyssey</td>\n",
       "      <td>Nintendo</td>\n",
       "      <td>3.9</td>\n",
       "      <td>9</td>\n",
       "      <td>133.85</td>\n",
       "    </tr>\n",
       "  </tbody>\n",
       "</table>\n",
       "</div>"
      ],
      "text/plain": [
       "                                              title          author  rating  \\\n",
       "0                        Attack on Titan: Volume 13  Hajime Isayama     4.6   \n",
       "1  Antiques Roadkill: A Trash 'n' Treasures Mystery   Barbara Allan     3.3   \n",
       "2                    The Art of Super Mario Odyssey        Nintendo     3.9   \n",
       "\n",
       "  voters   price  \n",
       "0    428   43.28  \n",
       "1     23   26.15  \n",
       "2      9  133.85  "
      ]
     },
     "execution_count": 6,
     "metadata": {},
     "output_type": "execute_result"
    }
   ],
   "source": [
    "raw_doc_p1 = raw_doc_master.loc[:, ['title',\"author\", \"rating\", \"voters\", \"price\"]]\n",
    "\"\"\"Stores the first partitioned DataFrame of the document\n",
    "\n",
    ":return: 'title', 'author', 'rating', 'voters', 'price'\n",
    ":rtype: Columns\n",
    "\"\"\"\n",
    "\n",
    "raw_doc_p1[:3]"
   ]
  },
  {
   "cell_type": "code",
   "execution_count": 75,
   "metadata": {},
   "outputs": [
    {
     "data": {
      "text/html": [
       "<div>\n",
       "<style scoped>\n",
       "    .dataframe tbody tr th:only-of-type {\n",
       "        vertical-align: middle;\n",
       "    }\n",
       "\n",
       "    .dataframe tbody tr th {\n",
       "        vertical-align: top;\n",
       "    }\n",
       "\n",
       "    .dataframe thead th {\n",
       "        text-align: right;\n",
       "    }\n",
       "</style>\n",
       "<table border=\"1\" class=\"dataframe\">\n",
       "  <thead>\n",
       "    <tr style=\"text-align: right;\">\n",
       "      <th></th>\n",
       "      <th>currency</th>\n",
       "      <th>description</th>\n",
       "      <th>publisher</th>\n",
       "      <th>page_count</th>\n",
       "    </tr>\n",
       "  </thead>\n",
       "  <tbody>\n",
       "    <tr>\n",
       "      <th>0</th>\n",
       "      <td>SAR</td>\n",
       "      <td>NO SAFE PLACE LEFT At great cost to the Garris...</td>\n",
       "      <td>Kodansha Comics</td>\n",
       "      <td>192</td>\n",
       "    </tr>\n",
       "    <tr>\n",
       "      <th>1</th>\n",
       "      <td>SAR</td>\n",
       "      <td>Determined to make a new start in her quaint h...</td>\n",
       "      <td>Kensington Publishing Corp.</td>\n",
       "      <td>288</td>\n",
       "    </tr>\n",
       "    <tr>\n",
       "      <th>2</th>\n",
       "      <td>SAR</td>\n",
       "      <td>Take a globetrotting journey all over the worl...</td>\n",
       "      <td>Dark Horse Comics</td>\n",
       "      <td>368</td>\n",
       "    </tr>\n",
       "  </tbody>\n",
       "</table>\n",
       "</div>"
      ],
      "text/plain": [
       "  currency                                        description  \\\n",
       "0      SAR  NO SAFE PLACE LEFT At great cost to the Garris...   \n",
       "1      SAR  Determined to make a new start in her quaint h...   \n",
       "2      SAR  Take a globetrotting journey all over the worl...   \n",
       "\n",
       "                     publisher  page_count  \n",
       "0              Kodansha Comics         192  \n",
       "1  Kensington Publishing Corp.         288  \n",
       "2            Dark Horse Comics         368  "
      ]
     },
     "execution_count": 75,
     "metadata": {},
     "output_type": "execute_result"
    }
   ],
   "source": [
    "raw_doc_p2 = raw_doc_master.loc[:, [\"currency\", \"description\", \"publisher\", \"page_count\"]]\n",
    "\"\"\"Stores the second partitioned DataFrame of the document\n",
    "\n",
    ":return: 'currency', 'description', 'publisher', 'page_count'\n",
    ":rtype: Columns\n",
    "\"\"\"\n",
    "\n",
    "raw_doc_p2[:3]"
   ]
  },
  {
   "cell_type": "code",
   "execution_count": 65,
   "metadata": {},
   "outputs": [
    {
     "data": {
      "text/html": [
       "<div>\n",
       "<style scoped>\n",
       "    .dataframe tbody tr th:only-of-type {\n",
       "        vertical-align: middle;\n",
       "    }\n",
       "\n",
       "    .dataframe tbody tr th {\n",
       "        vertical-align: top;\n",
       "    }\n",
       "\n",
       "    .dataframe thead th {\n",
       "        text-align: right;\n",
       "    }\n",
       "</style>\n",
       "<table border=\"1\" class=\"dataframe\">\n",
       "  <thead>\n",
       "    <tr style=\"text-align: right;\">\n",
       "      <th></th>\n",
       "      <th>genres</th>\n",
       "      <th>ISBN</th>\n",
       "      <th>language</th>\n",
       "      <th>published_date</th>\n",
       "    </tr>\n",
       "  </thead>\n",
       "  <tbody>\n",
       "    <tr>\n",
       "      <th>0</th>\n",
       "      <td>none</td>\n",
       "      <td>9781612626864</td>\n",
       "      <td>English</td>\n",
       "      <td>Jul 31, 2014</td>\n",
       "    </tr>\n",
       "    <tr>\n",
       "      <th>1</th>\n",
       "      <td>Fiction , Mystery &amp;amp, Detective , Cozy , Gen...</td>\n",
       "      <td>9780758272799</td>\n",
       "      <td>English</td>\n",
       "      <td>Jul 1, 2007</td>\n",
       "    </tr>\n",
       "    <tr>\n",
       "      <th>2</th>\n",
       "      <td>Games &amp;amp, Activities , Video &amp;amp, Electronic</td>\n",
       "      <td>9781506713816</td>\n",
       "      <td>English</td>\n",
       "      <td>Nov 5, 2019</td>\n",
       "    </tr>\n",
       "  </tbody>\n",
       "</table>\n",
       "</div>"
      ],
      "text/plain": [
       "                                              genres           ISBN language  \\\n",
       "0                                               none  9781612626864  English   \n",
       "1  Fiction , Mystery &amp, Detective , Cozy , Gen...  9780758272799  English   \n",
       "2    Games &amp, Activities , Video &amp, Electronic  9781506713816  English   \n",
       "\n",
       "  published_date  \n",
       "0   Jul 31, 2014  \n",
       "1    Jul 1, 2007  \n",
       "2    Nov 5, 2019  "
      ]
     },
     "execution_count": 65,
     "metadata": {},
     "output_type": "execute_result"
    }
   ],
   "source": [
    "raw_doc_p3 = raw_doc_master.loc[:, [\"genres\", 'ISBN', 'language', 'published_date']]\n",
    "\"\"\"Stores the third partitioned DataFrame of the document\n",
    "\n",
    ":return: 'genres', 'ISBN', 'language', 'published_date'\n",
    ":rtype: Columns\n",
    "\"\"\"\n",
    "\n",
    "raw_doc_p3[:3]"
   ]
  },
  {
   "cell_type": "code",
   "execution_count": 9,
   "metadata": {},
   "outputs": [
    {
     "data": {
      "text/plain": [
       "'Stores partitioned DataFrames from master document\\n\\n:return: 3 partitioned files from the main document\\n:rtype: List[DataFrame]\\n'"
      ]
     },
     "execution_count": 9,
     "metadata": {},
     "output_type": "execute_result"
    }
   ],
   "source": [
    "joint_partitioned_raw_doc = [raw_doc_p1, raw_doc_p2, raw_doc_p3]\n",
    "\n",
    "\"\"\"Stores partitioned DataFrames from master document\n",
    "\n",
    ":return: 3 partitioned files from the main document\n",
    ":rtype: List[DataFrame]\n",
    "\"\"\""
   ]
  },
  {
   "cell_type": "markdown",
   "metadata": {},
   "source": [
    "## PRE-PROCESSING"
   ]
  },
  {
   "cell_type": "markdown",
   "metadata": {},
   "source": [
    "### Exploration"
   ]
  },
  {
   "cell_type": "code",
   "execution_count": 10,
   "metadata": {},
   "outputs": [
    {
     "data": {
      "text/plain": [
       "1299"
      ]
     },
     "execution_count": 10,
     "metadata": {},
     "output_type": "execute_result"
    }
   ],
   "source": [
    "# How many books exist in this file?\n",
    "len(raw_doc_master)"
   ]
  },
  {
   "cell_type": "code",
   "execution_count": 11,
   "metadata": {},
   "outputs": [
    {
     "name": "stdout",
     "output_type": "stream",
     "text": [
      "<class 'pandas.core.frame.DataFrame'>\n",
      "RangeIndex: 1299 entries, 0 to 1298\n",
      "Data columns (total 13 columns):\n",
      " #   Column          Non-Null Count  Dtype  \n",
      "---  ------          --------------  -----  \n",
      " 0   title           1299 non-null   object \n",
      " 1   author          1299 non-null   object \n",
      " 2   rating          1224 non-null   float64\n",
      " 3   voters          1224 non-null   object \n",
      " 4   price           1299 non-null   float64\n",
      " 5   currency        1299 non-null   object \n",
      " 6   description     1296 non-null   object \n",
      " 7   publisher       1299 non-null   object \n",
      " 8   page_count      1299 non-null   int64  \n",
      " 9   genres          1299 non-null   object \n",
      " 10  ISBN            1299 non-null   object \n",
      " 11  language        1299 non-null   object \n",
      " 12  published_date  1299 non-null   object \n",
      "dtypes: float64(2), int64(1), object(10)\n",
      "memory usage: 132.1+ KB\n"
     ]
    }
   ],
   "source": [
    "# File Description\n",
    "\n",
    "raw_doc_master.info()"
   ]
  },
  {
   "cell_type": "markdown",
   "metadata": {},
   "source": [
    "#### raw_doc_p1"
   ]
  },
  {
   "cell_type": "code",
   "execution_count": 12,
   "metadata": {},
   "outputs": [
    {
     "name": "stdout",
     "output_type": "stream",
     "text": [
      "<class 'pandas.core.frame.DataFrame'>\n",
      "RangeIndex: 1299 entries, 0 to 1298\n",
      "Data columns (total 5 columns):\n",
      " #   Column  Non-Null Count  Dtype  \n",
      "---  ------  --------------  -----  \n",
      " 0   title   1299 non-null   object \n",
      " 1   author  1299 non-null   object \n",
      " 2   rating  1224 non-null   float64\n",
      " 3   voters  1224 non-null   object \n",
      " 4   price   1299 non-null   float64\n",
      "dtypes: float64(2), object(3)\n",
      "memory usage: 50.9+ KB\n"
     ]
    }
   ],
   "source": [
    "raw_doc_p1.info()"
   ]
  },
  {
   "cell_type": "code",
   "execution_count": 13,
   "metadata": {},
   "outputs": [
    {
     "data": {
      "text/html": [
       "<div>\n",
       "<style scoped>\n",
       "    .dataframe tbody tr th:only-of-type {\n",
       "        vertical-align: middle;\n",
       "    }\n",
       "\n",
       "    .dataframe tbody tr th {\n",
       "        vertical-align: top;\n",
       "    }\n",
       "\n",
       "    .dataframe thead th {\n",
       "        text-align: right;\n",
       "    }\n",
       "</style>\n",
       "<table border=\"1\" class=\"dataframe\">\n",
       "  <thead>\n",
       "    <tr style=\"text-align: right;\">\n",
       "      <th></th>\n",
       "      <th>title</th>\n",
       "      <th>author</th>\n",
       "      <th>rating</th>\n",
       "      <th>voters</th>\n",
       "      <th>price</th>\n",
       "    </tr>\n",
       "  </thead>\n",
       "  <tbody>\n",
       "    <tr>\n",
       "      <th>0</th>\n",
       "      <td>Attack on Titan: Volume 13</td>\n",
       "      <td>Hajime Isayama</td>\n",
       "      <td>4.6</td>\n",
       "      <td>428</td>\n",
       "      <td>43.28</td>\n",
       "    </tr>\n",
       "    <tr>\n",
       "      <th>1</th>\n",
       "      <td>Antiques Roadkill: A Trash 'n' Treasures Mystery</td>\n",
       "      <td>Barbara Allan</td>\n",
       "      <td>3.3</td>\n",
       "      <td>23</td>\n",
       "      <td>26.15</td>\n",
       "    </tr>\n",
       "    <tr>\n",
       "      <th>2</th>\n",
       "      <td>The Art of Super Mario Odyssey</td>\n",
       "      <td>Nintendo</td>\n",
       "      <td>3.9</td>\n",
       "      <td>9</td>\n",
       "      <td>133.85</td>\n",
       "    </tr>\n",
       "  </tbody>\n",
       "</table>\n",
       "</div>"
      ],
      "text/plain": [
       "                                              title          author  rating  \\\n",
       "0                        Attack on Titan: Volume 13  Hajime Isayama     4.6   \n",
       "1  Antiques Roadkill: A Trash 'n' Treasures Mystery   Barbara Allan     3.3   \n",
       "2                    The Art of Super Mario Odyssey        Nintendo     3.9   \n",
       "\n",
       "  voters   price  \n",
       "0    428   43.28  \n",
       "1     23   26.15  \n",
       "2      9  133.85  "
      ]
     },
     "execution_count": 13,
     "metadata": {},
     "output_type": "execute_result"
    }
   ],
   "source": [
    "raw_doc_p1[:3]"
   ]
  },
  {
   "cell_type": "code",
   "execution_count": 14,
   "metadata": {},
   "outputs": [
    {
     "data": {
      "text/plain": [
       "dtype('int64')"
      ]
     },
     "execution_count": 14,
     "metadata": {},
     "output_type": "execute_result"
    }
   ],
   "source": [
    "# Extracting only integer characters for each instantiation\n",
    "raw_doc_p1.loc[:,'voters'] = int_extractor_lambda(raw_doc_p1['voters'])\n",
    "\n",
    "# Converting column to int64\n",
    "raw_doc_p1['voters'] = raw_doc_p1['voters'].astype(\"int64\")\n",
    "raw_doc_p1['voters'].dtype"
   ]
  },
  {
   "cell_type": "code",
   "execution_count": 15,
   "metadata": {},
   "outputs": [
    {
     "name": "stdout",
     "output_type": "stream",
     "text": [
      "<class 'pandas.core.frame.DataFrame'>\n",
      "RangeIndex: 1299 entries, 0 to 1298\n",
      "Data columns (total 5 columns):\n",
      " #   Column  Non-Null Count  Dtype  \n",
      "---  ------  --------------  -----  \n",
      " 0   title   1299 non-null   object \n",
      " 1   author  1299 non-null   object \n",
      " 2   rating  1224 non-null   float64\n",
      " 3   voters  1299 non-null   int64  \n",
      " 4   price   1299 non-null   float64\n",
      "dtypes: float64(2), int64(1), object(2)\n",
      "memory usage: 50.9+ KB\n"
     ]
    }
   ],
   "source": [
    "raw_doc_p1.info()"
   ]
  },
  {
   "cell_type": "code",
   "execution_count": 16,
   "metadata": {},
   "outputs": [
    {
     "data": {
      "text/html": [
       "<div>\n",
       "<style scoped>\n",
       "    .dataframe tbody tr th:only-of-type {\n",
       "        vertical-align: middle;\n",
       "    }\n",
       "\n",
       "    .dataframe tbody tr th {\n",
       "        vertical-align: top;\n",
       "    }\n",
       "\n",
       "    .dataframe thead th {\n",
       "        text-align: right;\n",
       "    }\n",
       "</style>\n",
       "<table border=\"1\" class=\"dataframe\">\n",
       "  <thead>\n",
       "    <tr style=\"text-align: right;\">\n",
       "      <th></th>\n",
       "      <th>title</th>\n",
       "      <th>author</th>\n",
       "      <th>rating</th>\n",
       "      <th>voters</th>\n",
       "      <th>price</th>\n",
       "    </tr>\n",
       "  </thead>\n",
       "  <tbody>\n",
       "    <tr>\n",
       "      <th>0</th>\n",
       "      <td>Attack on Titan: Volume 13</td>\n",
       "      <td>Hajime Isayama</td>\n",
       "      <td>4.6</td>\n",
       "      <td>428</td>\n",
       "      <td>43.28</td>\n",
       "    </tr>\n",
       "    <tr>\n",
       "      <th>1</th>\n",
       "      <td>Antiques Roadkill: A Trash 'n' Treasures Mystery</td>\n",
       "      <td>Barbara Allan</td>\n",
       "      <td>3.3</td>\n",
       "      <td>23</td>\n",
       "      <td>26.15</td>\n",
       "    </tr>\n",
       "    <tr>\n",
       "      <th>2</th>\n",
       "      <td>The Art of Super Mario Odyssey</td>\n",
       "      <td>Nintendo</td>\n",
       "      <td>3.9</td>\n",
       "      <td>9</td>\n",
       "      <td>133.85</td>\n",
       "    </tr>\n",
       "  </tbody>\n",
       "</table>\n",
       "</div>"
      ],
      "text/plain": [
       "                                              title          author  rating  \\\n",
       "0                        Attack on Titan: Volume 13  Hajime Isayama     4.6   \n",
       "1  Antiques Roadkill: A Trash 'n' Treasures Mystery   Barbara Allan     3.3   \n",
       "2                    The Art of Super Mario Odyssey        Nintendo     3.9   \n",
       "\n",
       "   voters   price  \n",
       "0     428   43.28  \n",
       "1      23   26.15  \n",
       "2       9  133.85  "
      ]
     },
     "execution_count": 16,
     "metadata": {},
     "output_type": "execute_result"
    }
   ],
   "source": [
    "raw_doc_p1[:3]"
   ]
  },
  {
   "cell_type": "markdown",
   "metadata": {},
   "source": [
    "#### raw_doc_p2"
   ]
  },
  {
   "cell_type": "code",
   "execution_count": 76,
   "metadata": {},
   "outputs": [
    {
     "name": "stdout",
     "output_type": "stream",
     "text": [
      "<class 'pandas.core.frame.DataFrame'>\n",
      "RangeIndex: 1299 entries, 0 to 1298\n",
      "Data columns (total 4 columns):\n",
      " #   Column       Non-Null Count  Dtype \n",
      "---  ------       --------------  ----- \n",
      " 0   currency     1299 non-null   object\n",
      " 1   description  1296 non-null   object\n",
      " 2   publisher    1299 non-null   object\n",
      " 3   page_count   1299 non-null   int64 \n",
      "dtypes: int64(1), object(3)\n",
      "memory usage: 40.7+ KB\n"
     ]
    }
   ],
   "source": [
    "raw_doc_p2.info()"
   ]
  },
  {
   "cell_type": "code",
   "execution_count": 18,
   "metadata": {},
   "outputs": [
    {
     "data": {
      "text/html": [
       "<div>\n",
       "<style scoped>\n",
       "    .dataframe tbody tr th:only-of-type {\n",
       "        vertical-align: middle;\n",
       "    }\n",
       "\n",
       "    .dataframe tbody tr th {\n",
       "        vertical-align: top;\n",
       "    }\n",
       "\n",
       "    .dataframe thead th {\n",
       "        text-align: right;\n",
       "    }\n",
       "</style>\n",
       "<table border=\"1\" class=\"dataframe\">\n",
       "  <thead>\n",
       "    <tr style=\"text-align: right;\">\n",
       "      <th></th>\n",
       "      <th>currency</th>\n",
       "      <th>description</th>\n",
       "      <th>publisher</th>\n",
       "      <th>page_count</th>\n",
       "    </tr>\n",
       "  </thead>\n",
       "  <tbody>\n",
       "    <tr>\n",
       "      <th>0</th>\n",
       "      <td>SAR</td>\n",
       "      <td>NO SAFE PLACE LEFT At great cost to the Garris...</td>\n",
       "      <td>Kodansha Comics</td>\n",
       "      <td>192</td>\n",
       "    </tr>\n",
       "    <tr>\n",
       "      <th>1</th>\n",
       "      <td>SAR</td>\n",
       "      <td>Determined to make a new start in her quaint h...</td>\n",
       "      <td>Kensington Publishing Corp.</td>\n",
       "      <td>288</td>\n",
       "    </tr>\n",
       "    <tr>\n",
       "      <th>2</th>\n",
       "      <td>SAR</td>\n",
       "      <td>Take a globetrotting journey all over the worl...</td>\n",
       "      <td>Dark Horse Comics</td>\n",
       "      <td>368</td>\n",
       "    </tr>\n",
       "  </tbody>\n",
       "</table>\n",
       "</div>"
      ],
      "text/plain": [
       "  currency                                        description  \\\n",
       "0      SAR  NO SAFE PLACE LEFT At great cost to the Garris...   \n",
       "1      SAR  Determined to make a new start in her quaint h...   \n",
       "2      SAR  Take a globetrotting journey all over the worl...   \n",
       "\n",
       "                     publisher  page_count  \n",
       "0              Kodansha Comics         192  \n",
       "1  Kensington Publishing Corp.         288  \n",
       "2            Dark Horse Comics         368  "
      ]
     },
     "execution_count": 18,
     "metadata": {},
     "output_type": "execute_result"
    }
   ],
   "source": [
    "raw_doc_p2[:3]"
   ]
  },
  {
   "cell_type": "markdown",
   "metadata": {},
   "source": [
    "##### Inspection"
   ]
  },
  {
   "cell_type": "code",
   "execution_count": 19,
   "metadata": {},
   "outputs": [
    {
     "data": {
      "text/plain": [
       "array([          192,           288,           368,           320,\n",
       "                 544,           864,           400,           226,\n",
       "                 304,           112,           208,           250,\n",
       "                  96,            40,           704,            30,\n",
       "                  32,           144,           358,           245,\n",
       "                 416,           336,           168,           176,\n",
       "                 357,           448,           384,          1424,\n",
       "                 656,           240,           146,           256,\n",
       "                 476,           272,           592,           672,\n",
       "                 224,          4544,           720,           576,\n",
       "                 148,           350,           216,           352,\n",
       "                 300,           464,           408,           136,\n",
       "                 500,           164,            15,            52,\n",
       "                 172,           816,           128,           688,\n",
       "                  31,           254,           130,           944,\n",
       "                 640,           355,           624,           200,\n",
       "                  18,           800,          1168,          1400,\n",
       "                  24,            60,           771,            17,\n",
       "                 832,           160,          1040,           194,\n",
       "                   7,            80,           360,          1712,\n",
       "       9781302013929,           147,          1216,            28,\n",
       "                 126,            49,           363,           547,\n",
       "                 404,          2192,           152,            23,\n",
       "                 180,            14,            36,            25,\n",
       "                  34,          1728,            26,            56,\n",
       "                 228,           667,            33])"
      ]
     },
     "execution_count": 19,
     "metadata": {},
     "output_type": "execute_result"
    }
   ],
   "source": [
    "# Inspecting 'page_count' feature\n",
    "\n",
    "raw_doc_p2['page_count'].unique()"
   ]
  },
  {
   "cell_type": "markdown",
   "metadata": {},
   "source": [
    "This shows what seems to be an ISBN number stored in this column.\n",
    "\n",
    "Corroborating with the <a href='https://www.kaggle.com/datasets/bilalyussef/google-books-dataset'>file source hosted by Kaggle</a>, this does seem to be the case (check graph displayed within the first row of the 'page_count' column).\n",
    "\n",
    "The total page count is supposed to be 144, confirmed with <a href='https://www.amazon.co.uk/Deadpool-Team-Up-Fred-Van-Lente/dp/0785145281'>a quick Google search of the entry</a>.\n",
    "\n",
    "Since the <code>ISBN</code> column is stored within <code>raw_doc_p3</code>, we will correct 'page_count' via modifying <code>raw_doc_p2</code> and 'ISBN' via modifying <code>raw_doc_p3</code>."
   ]
  },
  {
   "cell_type": "code",
   "execution_count": null,
   "metadata": {},
   "outputs": [
    {
     "data": {
      "text/html": [
       "<div>\n",
       "<style scoped>\n",
       "    .dataframe tbody tr th:only-of-type {\n",
       "        vertical-align: middle;\n",
       "    }\n",
       "\n",
       "    .dataframe tbody tr th {\n",
       "        vertical-align: top;\n",
       "    }\n",
       "\n",
       "    .dataframe thead th {\n",
       "        text-align: right;\n",
       "    }\n",
       "</style>\n",
       "<table border=\"1\" class=\"dataframe\">\n",
       "  <thead>\n",
       "    <tr style=\"text-align: right;\">\n",
       "      <th></th>\n",
       "      <th>currency</th>\n",
       "      <th>description</th>\n",
       "      <th>publisher</th>\n",
       "      <th>page_count</th>\n",
       "    </tr>\n",
       "  </thead>\n",
       "  <tbody>\n",
       "    <tr>\n",
       "      <th>288</th>\n",
       "      <td>SAR</td>\n",
       "      <td>Stop rubbing your eyes, fanboy, they don't dec...</td>\n",
       "      <td>Marvel Entertainment</td>\n",
       "      <td>9781302013929</td>\n",
       "    </tr>\n",
       "    <tr>\n",
       "      <th>1241</th>\n",
       "      <td>SAR</td>\n",
       "      <td>Stop rubbing your eyes, fanboy, they don't dec...</td>\n",
       "      <td>Marvel Entertainment</td>\n",
       "      <td>9781302013929</td>\n",
       "    </tr>\n",
       "  </tbody>\n",
       "</table>\n",
       "</div>"
      ],
      "text/plain": [
       "     currency                                        description  \\\n",
       "288       SAR  Stop rubbing your eyes, fanboy, they don't dec...   \n",
       "1241      SAR  Stop rubbing your eyes, fanboy, they don't dec...   \n",
       "\n",
       "                 publisher     page_count  \n",
       "288   Marvel Entertainment  9781302013929  \n",
       "1241  Marvel Entertainment  9781302013929  "
      ]
     },
     "execution_count": 66,
     "metadata": {},
     "output_type": "execute_result"
    }
   ],
   "source": [
    "# Isolating and retrieving pages with ISBN no. '9781302013929' to correct 'page_count' feature\n",
    "\n",
    "incorrect_page_count = raw_doc_p2.loc[raw_doc_p2['page_count']==9781302013929]\n",
    "incorrect_page_count"
   ]
  },
  {
   "cell_type": "code",
   "execution_count": null,
   "metadata": {},
   "outputs": [
    {
     "data": {
      "text/html": [
       "<div>\n",
       "<style scoped>\n",
       "    .dataframe tbody tr th:only-of-type {\n",
       "        vertical-align: middle;\n",
       "    }\n",
       "\n",
       "    .dataframe tbody tr th {\n",
       "        vertical-align: top;\n",
       "    }\n",
       "\n",
       "    .dataframe thead th {\n",
       "        text-align: right;\n",
       "    }\n",
       "</style>\n",
       "<table border=\"1\" class=\"dataframe\">\n",
       "  <thead>\n",
       "    <tr style=\"text-align: right;\">\n",
       "      <th></th>\n",
       "      <th>genres</th>\n",
       "      <th>ISBN</th>\n",
       "      <th>language</th>\n",
       "      <th>published_date</th>\n",
       "    </tr>\n",
       "  </thead>\n",
       "  <tbody>\n",
       "    <tr>\n",
       "      <th>288</th>\n",
       "      <td>Comics &amp; Graphic Novels , Superheroes</td>\n",
       "      <td>Original pages</td>\n",
       "      <td>English</td>\n",
       "      <td>186</td>\n",
       "    </tr>\n",
       "    <tr>\n",
       "      <th>1241</th>\n",
       "      <td>Comics &amp; Graphic Novels , Superheroes</td>\n",
       "      <td>Original pages</td>\n",
       "      <td>English</td>\n",
       "      <td>186</td>\n",
       "    </tr>\n",
       "  </tbody>\n",
       "</table>\n",
       "</div>"
      ],
      "text/plain": [
       "                                     genres            ISBN language  \\\n",
       "288   Comics & Graphic Novels , Superheroes  Original pages  English   \n",
       "1241  Comics & Graphic Novels , Superheroes  Original pages  English   \n",
       "\n",
       "     published_date  \n",
       "288             186  \n",
       "1241            186  "
      ]
     },
     "execution_count": 67,
     "metadata": {},
     "output_type": "execute_result"
    }
   ],
   "source": [
    "# Isolating and retrieving pages with ISBN no. '9781302013929' to correct 'ISBN' feature\n",
    "\n",
    "incorrect_isbn = raw_doc_p3.loc[raw_doc_p2['page_count']==9781302013929]\n",
    "incorrect_isbn"
   ]
  },
  {
   "cell_type": "code",
   "execution_count": 68,
   "metadata": {},
   "outputs": [
    {
     "data": {
      "text/html": [
       "<div>\n",
       "<style scoped>\n",
       "    .dataframe tbody tr th:only-of-type {\n",
       "        vertical-align: middle;\n",
       "    }\n",
       "\n",
       "    .dataframe tbody tr th {\n",
       "        vertical-align: top;\n",
       "    }\n",
       "\n",
       "    .dataframe thead th {\n",
       "        text-align: right;\n",
       "    }\n",
       "</style>\n",
       "<table border=\"1\" class=\"dataframe\">\n",
       "  <thead>\n",
       "    <tr style=\"text-align: right;\">\n",
       "      <th></th>\n",
       "      <th>currency</th>\n",
       "      <th>description</th>\n",
       "      <th>publisher</th>\n",
       "      <th>page_count</th>\n",
       "    </tr>\n",
       "  </thead>\n",
       "  <tbody>\n",
       "    <tr>\n",
       "      <th>288</th>\n",
       "      <td>SAR</td>\n",
       "      <td>Stop rubbing your eyes, fanboy, they don't dec...</td>\n",
       "      <td>Marvel Entertainment</td>\n",
       "      <td>144</td>\n",
       "    </tr>\n",
       "    <tr>\n",
       "      <th>1241</th>\n",
       "      <td>SAR</td>\n",
       "      <td>Stop rubbing your eyes, fanboy, they don't dec...</td>\n",
       "      <td>Marvel Entertainment</td>\n",
       "      <td>144</td>\n",
       "    </tr>\n",
       "  </tbody>\n",
       "</table>\n",
       "</div>"
      ],
      "text/plain": [
       "     currency                                        description  \\\n",
       "288       SAR  Stop rubbing your eyes, fanboy, they don't dec...   \n",
       "1241      SAR  Stop rubbing your eyes, fanboy, they don't dec...   \n",
       "\n",
       "                 publisher  page_count  \n",
       "288   Marvel Entertainment         144  \n",
       "1241  Marvel Entertainment         144  "
      ]
     },
     "execution_count": 68,
     "metadata": {},
     "output_type": "execute_result"
    }
   ],
   "source": [
    "incorrect_page_count.loc[:,'page_count'] = 144\n",
    "incorrect_page_count"
   ]
  },
  {
   "cell_type": "code",
   "execution_count": 69,
   "metadata": {},
   "outputs": [
    {
     "data": {
      "text/html": [
       "<div>\n",
       "<style scoped>\n",
       "    .dataframe tbody tr th:only-of-type {\n",
       "        vertical-align: middle;\n",
       "    }\n",
       "\n",
       "    .dataframe tbody tr th {\n",
       "        vertical-align: top;\n",
       "    }\n",
       "\n",
       "    .dataframe thead th {\n",
       "        text-align: right;\n",
       "    }\n",
       "</style>\n",
       "<table border=\"1\" class=\"dataframe\">\n",
       "  <thead>\n",
       "    <tr style=\"text-align: right;\">\n",
       "      <th></th>\n",
       "      <th>genres</th>\n",
       "      <th>ISBN</th>\n",
       "      <th>language</th>\n",
       "      <th>published_date</th>\n",
       "    </tr>\n",
       "  </thead>\n",
       "  <tbody>\n",
       "    <tr>\n",
       "      <th>288</th>\n",
       "      <td>Comics &amp; Graphic Novels , Superheroes</td>\n",
       "      <td>9781302013929</td>\n",
       "      <td>English</td>\n",
       "      <td>186</td>\n",
       "    </tr>\n",
       "    <tr>\n",
       "      <th>1241</th>\n",
       "      <td>Comics &amp; Graphic Novels , Superheroes</td>\n",
       "      <td>9781302013929</td>\n",
       "      <td>English</td>\n",
       "      <td>186</td>\n",
       "    </tr>\n",
       "  </tbody>\n",
       "</table>\n",
       "</div>"
      ],
      "text/plain": [
       "                                     genres           ISBN language  \\\n",
       "288   Comics & Graphic Novels , Superheroes  9781302013929  English   \n",
       "1241  Comics & Graphic Novels , Superheroes  9781302013929  English   \n",
       "\n",
       "     published_date  \n",
       "288             186  \n",
       "1241            186  "
      ]
     },
     "execution_count": 69,
     "metadata": {},
     "output_type": "execute_result"
    }
   ],
   "source": [
    "incorrect_isbn.loc[:,'ISBN'] = 9781302013929\n",
    "incorrect_isbn"
   ]
  },
  {
   "cell_type": "code",
   "execution_count": 95,
   "metadata": {},
   "outputs": [
    {
     "name": "stderr",
     "output_type": "stream",
     "text": [
      "C:\\Users\\mquay\\AppData\\Local\\Temp\\ipykernel_21884\\3499805592.py:3: FutureWarning: ChainedAssignmentError: behaviour will change in pandas 3.0!\n",
      "You are setting values through chained assignment. Currently this works in certain cases, but when using Copy-on-Write (which will become the default behaviour in pandas 3.0) this will never work to update the original DataFrame or Series, because the intermediate object on which we are setting values will behave as a copy.\n",
      "A typical example is when you are setting values in a column of a DataFrame, like:\n",
      "\n",
      "df[\"col\"][row_indexer] = value\n",
      "\n",
      "Use `df.loc[row_indexer, \"col\"] = values` instead, to perform the assignment in a single step and ensure this keeps updating the original `df`.\n",
      "\n",
      "See the caveats in the documentation: https://pandas.pydata.org/pandas-docs/stable/user_guide/indexing.html#returning-a-view-versus-a-copy\n",
      "\n",
      "  raw_doc_p2.loc[raw_doc_p2['page_count']==9781302013929].loc[:,'page_count'] = np.nan\n",
      "C:\\Users\\mquay\\AppData\\Local\\Temp\\ipykernel_21884\\3499805592.py:3: FutureWarning: Setting an item of incompatible dtype is deprecated and will raise in a future error of pandas. Value 'nan' has dtype incompatible with int64, please explicitly cast to a compatible dtype first.\n",
      "  raw_doc_p2.loc[raw_doc_p2['page_count']==9781302013929].loc[:,'page_count'] = np.nan\n"
     ]
    },
    {
     "data": {
      "text/html": [
       "<div>\n",
       "<style scoped>\n",
       "    .dataframe tbody tr th:only-of-type {\n",
       "        vertical-align: middle;\n",
       "    }\n",
       "\n",
       "    .dataframe tbody tr th {\n",
       "        vertical-align: top;\n",
       "    }\n",
       "\n",
       "    .dataframe thead th {\n",
       "        text-align: right;\n",
       "    }\n",
       "</style>\n",
       "<table border=\"1\" class=\"dataframe\">\n",
       "  <thead>\n",
       "    <tr style=\"text-align: right;\">\n",
       "      <th></th>\n",
       "      <th>currency</th>\n",
       "      <th>description</th>\n",
       "      <th>publisher</th>\n",
       "      <th>page_count</th>\n",
       "    </tr>\n",
       "  </thead>\n",
       "  <tbody>\n",
       "    <tr>\n",
       "      <th>288</th>\n",
       "      <td>SAR</td>\n",
       "      <td>Stop rubbing your eyes, fanboy, they don't dec...</td>\n",
       "      <td>Marvel Entertainment</td>\n",
       "      <td>9781302013929</td>\n",
       "    </tr>\n",
       "    <tr>\n",
       "      <th>1241</th>\n",
       "      <td>SAR</td>\n",
       "      <td>Stop rubbing your eyes, fanboy, they don't dec...</td>\n",
       "      <td>Marvel Entertainment</td>\n",
       "      <td>9781302013929</td>\n",
       "    </tr>\n",
       "  </tbody>\n",
       "</table>\n",
       "</div>"
      ],
      "text/plain": [
       "     currency                                        description  \\\n",
       "288       SAR  Stop rubbing your eyes, fanboy, they don't dec...   \n",
       "1241      SAR  Stop rubbing your eyes, fanboy, they don't dec...   \n",
       "\n",
       "                 publisher     page_count  \n",
       "288   Marvel Entertainment  9781302013929  \n",
       "1241  Marvel Entertainment  9781302013929  "
      ]
     },
     "execution_count": 95,
     "metadata": {},
     "output_type": "execute_result"
    }
   ],
   "source": [
    "# Correcting 'page_count' in subset dataframe\n",
    "\n",
    "raw_doc_p2.loc[raw_doc_p2['page_count']==9781302013929].loc[:,'page_count'] = np.nan\n",
    "raw_doc_p2.loc[raw_doc_p2['page_count']==9781302013929].update(incorrect_page_count)\n",
    "raw_doc_p2.loc[raw_doc_p2['page_count']==9781302013929]"
   ]
  },
  {
   "cell_type": "code",
   "execution_count": null,
   "metadata": {},
   "outputs": [
    {
     "data": {
      "text/html": [
       "<div>\n",
       "<style scoped>\n",
       "    .dataframe tbody tr th:only-of-type {\n",
       "        vertical-align: middle;\n",
       "    }\n",
       "\n",
       "    .dataframe tbody tr th {\n",
       "        vertical-align: top;\n",
       "    }\n",
       "\n",
       "    .dataframe thead th {\n",
       "        text-align: right;\n",
       "    }\n",
       "</style>\n",
       "<table border=\"1\" class=\"dataframe\">\n",
       "  <thead>\n",
       "    <tr style=\"text-align: right;\">\n",
       "      <th></th>\n",
       "      <th>genres</th>\n",
       "      <th>ISBN</th>\n",
       "      <th>language</th>\n",
       "      <th>published_date</th>\n",
       "    </tr>\n",
       "  </thead>\n",
       "  <tbody>\n",
       "    <tr>\n",
       "      <th>288</th>\n",
       "      <td>Comics &amp; Graphic Novels , Superheroes</td>\n",
       "      <td>Original pages</td>\n",
       "      <td>English</td>\n",
       "      <td>186</td>\n",
       "    </tr>\n",
       "    <tr>\n",
       "      <th>1241</th>\n",
       "      <td>Comics &amp; Graphic Novels , Superheroes</td>\n",
       "      <td>Original pages</td>\n",
       "      <td>English</td>\n",
       "      <td>186</td>\n",
       "    </tr>\n",
       "  </tbody>\n",
       "</table>\n",
       "</div>"
      ],
      "text/plain": [
       "                                     genres            ISBN language  \\\n",
       "288   Comics & Graphic Novels , Superheroes  Original pages  English   \n",
       "1241  Comics & Graphic Novels , Superheroes  Original pages  English   \n",
       "\n",
       "     published_date  \n",
       "288             186  \n",
       "1241            186  "
      ]
     },
     "execution_count": 71,
     "metadata": {},
     "output_type": "execute_result"
    }
   ],
   "source": [
    "# Correcting 'ISBN' in subset dataframe\n",
    "raw_doc_p3.loc[raw_doc_p2['page_count']==9781302013929]"
   ]
  },
  {
   "cell_type": "code",
   "execution_count": 25,
   "metadata": {},
   "outputs": [
    {
     "data": {
      "text/plain": [
       "1299"
      ]
     },
     "execution_count": 25,
     "metadata": {},
     "output_type": "execute_result"
    }
   ],
   "source": [
    "len(raw_doc_master['title'])"
   ]
  },
  {
   "cell_type": "code",
   "execution_count": 26,
   "metadata": {},
   "outputs": [
    {
     "data": {
      "text/plain": [
       "246"
      ]
     },
     "execution_count": 26,
     "metadata": {},
     "output_type": "execute_result"
    }
   ],
   "source": [
    "len(raw_doc_master['title'].unique())"
   ]
  },
  {
   "cell_type": "code",
   "execution_count": 27,
   "metadata": {},
   "outputs": [
    {
     "data": {
      "text/html": [
       "<div>\n",
       "<style scoped>\n",
       "    .dataframe tbody tr th:only-of-type {\n",
       "        vertical-align: middle;\n",
       "    }\n",
       "\n",
       "    .dataframe tbody tr th {\n",
       "        vertical-align: top;\n",
       "    }\n",
       "\n",
       "    .dataframe thead th {\n",
       "        text-align: right;\n",
       "    }\n",
       "</style>\n",
       "<table border=\"1\" class=\"dataframe\">\n",
       "  <thead>\n",
       "    <tr style=\"text-align: right;\">\n",
       "      <th></th>\n",
       "      <th>title</th>\n",
       "      <th>author</th>\n",
       "      <th>rating</th>\n",
       "      <th>voters</th>\n",
       "      <th>price</th>\n",
       "      <th>currency</th>\n",
       "      <th>description</th>\n",
       "      <th>publisher</th>\n",
       "      <th>page_count</th>\n",
       "      <th>genres</th>\n",
       "      <th>ISBN</th>\n",
       "      <th>language</th>\n",
       "      <th>published_date</th>\n",
       "    </tr>\n",
       "  </thead>\n",
       "  <tbody>\n",
       "    <tr>\n",
       "      <th>288</th>\n",
       "      <td>Deadpool Team-Up Vol. 1: Good Buddies</td>\n",
       "      <td>Fred Van Lente</td>\n",
       "      <td>3.9</td>\n",
       "      <td>363</td>\n",
       "      <td>43.28</td>\n",
       "      <td>SAR</td>\n",
       "      <td>Stop rubbing your eyes, fanboy, they don't dec...</td>\n",
       "      <td>Marvel Entertainment</td>\n",
       "      <td>9781302013929</td>\n",
       "      <td>Comics &amp; Graphic Novels , Superheroes</td>\n",
       "      <td>Original pages</td>\n",
       "      <td>English</td>\n",
       "      <td>186</td>\n",
       "    </tr>\n",
       "    <tr>\n",
       "      <th>1241</th>\n",
       "      <td>Deadpool Team-Up Vol. 1: Good Buddies</td>\n",
       "      <td>Fred Van Lente</td>\n",
       "      <td>3.9</td>\n",
       "      <td>363</td>\n",
       "      <td>43.28</td>\n",
       "      <td>SAR</td>\n",
       "      <td>Stop rubbing your eyes, fanboy, they don't dec...</td>\n",
       "      <td>Marvel Entertainment</td>\n",
       "      <td>9781302013929</td>\n",
       "      <td>Comics &amp; Graphic Novels , Superheroes</td>\n",
       "      <td>Original pages</td>\n",
       "      <td>English</td>\n",
       "      <td>186</td>\n",
       "    </tr>\n",
       "  </tbody>\n",
       "</table>\n",
       "</div>"
      ],
      "text/plain": [
       "                                      title          author  rating voters  \\\n",
       "288   Deadpool Team-Up Vol. 1: Good Buddies  Fred Van Lente     3.9    363   \n",
       "1241  Deadpool Team-Up Vol. 1: Good Buddies  Fred Van Lente     3.9    363   \n",
       "\n",
       "      price currency                                        description  \\\n",
       "288   43.28      SAR  Stop rubbing your eyes, fanboy, they don't dec...   \n",
       "1241  43.28      SAR  Stop rubbing your eyes, fanboy, they don't dec...   \n",
       "\n",
       "                 publisher     page_count  \\\n",
       "288   Marvel Entertainment  9781302013929   \n",
       "1241  Marvel Entertainment  9781302013929   \n",
       "\n",
       "                                     genres            ISBN language  \\\n",
       "288   Comics & Graphic Novels , Superheroes  Original pages  English   \n",
       "1241  Comics & Graphic Novels , Superheroes  Original pages  English   \n",
       "\n",
       "     published_date  \n",
       "288             186  \n",
       "1241            186  "
      ]
     },
     "execution_count": 27,
     "metadata": {},
     "output_type": "execute_result"
    }
   ],
   "source": [
    "raw_doc_master[raw_doc_p2['page_count']==9781302013929]"
   ]
  },
  {
   "cell_type": "code",
   "execution_count": 28,
   "metadata": {},
   "outputs": [
    {
     "name": "stdout",
     "output_type": "stream",
     "text": [
      "<class 'pandas.core.frame.DataFrame'>\n",
      "RangeIndex: 1299 entries, 0 to 1298\n",
      "Data columns (total 4 columns):\n",
      " #   Column       Non-Null Count  Dtype \n",
      "---  ------       --------------  ----- \n",
      " 0   currency     1299 non-null   object\n",
      " 1   description  1296 non-null   object\n",
      " 2   publisher    1299 non-null   object\n",
      " 3   page_count   1299 non-null   int64 \n",
      "dtypes: int64(1), object(3)\n",
      "memory usage: 40.7+ KB\n"
     ]
    }
   ],
   "source": [
    "raw_doc_p2.info()"
   ]
  },
  {
   "cell_type": "code",
   "execution_count": 29,
   "metadata": {},
   "outputs": [
    {
     "data": {
      "text/html": [
       "<div>\n",
       "<style scoped>\n",
       "    .dataframe tbody tr th:only-of-type {\n",
       "        vertical-align: middle;\n",
       "    }\n",
       "\n",
       "    .dataframe tbody tr th {\n",
       "        vertical-align: top;\n",
       "    }\n",
       "\n",
       "    .dataframe thead th {\n",
       "        text-align: right;\n",
       "    }\n",
       "</style>\n",
       "<table border=\"1\" class=\"dataframe\">\n",
       "  <thead>\n",
       "    <tr style=\"text-align: right;\">\n",
       "      <th></th>\n",
       "      <th>currency</th>\n",
       "      <th>description</th>\n",
       "      <th>publisher</th>\n",
       "      <th>page_count</th>\n",
       "    </tr>\n",
       "  </thead>\n",
       "  <tbody>\n",
       "    <tr>\n",
       "      <th>0</th>\n",
       "      <td>SAR</td>\n",
       "      <td>NO SAFE PLACE LEFT At great cost to the Garris...</td>\n",
       "      <td>Kodansha Comics</td>\n",
       "      <td>192</td>\n",
       "    </tr>\n",
       "    <tr>\n",
       "      <th>1</th>\n",
       "      <td>SAR</td>\n",
       "      <td>Determined to make a new start in her quaint h...</td>\n",
       "      <td>Kensington Publishing Corp.</td>\n",
       "      <td>288</td>\n",
       "    </tr>\n",
       "    <tr>\n",
       "      <th>2</th>\n",
       "      <td>SAR</td>\n",
       "      <td>Take a globetrotting journey all over the worl...</td>\n",
       "      <td>Dark Horse Comics</td>\n",
       "      <td>368</td>\n",
       "    </tr>\n",
       "  </tbody>\n",
       "</table>\n",
       "</div>"
      ],
      "text/plain": [
       "  currency                                        description  \\\n",
       "0      SAR  NO SAFE PLACE LEFT At great cost to the Garris...   \n",
       "1      SAR  Determined to make a new start in her quaint h...   \n",
       "2      SAR  Take a globetrotting journey all over the worl...   \n",
       "\n",
       "                     publisher  page_count  \n",
       "0              Kodansha Comics         192  \n",
       "1  Kensington Publishing Corp.         288  \n",
       "2            Dark Horse Comics         368  "
      ]
     },
     "execution_count": 29,
     "metadata": {},
     "output_type": "execute_result"
    }
   ],
   "source": [
    "raw_doc_p2[:3]"
   ]
  },
  {
   "cell_type": "markdown",
   "metadata": {},
   "source": [
    "#### raw_doc_p3"
   ]
  },
  {
   "cell_type": "code",
   "execution_count": 30,
   "metadata": {},
   "outputs": [
    {
     "name": "stdout",
     "output_type": "stream",
     "text": [
      "<class 'pandas.core.frame.DataFrame'>\n",
      "RangeIndex: 1299 entries, 0 to 1298\n",
      "Data columns (total 4 columns):\n",
      " #   Column          Non-Null Count  Dtype \n",
      "---  ------          --------------  ----- \n",
      " 0   genres          1299 non-null   object\n",
      " 1   ISBN            1299 non-null   object\n",
      " 2   language        1299 non-null   object\n",
      " 3   published_date  1299 non-null   object\n",
      "dtypes: object(4)\n",
      "memory usage: 40.7+ KB\n"
     ]
    }
   ],
   "source": [
    "raw_doc_p3.info()"
   ]
  },
  {
   "cell_type": "code",
   "execution_count": 31,
   "metadata": {},
   "outputs": [
    {
     "data": {
      "text/html": [
       "<div>\n",
       "<style scoped>\n",
       "    .dataframe tbody tr th:only-of-type {\n",
       "        vertical-align: middle;\n",
       "    }\n",
       "\n",
       "    .dataframe tbody tr th {\n",
       "        vertical-align: top;\n",
       "    }\n",
       "\n",
       "    .dataframe thead th {\n",
       "        text-align: right;\n",
       "    }\n",
       "</style>\n",
       "<table border=\"1\" class=\"dataframe\">\n",
       "  <thead>\n",
       "    <tr style=\"text-align: right;\">\n",
       "      <th></th>\n",
       "      <th>genres</th>\n",
       "      <th>ISBN</th>\n",
       "      <th>language</th>\n",
       "      <th>published_date</th>\n",
       "    </tr>\n",
       "  </thead>\n",
       "  <tbody>\n",
       "    <tr>\n",
       "      <th>0</th>\n",
       "      <td>none</td>\n",
       "      <td>9781612626864</td>\n",
       "      <td>English</td>\n",
       "      <td>Jul 31, 2014</td>\n",
       "    </tr>\n",
       "    <tr>\n",
       "      <th>1</th>\n",
       "      <td>Fiction , Mystery &amp;amp, Detective , Cozy , Gen...</td>\n",
       "      <td>9780758272799</td>\n",
       "      <td>English</td>\n",
       "      <td>Jul 1, 2007</td>\n",
       "    </tr>\n",
       "    <tr>\n",
       "      <th>2</th>\n",
       "      <td>Games &amp;amp, Activities , Video &amp;amp, Electronic</td>\n",
       "      <td>9781506713816</td>\n",
       "      <td>English</td>\n",
       "      <td>Nov 5, 2019</td>\n",
       "    </tr>\n",
       "  </tbody>\n",
       "</table>\n",
       "</div>"
      ],
      "text/plain": [
       "                                              genres           ISBN language  \\\n",
       "0                                               none  9781612626864  English   \n",
       "1  Fiction , Mystery &amp, Detective , Cozy , Gen...  9780758272799  English   \n",
       "2    Games &amp, Activities , Video &amp, Electronic  9781506713816  English   \n",
       "\n",
       "  published_date  \n",
       "0   Jul 31, 2014  \n",
       "1    Jul 1, 2007  \n",
       "2    Nov 5, 2019  "
      ]
     },
     "execution_count": 31,
     "metadata": {},
     "output_type": "execute_result"
    }
   ],
   "source": [
    "raw_doc_p3[:3]"
   ]
  },
  {
   "cell_type": "code",
   "execution_count": null,
   "metadata": {},
   "outputs": [],
   "source": []
  },
  {
   "cell_type": "code",
   "execution_count": 32,
   "metadata": {},
   "outputs": [
    {
     "name": "stdout",
     "output_type": "stream",
     "text": [
      "<class 'pandas.core.frame.DataFrame'>\n",
      "RangeIndex: 1299 entries, 0 to 1298\n",
      "Data columns (total 4 columns):\n",
      " #   Column          Non-Null Count  Dtype \n",
      "---  ------          --------------  ----- \n",
      " 0   genres          1299 non-null   object\n",
      " 1   ISBN            1299 non-null   object\n",
      " 2   language        1299 non-null   object\n",
      " 3   published_date  1299 non-null   object\n",
      "dtypes: object(4)\n",
      "memory usage: 40.7+ KB\n"
     ]
    }
   ],
   "source": [
    "raw_doc_p3.info()"
   ]
  },
  {
   "cell_type": "code",
   "execution_count": 33,
   "metadata": {},
   "outputs": [
    {
     "data": {
      "text/html": [
       "<div>\n",
       "<style scoped>\n",
       "    .dataframe tbody tr th:only-of-type {\n",
       "        vertical-align: middle;\n",
       "    }\n",
       "\n",
       "    .dataframe tbody tr th {\n",
       "        vertical-align: top;\n",
       "    }\n",
       "\n",
       "    .dataframe thead th {\n",
       "        text-align: right;\n",
       "    }\n",
       "</style>\n",
       "<table border=\"1\" class=\"dataframe\">\n",
       "  <thead>\n",
       "    <tr style=\"text-align: right;\">\n",
       "      <th></th>\n",
       "      <th>genres</th>\n",
       "      <th>ISBN</th>\n",
       "      <th>language</th>\n",
       "      <th>published_date</th>\n",
       "    </tr>\n",
       "  </thead>\n",
       "  <tbody>\n",
       "    <tr>\n",
       "      <th>0</th>\n",
       "      <td>none</td>\n",
       "      <td>9781612626864</td>\n",
       "      <td>English</td>\n",
       "      <td>Jul 31, 2014</td>\n",
       "    </tr>\n",
       "    <tr>\n",
       "      <th>1</th>\n",
       "      <td>Fiction , Mystery &amp;amp, Detective , Cozy , Gen...</td>\n",
       "      <td>9780758272799</td>\n",
       "      <td>English</td>\n",
       "      <td>Jul 1, 2007</td>\n",
       "    </tr>\n",
       "    <tr>\n",
       "      <th>2</th>\n",
       "      <td>Games &amp;amp, Activities , Video &amp;amp, Electronic</td>\n",
       "      <td>9781506713816</td>\n",
       "      <td>English</td>\n",
       "      <td>Nov 5, 2019</td>\n",
       "    </tr>\n",
       "  </tbody>\n",
       "</table>\n",
       "</div>"
      ],
      "text/plain": [
       "                                              genres           ISBN language  \\\n",
       "0                                               none  9781612626864  English   \n",
       "1  Fiction , Mystery &amp, Detective , Cozy , Gen...  9780758272799  English   \n",
       "2    Games &amp, Activities , Video &amp, Electronic  9781506713816  English   \n",
       "\n",
       "  published_date  \n",
       "0   Jul 31, 2014  \n",
       "1    Jul 1, 2007  \n",
       "2    Nov 5, 2019  "
      ]
     },
     "execution_count": 33,
     "metadata": {},
     "output_type": "execute_result"
    }
   ],
   "source": [
    "raw_doc_p3[:3]"
   ]
  },
  {
   "cell_type": "code",
   "execution_count": 34,
   "metadata": {},
   "outputs": [
    {
     "data": {
      "text/plain": [
       "array([  428,    23,     9,    10,   577,   832,    94,   221,   135,\n",
       "          47,   383,    57,    45, 38526,     4,   427,     3,    13,\n",
       "           0,   281,   200,     7,   100,   408,   288,    15,   886,\n",
       "        1633,  1382,   206,     1,    72,     6,   861,    42, 17719,\n",
       "         522,  6615,    64, 32771,  1251,  1130,  5177,    34,   142,\n",
       "         580,   352,   751, 10650,     2,  3316,   124,   255,   591,\n",
       "        1756,    87,   223,  3650,   107,    25,    56,   127,    14,\n",
       "         453,  3695,   526,   532,   399,   451,  4683,    18,    95,\n",
       "          46,    90,    84,    78,   818,   247,    30,    80,   157,\n",
       "          85,    79,   119,   407,   216,   588,   997,    60,   499,\n",
       "         624,   120,   166,   483,   168,   661,  4260,  1354,    38,\n",
       "        1408,  1701,  4532,   250,  1780,    33,    11,  4750,     8,\n",
       "          21,  1799,   510,    24,  9403,   567,   141,   179,  2700,\n",
       "          22,   363,   715,    97,   103,  1105,  4533,    66,    52,\n",
       "         634,    53,    61,   222,  1345,     5,    35,   373,   445,\n",
       "         308,   272,    74,   185,    26,    12,   485,   327,   102,\n",
       "        1285,    20,   405,    69,   283,    27,  1365,   278,   244,\n",
       "          16,    62,    92,    36,    41,    19,   186,   391,   110,\n",
       "          49])"
      ]
     },
     "execution_count": 34,
     "metadata": {},
     "output_type": "execute_result"
    }
   ],
   "source": [
    "raw_doc_p1['voters'].unique()"
   ]
  },
  {
   "cell_type": "code",
   "execution_count": 35,
   "metadata": {},
   "outputs": [
    {
     "data": {
      "text/html": [
       "<div>\n",
       "<style scoped>\n",
       "    .dataframe tbody tr th:only-of-type {\n",
       "        vertical-align: middle;\n",
       "    }\n",
       "\n",
       "    .dataframe tbody tr th {\n",
       "        vertical-align: top;\n",
       "    }\n",
       "\n",
       "    .dataframe thead th {\n",
       "        text-align: right;\n",
       "    }\n",
       "</style>\n",
       "<table border=\"1\" class=\"dataframe\">\n",
       "  <thead>\n",
       "    <tr style=\"text-align: right;\">\n",
       "      <th></th>\n",
       "      <th>title</th>\n",
       "      <th>author</th>\n",
       "      <th>rating</th>\n",
       "      <th>voters</th>\n",
       "      <th>price</th>\n",
       "      <th>currency</th>\n",
       "      <th>description</th>\n",
       "      <th>publisher</th>\n",
       "      <th>page_count</th>\n",
       "      <th>genres</th>\n",
       "      <th>ISBN</th>\n",
       "      <th>language</th>\n",
       "      <th>published_date</th>\n",
       "    </tr>\n",
       "  </thead>\n",
       "  <tbody>\n",
       "    <tr>\n",
       "      <th>0</th>\n",
       "      <td>Attack on Titan: Volume 13</td>\n",
       "      <td>Hajime Isayama</td>\n",
       "      <td>4.6</td>\n",
       "      <td>428</td>\n",
       "      <td>43.28</td>\n",
       "      <td>SAR</td>\n",
       "      <td>NO SAFE PLACE LEFT At great cost to the Garris...</td>\n",
       "      <td>Kodansha Comics</td>\n",
       "      <td>192</td>\n",
       "      <td>none</td>\n",
       "      <td>9781612626864</td>\n",
       "      <td>English</td>\n",
       "      <td>Jul 31, 2014</td>\n",
       "    </tr>\n",
       "    <tr>\n",
       "      <th>1</th>\n",
       "      <td>Antiques Roadkill: A Trash 'n' Treasures Mystery</td>\n",
       "      <td>Barbara Allan</td>\n",
       "      <td>3.3</td>\n",
       "      <td>23</td>\n",
       "      <td>26.15</td>\n",
       "      <td>SAR</td>\n",
       "      <td>Determined to make a new start in her quaint h...</td>\n",
       "      <td>Kensington Publishing Corp.</td>\n",
       "      <td>288</td>\n",
       "      <td>Fiction , Mystery &amp;amp, Detective , Cozy , Gen...</td>\n",
       "      <td>9780758272799</td>\n",
       "      <td>English</td>\n",
       "      <td>Jul 1, 2007</td>\n",
       "    </tr>\n",
       "    <tr>\n",
       "      <th>2</th>\n",
       "      <td>The Art of Super Mario Odyssey</td>\n",
       "      <td>Nintendo</td>\n",
       "      <td>3.9</td>\n",
       "      <td>9</td>\n",
       "      <td>133.85</td>\n",
       "      <td>SAR</td>\n",
       "      <td>Take a globetrotting journey all over the worl...</td>\n",
       "      <td>Dark Horse Comics</td>\n",
       "      <td>368</td>\n",
       "      <td>Games &amp;amp, Activities , Video &amp;amp, Electronic</td>\n",
       "      <td>9781506713816</td>\n",
       "      <td>English</td>\n",
       "      <td>Nov 5, 2019</td>\n",
       "    </tr>\n",
       "    <tr>\n",
       "      <th>3</th>\n",
       "      <td>Getting Away Is Deadly: An Ellie Avery Mystery</td>\n",
       "      <td>Sara Rosett</td>\n",
       "      <td>4.0</td>\n",
       "      <td>10</td>\n",
       "      <td>26.15</td>\n",
       "      <td>SAR</td>\n",
       "      <td>With swollen feet and swelling belly, pregnant...</td>\n",
       "      <td>Kensington Publishing Corp.</td>\n",
       "      <td>320</td>\n",
       "      <td>none</td>\n",
       "      <td>9781617734076</td>\n",
       "      <td>English</td>\n",
       "      <td>Mar 1, 2009</td>\n",
       "    </tr>\n",
       "    <tr>\n",
       "      <th>4</th>\n",
       "      <td>The Painted Man (The Demon Cycle, Book 1)</td>\n",
       "      <td>Peter V. Brett</td>\n",
       "      <td>4.5</td>\n",
       "      <td>577</td>\n",
       "      <td>28.54</td>\n",
       "      <td>SAR</td>\n",
       "      <td>The stunning debut fantasy novel from author P...</td>\n",
       "      <td>HarperCollins UK</td>\n",
       "      <td>544</td>\n",
       "      <td>Fiction , Fantasy , Dark Fantasy</td>\n",
       "      <td>9780007287758</td>\n",
       "      <td>English</td>\n",
       "      <td>Jan 8, 2009</td>\n",
       "    </tr>\n",
       "    <tr>\n",
       "      <th>...</th>\n",
       "      <td>...</td>\n",
       "      <td>...</td>\n",
       "      <td>...</td>\n",
       "      <td>...</td>\n",
       "      <td>...</td>\n",
       "      <td>...</td>\n",
       "      <td>...</td>\n",
       "      <td>...</td>\n",
       "      <td>...</td>\n",
       "      <td>...</td>\n",
       "      <td>...</td>\n",
       "      <td>...</td>\n",
       "      <td>...</td>\n",
       "    </tr>\n",
       "    <tr>\n",
       "      <th>1294</th>\n",
       "      <td>Twas The Nightshift Before Christmas: Festive ...</td>\n",
       "      <td>Adam Kay</td>\n",
       "      <td>4.7</td>\n",
       "      <td>47</td>\n",
       "      <td>41.82</td>\n",
       "      <td>SAR</td>\n",
       "      <td>A short gift book of festive hospital diaries ...</td>\n",
       "      <td>Pan Macmillan</td>\n",
       "      <td>112</td>\n",
       "      <td>Medical , Health Care Delivery</td>\n",
       "      <td>9781529018592</td>\n",
       "      <td>English</td>\n",
       "      <td>Oct 17, 2019</td>\n",
       "    </tr>\n",
       "    <tr>\n",
       "      <th>1295</th>\n",
       "      <td>Why We Sleep: The New Science of Sleep and Dreams</td>\n",
       "      <td>Matthew Walker</td>\n",
       "      <td>4.8</td>\n",
       "      <td>52</td>\n",
       "      <td>46.85</td>\n",
       "      <td>SAR</td>\n",
       "      <td>'Astonishing ... an amazing book ... absolutel...</td>\n",
       "      <td>Penguin UK</td>\n",
       "      <td>368</td>\n",
       "      <td>Psychology , Cognitive Psychology &amp;amp, Cognition</td>\n",
       "      <td>9780141983776</td>\n",
       "      <td>English</td>\n",
       "      <td>Sep 28, 2017</td>\n",
       "    </tr>\n",
       "    <tr>\n",
       "      <th>1296</th>\n",
       "      <td>How to Understand Business Finance: Edition 2</td>\n",
       "      <td>Bob Cinnamon</td>\n",
       "      <td>3.5</td>\n",
       "      <td>4</td>\n",
       "      <td>46.85</td>\n",
       "      <td>SAR</td>\n",
       "      <td>The modern marketplace is increasingly unpredi...</td>\n",
       "      <td>Kogan Page Publishers</td>\n",
       "      <td>176</td>\n",
       "      <td>none</td>\n",
       "      <td>9780749460211</td>\n",
       "      <td>English</td>\n",
       "      <td>Apr 3, 2010</td>\n",
       "    </tr>\n",
       "    <tr>\n",
       "      <th>1297</th>\n",
       "      <td>Spider-Man: Kraven's Last Hunt</td>\n",
       "      <td>J. M. DeMatteis</td>\n",
       "      <td>4.6</td>\n",
       "      <td>74</td>\n",
       "      <td>43.28</td>\n",
       "      <td>SAR</td>\n",
       "      <td>Collects Web of Spider-Man #31-32, Amazing Spi...</td>\n",
       "      <td>Marvel Entertainment</td>\n",
       "      <td>168</td>\n",
       "      <td>none</td>\n",
       "      <td>9781302377366</td>\n",
       "      <td>English</td>\n",
       "      <td>Dec 10, 2014</td>\n",
       "    </tr>\n",
       "    <tr>\n",
       "      <th>1298</th>\n",
       "      <td>W is for Wasted: A Kinsey Millhone Novel</td>\n",
       "      <td>Sue Grafton</td>\n",
       "      <td>4.3</td>\n",
       "      <td>206</td>\n",
       "      <td>39.34</td>\n",
       "      <td>SAR</td>\n",
       "      <td>Private investigator Kinsey Millhone finds sho...</td>\n",
       "      <td>Penguin</td>\n",
       "      <td>448</td>\n",
       "      <td>Fiction , Thrillers , Suspense</td>\n",
       "      <td>9781101636459</td>\n",
       "      <td>English</td>\n",
       "      <td>Sep 10, 2013</td>\n",
       "    </tr>\n",
       "  </tbody>\n",
       "</table>\n",
       "<p>1299 rows × 13 columns</p>\n",
       "</div>"
      ],
      "text/plain": [
       "                                                  title           author  \\\n",
       "0                            Attack on Titan: Volume 13   Hajime Isayama   \n",
       "1      Antiques Roadkill: A Trash 'n' Treasures Mystery    Barbara Allan   \n",
       "2                        The Art of Super Mario Odyssey         Nintendo   \n",
       "3        Getting Away Is Deadly: An Ellie Avery Mystery      Sara Rosett   \n",
       "4             The Painted Man (The Demon Cycle, Book 1)   Peter V. Brett   \n",
       "...                                                 ...              ...   \n",
       "1294  Twas The Nightshift Before Christmas: Festive ...         Adam Kay   \n",
       "1295  Why We Sleep: The New Science of Sleep and Dreams   Matthew Walker   \n",
       "1296      How to Understand Business Finance: Edition 2     Bob Cinnamon   \n",
       "1297                     Spider-Man: Kraven's Last Hunt  J. M. DeMatteis   \n",
       "1298           W is for Wasted: A Kinsey Millhone Novel      Sue Grafton   \n",
       "\n",
       "      rating voters   price currency  \\\n",
       "0        4.6    428   43.28      SAR   \n",
       "1        3.3     23   26.15      SAR   \n",
       "2        3.9      9  133.85      SAR   \n",
       "3        4.0     10   26.15      SAR   \n",
       "4        4.5    577   28.54      SAR   \n",
       "...      ...    ...     ...      ...   \n",
       "1294     4.7     47   41.82      SAR   \n",
       "1295     4.8     52   46.85      SAR   \n",
       "1296     3.5      4   46.85      SAR   \n",
       "1297     4.6     74   43.28      SAR   \n",
       "1298     4.3    206   39.34      SAR   \n",
       "\n",
       "                                            description  \\\n",
       "0     NO SAFE PLACE LEFT At great cost to the Garris...   \n",
       "1     Determined to make a new start in her quaint h...   \n",
       "2     Take a globetrotting journey all over the worl...   \n",
       "3     With swollen feet and swelling belly, pregnant...   \n",
       "4     The stunning debut fantasy novel from author P...   \n",
       "...                                                 ...   \n",
       "1294  A short gift book of festive hospital diaries ...   \n",
       "1295  'Astonishing ... an amazing book ... absolutel...   \n",
       "1296  The modern marketplace is increasingly unpredi...   \n",
       "1297  Collects Web of Spider-Man #31-32, Amazing Spi...   \n",
       "1298  Private investigator Kinsey Millhone finds sho...   \n",
       "\n",
       "                        publisher  page_count  \\\n",
       "0                 Kodansha Comics         192   \n",
       "1     Kensington Publishing Corp.         288   \n",
       "2               Dark Horse Comics         368   \n",
       "3     Kensington Publishing Corp.         320   \n",
       "4                HarperCollins UK         544   \n",
       "...                           ...         ...   \n",
       "1294                Pan Macmillan         112   \n",
       "1295                   Penguin UK         368   \n",
       "1296        Kogan Page Publishers         176   \n",
       "1297         Marvel Entertainment         168   \n",
       "1298                      Penguin         448   \n",
       "\n",
       "                                                 genres           ISBN  \\\n",
       "0                                                  none  9781612626864   \n",
       "1     Fiction , Mystery &amp, Detective , Cozy , Gen...  9780758272799   \n",
       "2       Games &amp, Activities , Video &amp, Electronic  9781506713816   \n",
       "3                                                  none  9781617734076   \n",
       "4                      Fiction , Fantasy , Dark Fantasy  9780007287758   \n",
       "...                                                 ...            ...   \n",
       "1294                     Medical , Health Care Delivery  9781529018592   \n",
       "1295  Psychology , Cognitive Psychology &amp, Cognition  9780141983776   \n",
       "1296                                               none  9780749460211   \n",
       "1297                                               none  9781302377366   \n",
       "1298                     Fiction , Thrillers , Suspense  9781101636459   \n",
       "\n",
       "     language published_date  \n",
       "0     English   Jul 31, 2014  \n",
       "1     English    Jul 1, 2007  \n",
       "2     English    Nov 5, 2019  \n",
       "3     English    Mar 1, 2009  \n",
       "4     English    Jan 8, 2009  \n",
       "...       ...            ...  \n",
       "1294  English   Oct 17, 2019  \n",
       "1295  English   Sep 28, 2017  \n",
       "1296  English    Apr 3, 2010  \n",
       "1297  English   Dec 10, 2014  \n",
       "1298  English   Sep 10, 2013  \n",
       "\n",
       "[1299 rows x 13 columns]"
      ]
     },
     "execution_count": 35,
     "metadata": {},
     "output_type": "execute_result"
    }
   ],
   "source": [
    "# Sampling 10 files for exploration\n",
    "\n",
    "raw_doc_master"
   ]
  },
  {
   "cell_type": "code",
   "execution_count": 36,
   "metadata": {},
   "outputs": [
    {
     "ename": "NameError",
     "evalue": "name 'sample_robotstxt_urls' is not defined",
     "output_type": "error",
     "traceback": [
      "\u001b[1;31m---------------------------------------------------------------------------\u001b[0m",
      "\u001b[1;31mNameError\u001b[0m                                 Traceback (most recent call last)",
      "Cell \u001b[1;32mIn[36], line 1\u001b[0m\n\u001b[1;32m----> 1\u001b[0m text_exploration \u001b[38;5;241m=\u001b[39m \u001b[43msample_robotstxt_urls\u001b[49m[\u001b[38;5;241m0\u001b[39m]\n\u001b[0;32m      2\u001b[0m sample_robotstxt_urls[\u001b[38;5;241m0\u001b[39m]\n",
      "\u001b[1;31mNameError\u001b[0m: name 'sample_robotstxt_urls' is not defined"
     ]
    }
   ],
   "source": [
    "text_exploration = sample_robotstxt_urls[0]\n",
    "sample_robotstxt_urls[0]"
   ]
  },
  {
   "cell_type": "code",
   "execution_count": null,
   "metadata": {},
   "outputs": [
    {
     "data": {
      "text/plain": [
       "['seg']"
      ]
     },
     "execution_count": 65,
     "metadata": {},
     "output_type": "execute_result"
    }
   ],
   "source": [
    "re.findall(r\"(seg)+\", text_exploration)"
   ]
  },
  {
   "cell_type": "code",
   "execution_count": null,
   "metadata": {},
   "outputs": [
    {
     "data": {
      "text/plain": [
       "'2025'"
      ]
     },
     "execution_count": 33,
     "metadata": {},
     "output_type": "execute_result"
    }
   ],
   "source": [
    "re.search(r\"\\d+\", text_exploration).group()"
   ]
  },
  {
   "cell_type": "code",
   "execution_count": null,
   "metadata": {},
   "outputs": [
    {
     "name": "stdout",
     "output_type": "stream",
     "text": [
      "2025\n"
     ]
    }
   ],
   "source": [
    "# re.search()\n",
    "\n",
    "first_num_occ = re.search(r\"\\d+\", text_exploration)\n",
    "print(first_num_occ.group())"
   ]
  },
  {
   "cell_type": "markdown",
   "metadata": {},
   "source": [
    "## `re.search()` - Find the first match"
   ]
  },
  {
   "cell_type": "code",
   "execution_count": null,
   "metadata": {},
   "outputs": [],
   "source": []
  },
  {
   "cell_type": "markdown",
   "metadata": {},
   "source": [
    "## `re.findall()` - Find all matches"
   ]
  },
  {
   "cell_type": "markdown",
   "metadata": {},
   "source": [
    "## `re.match()` - Does pattern match at start of string?"
   ]
  },
  {
   "cell_type": "code",
   "execution_count": null,
   "metadata": {},
   "outputs": [],
   "source": [
    "\n"
   ]
  },
  {
   "cell_type": "markdown",
   "metadata": {},
   "source": [
    "## `re.fullmatch()` - Does entire string match pattern?"
   ]
  },
  {
   "cell_type": "markdown",
   "metadata": {},
   "source": [
    "## `re.sub()` - Replaces occurences of a pattern with another string"
   ]
  },
  {
   "cell_type": "markdown",
   "metadata": {},
   "source": [
    "## `re.split()` - Splits a string based on regex pattern"
   ]
  },
  {
   "cell_type": "markdown",
   "metadata": {},
   "source": [
    "## `re.compile()` - Precompiles a regex for repeated use"
   ]
  },
  {
   "cell_type": "code",
   "execution_count": null,
   "metadata": {},
   "outputs": [],
   "source": []
  },
  {
   "cell_type": "markdown",
   "metadata": {},
   "source": [
    "# EXAMPLES"
   ]
  },
  {
   "cell_type": "markdown",
   "metadata": {},
   "source": [
    "- Extract all digits from \"Order 123, Invoice 456, ID 7890\".\n",
    "- Find all lowercase letters in \"Hello WORLD Python!\".\n",
    "- Extract all capital letters from \"Regex is FUN and POWERFUL\".\n",
    "- Find all words in \"Hello, World! 123\" (Ignore punctuation).\n",
    "- Extract words that contain only alphabets from \"cat123 dog45 apple banana\".\n",
    "<br>\n",
    "<br>\n",
    "- Quantifiers (*, +, ?, {})\n",
    "- Find all words that start with \"a\" in \"apple banana apricot orange\".\n",
    "- Extract sequences of 2 or more digits from \"abc123def4567gh89\".\n",
    "- Find all words with at least 5 letters in \"hello world python java\".\n",
    "- Extract all words with exactly 4 letters from \"this that when where\".\n",
    "- Match any word that contains \"th\" in \"there, think, throw, math, father\".\n",
    "<br>\n",
    "<br>\n",
    "- Character Classes (\\d, \\w, \\s)\n",
    "- Extract all numbers from \"I have 2 cats and 3 dogs\".\n",
    "- Find all words containing numbers in \"user1 admin99 guest3\".\n",
    "- Extract all words starting with a capital letter from \"Alice Bob charlie Daniel\".\n",
    "- Extract all special characters from \"Hello@World! Python#Regex\" (Ignore letters and numbers).\n",
    "- Find all sequences of spaces in \"This has multiple spaces\".\n",
    "<br>\n",
    "<br>\n",
    "- Anchors (^, $, \\b)\n",
    "- Match words that start with \"P\" in \"Python PHP JavaScript\"\n",
    "- Find all sentences ending with a period in \"Hello world. This is regex! Python is fun.\"\n",
    "- Extract hashtags from \"#Python #DataScience #Regex\"\n",
    "- Extract valid email addresses from \"test@example.com, hello@site.org, user@invalid\".\n",
    "- Extract valid phone numbers from \"Call 123-456-7890 or (123) 456-7890\"."
   ]
  },
  {
   "cell_type": "code",
   "execution_count": null,
   "metadata": {},
   "outputs": [
    {
     "data": {
      "text/plain": [
       "['123', '456', '7890']"
      ]
     },
     "execution_count": 66,
     "metadata": {},
     "output_type": "execute_result"
    }
   ],
   "source": [
    "# - Extract all digits from \"Order 123, Invoice 456, ID 7890\"\n",
    "\n",
    "text1 = \"Order 123, Invoice 456, ID 7890\"\n",
    "\n",
    "re.findall(r\"\\d+\", text1)"
   ]
  },
  {
   "cell_type": "code",
   "execution_count": null,
   "metadata": {},
   "outputs": [
    {
     "data": {
      "text/plain": [
       "['ello', 'ython']"
      ]
     },
     "execution_count": 76,
     "metadata": {},
     "output_type": "execute_result"
    }
   ],
   "source": [
    "# Find all lowercase letters in \"Hello WORLD Python!\"\n",
    "\n",
    "text2 = \"Hello WORLD Python!\"\n",
    "re.findall(r\"[a-z]+\", text2)"
   ]
  },
  {
   "cell_type": "code",
   "execution_count": null,
   "metadata": {},
   "outputs": [
    {
     "data": {
      "text/plain": [
       "['R', 'FUN', 'POWERFUL']"
      ]
     },
     "execution_count": 79,
     "metadata": {},
     "output_type": "execute_result"
    }
   ],
   "source": [
    "# Extract all capital letters from \"Regex is FUN and POWERFUL\".\n",
    "\n",
    "text3 = \"Regex is FUN and POWERFUL\"\n",
    "re.findall(r\"[A-Z]+\", text3)"
   ]
  },
  {
   "cell_type": "code",
   "execution_count": null,
   "metadata": {},
   "outputs": [
    {
     "data": {
      "text/plain": [
       "['Hello', 'World']"
      ]
     },
     "execution_count": 44,
     "metadata": {},
     "output_type": "execute_result"
    }
   ],
   "source": [
    "# Find all words in \"Hello, World! 123\" (Ignore punctuation).\n",
    "\n",
    "text4 = \"Hello, World! 123\"\n",
    "re.findall(r\"[A-Za-z]+\", text4)"
   ]
  },
  {
   "cell_type": "code",
   "execution_count": null,
   "metadata": {},
   "outputs": [
    {
     "data": {
      "text/plain": [
       "['apple', 'banana']"
      ]
     },
     "execution_count": 49,
     "metadata": {},
     "output_type": "execute_result"
    }
   ],
   "source": [
    "# Extract words that contain only alphabets from \"cat123 dog45 apple banana\".\n",
    "\n",
    "text5 = \"cat123 dog45 apple banana\"\n",
    "re.findall(r\"\\b[a-zA-Z]+\\b\", text5)"
   ]
  },
  {
   "cell_type": "code",
   "execution_count": null,
   "metadata": {},
   "outputs": [
    {
     "data": {
      "text/plain": [
       "['apple', 'apricot']"
      ]
     },
     "execution_count": 32,
     "metadata": {},
     "output_type": "execute_result"
    }
   ],
   "source": [
    "# Find all words that start with \"a\" in \"apple banana apricot orange\"\n",
    "\n",
    "text6 = \"apple banana apricot orange\"\n",
    "re.findall(r\"\\ba\\w*\", text6)"
   ]
  },
  {
   "cell_type": "code",
   "execution_count": null,
   "metadata": {},
   "outputs": [
    {
     "data": {
      "text/plain": [
       "['H']"
      ]
     },
     "execution_count": 23,
     "metadata": {},
     "output_type": "execute_result"
    }
   ],
   "source": [
    "re.findall(r\"\", text4)"
   ]
  },
  {
   "cell_type": "code",
   "execution_count": null,
   "metadata": {},
   "outputs": [
    {
     "data": {
      "text/plain": [
       "[]"
      ]
     },
     "execution_count": 9,
     "metadata": {},
     "output_type": "execute_result"
    }
   ],
   "source": [
    "re.findall(r\"/[a-z]\", \"cat123 dog45 apple banana\")"
   ]
  },
  {
   "cell_type": "code",
   "execution_count": null,
   "metadata": {},
   "outputs": [],
   "source": [
    "a = \"\""
   ]
  },
  {
   "cell_type": "code",
   "execution_count": null,
   "metadata": {},
   "outputs": [
    {
     "data": {
      "text/plain": [
       "['20250219-09:49:39.874935000 [out] : 8=FIX.4.4',\n",
       " '9=291',\n",
       " '35=8',\n",
       " '34=48945',\n",
       " '49=CENTROID_SOL',\n",
       " '52=20250219-09:49:39.874882',\n",
       " '56=TD_MT5_FIX',\n",
       " '1=BM_MT5_B_2',\n",
       " '6=0.0000000000',\n",
       " '11=e-1739958579793858600',\n",
       " '14=0.00',\n",
       " '17=9756177',\n",
       " '31=0.0000000000',\n",
       " '32=0.00',\n",
       " '37=9756177',\n",
       " '38=1000.00',\n",
       " '39=0',\n",
       " '40=1',\n",
       " '54=1',\n",
       " '55=ADAUSD.x',\n",
       " '58=New Request',\n",
       " '59=3',\n",
       " '60=20250219-09:49:39',\n",
       " '150=0',\n",
       " '151=1000.00',\n",
       " '9999=CenSystem',\n",
       " '10=198',\n",
       " 'a',\n",
       " 'a']"
      ]
     },
     "execution_count": 17,
     "metadata": {},
     "output_type": "execute_result"
    }
   ],
   "source": [
    "import re \n",
    "b = re.split(r\"\\x01\", a)\n",
    "b"
   ]
  },
  {
   "cell_type": "code",
   "execution_count": null,
   "metadata": {},
   "outputs": [
    {
     "name": "stdout",
     "output_type": "stream",
     "text": [
      "38=1000.00\n",
      "39=0\n",
      "55=ADAUSD.x\n"
     ]
    }
   ],
   "source": [
    "for i in range(len(b)):\n",
    "    if not \"38=\" in b[i]:\n",
    "        pass\n",
    "    else: \n",
    "        print(b[i])\n",
    "    if not \"39=\" in b[i]:\n",
    "        pass\n",
    "    else: \n",
    "        print(b[i])\n",
    "    if not \"55=\" in b[i]:\n",
    "        pass\n",
    "    else: \n",
    "        print(b[i])"
   ]
  }
 ],
 "metadata": {
  "kernelspec": {
   "display_name": "comp_ling_env",
   "language": "python",
   "name": "python3"
  },
  "language_info": {
   "codemirror_mode": {
    "name": "ipython",
    "version": 3
   },
   "file_extension": ".py",
   "mimetype": "text/x-python",
   "name": "python",
   "nbconvert_exporter": "python",
   "pygments_lexer": "ipython3",
   "version": "3.10.16"
  }
 },
 "nbformat": 4,
 "nbformat_minor": 2
}
